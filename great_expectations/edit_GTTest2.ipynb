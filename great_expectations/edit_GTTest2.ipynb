{
 "cells": [
  {
   "cell_type": "markdown",
   "id": "4dc7e210",
   "metadata": {},
   "source": [
    "# Initialize a new Expectation Suite by profiling a batch of your data.\n",
    "This process helps you avoid writing lots of boilerplate when authoring suites by allowing you to select columns and other factors that you care about and letting a profiler write some candidate expectations for you to adjust.\n",
    "\n",
    "**Expectation Suite Name**: `GTTest2`\n"
   ]
  },
  {
   "cell_type": "code",
   "execution_count": 1,
   "id": "2dc0feba",
   "metadata": {},
   "outputs": [
    {
     "name": "stdout",
     "output_type": "stream",
     "text": [
      "2022-11-12T15:28:48-0500 - INFO - Great Expectations logging enabled at 20 level by JupyterUX module.\n"
     ]
    },
    {
     "name": "stderr",
     "output_type": "stream",
     "text": [
      "/Users/samk/opt/anaconda3/lib/python3.9/site-packages/great_expectations/execution_engine/pandas_execution_engine.py:325: DtypeWarning: Columns (5) have mixed types. Specify dtype option on import or set low_memory=False.\n",
      "  df = reader_fn(path, **reader_options)\n"
     ]
    },
    {
     "data": {
      "application/vnd.jupyter.widget-view+json": {
       "model_id": "d78876e8e19c4785937ee0913fb4e441",
       "version_major": 2,
       "version_minor": 0
      },
      "text/plain": [
       "Calculating Metrics:   0%|          | 0/2 [00:00<?, ?it/s]"
      ]
     },
     "metadata": {},
     "output_type": "display_data"
    },
    {
     "name": "stdout",
     "output_type": "stream",
     "text": [
      "Columns: \"id\", \"file_name\", \"file_index\", \"img_type\", \"time_utc\", \"minute_offsets\", \"episode_id\", \"event_id\", \"event_type\", \"llcrnrlat\", \"llcrnrlon\", \"urcrnrlat\", \"urcrnrlon\", \"proj\", \"size_x\", \"size_y\", \"height_m\", \"width_m\", \"data_min\", \"data_max\", \"pct_missing\".\n"
     ]
    },
    {
     "data": {
      "application/vnd.jupyter.widget-view+json": {
       "model_id": "6465d6fd75ae4d5cb0806114bee30286",
       "version_major": 2,
       "version_minor": 0
      },
      "text/plain": [
       "Calculating Metrics:   0%|          | 0/1 [00:00<?, ?it/s]"
      ]
     },
     "metadata": {},
     "output_type": "display_data"
    },
    {
     "data": {
      "text/html": [
       "<div>\n",
       "<style scoped>\n",
       "    .dataframe tbody tr th:only-of-type {\n",
       "        vertical-align: middle;\n",
       "    }\n",
       "\n",
       "    .dataframe tbody tr th {\n",
       "        vertical-align: top;\n",
       "    }\n",
       "\n",
       "    .dataframe thead th {\n",
       "        text-align: right;\n",
       "    }\n",
       "</style>\n",
       "<table border=\"1\" class=\"dataframe\">\n",
       "  <thead>\n",
       "    <tr style=\"text-align: right;\">\n",
       "      <th></th>\n",
       "      <th>id</th>\n",
       "      <th>file_name</th>\n",
       "      <th>file_index</th>\n",
       "      <th>img_type</th>\n",
       "      <th>time_utc</th>\n",
       "      <th>minute_offsets</th>\n",
       "      <th>episode_id</th>\n",
       "      <th>event_id</th>\n",
       "      <th>event_type</th>\n",
       "      <th>llcrnrlat</th>\n",
       "      <th>llcrnrlon</th>\n",
       "      <th>urcrnrlat</th>\n",
       "      <th>urcrnrlon</th>\n",
       "      <th>proj</th>\n",
       "      <th>size_x</th>\n",
       "      <th>size_y</th>\n",
       "      <th>height_m</th>\n",
       "      <th>width_m</th>\n",
       "      <th>data_min</th>\n",
       "      <th>data_max</th>\n",
       "      <th>pct_missing</th>\n",
       "    </tr>\n",
       "  </thead>\n",
       "  <tbody>\n",
       "    <tr>\n",
       "      <th>0</th>\n",
       "      <td>R18032505027684</td>\n",
       "      <td>vis/2018/SEVIR_VIS_RANDOMEVENTS_2018_0321_0331.h5</td>\n",
       "      <td>0</td>\n",
       "      <td>vis</td>\n",
       "      <td>2018-03-25 05:00:00</td>\n",
       "      <td>-120:-115:-110:-105:-100:-95:-90:-85:-80:-75:-70:-65:-60:-55:-50:-45:-40:-40:-30:-25:-20:-15:-10:-5:0:5:10:15:20:25:30:35:40:45:50:55:60:65:70:75:80:85:90:95:100:105:110:115:120</td>\n",
       "      <td>NaN</td>\n",
       "      <td>NaN</td>\n",
       "      <td>NaN</td>\n",
       "      <td>33.216708</td>\n",
       "      <td>-91.635132</td>\n",
       "      <td>36.336627</td>\n",
       "      <td>-87.070254</td>\n",
       "      <td>+proj=laea +lat_0=38 +lon_0=-98 +units=m +a=6370997.0 +ellps=sphere</td>\n",
       "      <td>768</td>\n",
       "      <td>768</td>\n",
       "      <td>384000.0</td>\n",
       "      <td>384000.0</td>\n",
       "      <td>-0.003361</td>\n",
       "      <td>0.005600</td>\n",
       "      <td>0.0</td>\n",
       "    </tr>\n",
       "    <tr>\n",
       "      <th>1</th>\n",
       "      <td>R18032505027677</td>\n",
       "      <td>vis/2018/SEVIR_VIS_RANDOMEVENTS_2018_0321_0331.h5</td>\n",
       "      <td>1</td>\n",
       "      <td>vis</td>\n",
       "      <td>2018-03-25 05:00:00</td>\n",
       "      <td>-120:-115:-110:-105:-100:-95:-90:-85:-80:-75:-70:-65:-60:-55:-50:-45:-40:-40:-30:-25:-20:-15:-10:-5:0:5:10:15:20:25:30:35:40:45:50:55:60:65:70:75:80:85:90:95:100:105:110:115:120</td>\n",
       "      <td>NaN</td>\n",
       "      <td>NaN</td>\n",
       "      <td>NaN</td>\n",
       "      <td>33.084309</td>\n",
       "      <td>-91.849435</td>\n",
       "      <td>36.213723</td>\n",
       "      <td>-87.301535</td>\n",
       "      <td>+proj=laea +lat_0=38 +lon_0=-98 +units=m +a=6370997.0 +ellps=sphere</td>\n",
       "      <td>768</td>\n",
       "      <td>768</td>\n",
       "      <td>384000.0</td>\n",
       "      <td>384000.0</td>\n",
       "      <td>-0.003361</td>\n",
       "      <td>0.005600</td>\n",
       "      <td>0.0</td>\n",
       "    </tr>\n",
       "    <tr>\n",
       "      <th>2</th>\n",
       "      <td>R18032505027721</td>\n",
       "      <td>vis/2018/SEVIR_VIS_RANDOMEVENTS_2018_0321_0331.h5</td>\n",
       "      <td>2</td>\n",
       "      <td>vis</td>\n",
       "      <td>2018-03-25 05:00:00</td>\n",
       "      <td>-120:-115:-110:-105:-100:-95:-90:-85:-80:-75:-70:-65:-60:-55:-50:-45:-40:-40:-30:-25:-20:-15:-10:-5:0:5:10:15:20:25:30:35:40:45:50:55:60:65:70:75:80:85:90:95:100:105:110:115:120</td>\n",
       "      <td>NaN</td>\n",
       "      <td>NaN</td>\n",
       "      <td>NaN</td>\n",
       "      <td>46.661866</td>\n",
       "      <td>-123.509928</td>\n",
       "      <td>50.883159</td>\n",
       "      <td>-120.009277</td>\n",
       "      <td>+proj=laea +lat_0=38 +lon_0=-98 +units=m +a=6370997.0 +ellps=sphere</td>\n",
       "      <td>768</td>\n",
       "      <td>768</td>\n",
       "      <td>384000.0</td>\n",
       "      <td>384000.0</td>\n",
       "      <td>-0.002870</td>\n",
       "      <td>0.005548</td>\n",
       "      <td>0.0</td>\n",
       "    </tr>\n",
       "    <tr>\n",
       "      <th>3</th>\n",
       "      <td>R18032516508249</td>\n",
       "      <td>vis/2018/SEVIR_VIS_RANDOMEVENTS_2018_0321_0331.h5</td>\n",
       "      <td>3</td>\n",
       "      <td>vis</td>\n",
       "      <td>2018-03-25 16:50:00</td>\n",
       "      <td>-120:-115:-110:-105:-100:-95:-90:-85:-80:-75:-70:-65:-60:-55:-50:-45:-40:-35:-30:-25:-20:-15:-10:-5:0:5:10:15:20:25:30:35:40:45:50:55:60:60:70:75:80:85:90:95:100:105:110:115:120</td>\n",
       "      <td>NaN</td>\n",
       "      <td>NaN</td>\n",
       "      <td>NaN</td>\n",
       "      <td>40.883237</td>\n",
       "      <td>-85.350213</td>\n",
       "      <td>43.686191</td>\n",
       "      <td>-79.903987</td>\n",
       "      <td>+proj=laea +lat_0=38 +lon_0=-98 +units=m +a=6370997.0 +ellps=sphere</td>\n",
       "      <td>768</td>\n",
       "      <td>768</td>\n",
       "      <td>384000.0</td>\n",
       "      <td>384000.0</td>\n",
       "      <td>0.029911</td>\n",
       "      <td>0.785600</td>\n",
       "      <td>0.0</td>\n",
       "    </tr>\n",
       "    <tr>\n",
       "      <th>4</th>\n",
       "      <td>R18032516507621</td>\n",
       "      <td>vis/2018/SEVIR_VIS_RANDOMEVENTS_2018_0321_0331.h5</td>\n",
       "      <td>4</td>\n",
       "      <td>vis</td>\n",
       "      <td>2018-03-25 16:50:00</td>\n",
       "      <td>-120:-115:-110:-105:-100:-95:-90:-85:-80:-75:-70:-65:-60:-55:-50:-45:-40:-35:-30:-25:-20:-15:-10:-5:0:5:10:15:20:25:30:35:40:45:50:55:60:60:70:75:80:85:90:95:100:105:110:115:120</td>\n",
       "      <td>NaN</td>\n",
       "      <td>NaN</td>\n",
       "      <td>NaN</td>\n",
       "      <td>44.946047</td>\n",
       "      <td>-123.972935</td>\n",
       "      <td>49.169436</td>\n",
       "      <td>-120.575175</td>\n",
       "      <td>+proj=laea +lat_0=38 +lon_0=-98 +units=m +a=6370997.0 +ellps=sphere</td>\n",
       "      <td>768</td>\n",
       "      <td>768</td>\n",
       "      <td>384000.0</td>\n",
       "      <td>384000.0</td>\n",
       "      <td>0.028560</td>\n",
       "      <td>0.792610</td>\n",
       "      <td>0.0</td>\n",
       "    </tr>\n",
       "  </tbody>\n",
       "</table>\n",
       "</div>"
      ],
      "text/plain": [
       "                id                                          file_name  \\\n",
       "0  R18032505027684  vis/2018/SEVIR_VIS_RANDOMEVENTS_2018_0321_0331.h5   \n",
       "1  R18032505027677  vis/2018/SEVIR_VIS_RANDOMEVENTS_2018_0321_0331.h5   \n",
       "2  R18032505027721  vis/2018/SEVIR_VIS_RANDOMEVENTS_2018_0321_0331.h5   \n",
       "3  R18032516508249  vis/2018/SEVIR_VIS_RANDOMEVENTS_2018_0321_0331.h5   \n",
       "4  R18032516507621  vis/2018/SEVIR_VIS_RANDOMEVENTS_2018_0321_0331.h5   \n",
       "\n",
       "   file_index img_type             time_utc  \\\n",
       "0           0      vis  2018-03-25 05:00:00   \n",
       "1           1      vis  2018-03-25 05:00:00   \n",
       "2           2      vis  2018-03-25 05:00:00   \n",
       "3           3      vis  2018-03-25 16:50:00   \n",
       "4           4      vis  2018-03-25 16:50:00   \n",
       "\n",
       "                                                                                                                                                                      minute_offsets  \\\n",
       "0  -120:-115:-110:-105:-100:-95:-90:-85:-80:-75:-70:-65:-60:-55:-50:-45:-40:-40:-30:-25:-20:-15:-10:-5:0:5:10:15:20:25:30:35:40:45:50:55:60:65:70:75:80:85:90:95:100:105:110:115:120   \n",
       "1  -120:-115:-110:-105:-100:-95:-90:-85:-80:-75:-70:-65:-60:-55:-50:-45:-40:-40:-30:-25:-20:-15:-10:-5:0:5:10:15:20:25:30:35:40:45:50:55:60:65:70:75:80:85:90:95:100:105:110:115:120   \n",
       "2  -120:-115:-110:-105:-100:-95:-90:-85:-80:-75:-70:-65:-60:-55:-50:-45:-40:-40:-30:-25:-20:-15:-10:-5:0:5:10:15:20:25:30:35:40:45:50:55:60:65:70:75:80:85:90:95:100:105:110:115:120   \n",
       "3  -120:-115:-110:-105:-100:-95:-90:-85:-80:-75:-70:-65:-60:-55:-50:-45:-40:-35:-30:-25:-20:-15:-10:-5:0:5:10:15:20:25:30:35:40:45:50:55:60:60:70:75:80:85:90:95:100:105:110:115:120   \n",
       "4  -120:-115:-110:-105:-100:-95:-90:-85:-80:-75:-70:-65:-60:-55:-50:-45:-40:-35:-30:-25:-20:-15:-10:-5:0:5:10:15:20:25:30:35:40:45:50:55:60:60:70:75:80:85:90:95:100:105:110:115:120   \n",
       "\n",
       "   episode_id  event_id event_type  llcrnrlat   llcrnrlon  urcrnrlat  \\\n",
       "0         NaN       NaN        NaN  33.216708  -91.635132  36.336627   \n",
       "1         NaN       NaN        NaN  33.084309  -91.849435  36.213723   \n",
       "2         NaN       NaN        NaN  46.661866 -123.509928  50.883159   \n",
       "3         NaN       NaN        NaN  40.883237  -85.350213  43.686191   \n",
       "4         NaN       NaN        NaN  44.946047 -123.972935  49.169436   \n",
       "\n",
       "    urcrnrlon  \\\n",
       "0  -87.070254   \n",
       "1  -87.301535   \n",
       "2 -120.009277   \n",
       "3  -79.903987   \n",
       "4 -120.575175   \n",
       "\n",
       "                                                                   proj  \\\n",
       "0  +proj=laea +lat_0=38 +lon_0=-98 +units=m +a=6370997.0 +ellps=sphere    \n",
       "1  +proj=laea +lat_0=38 +lon_0=-98 +units=m +a=6370997.0 +ellps=sphere    \n",
       "2  +proj=laea +lat_0=38 +lon_0=-98 +units=m +a=6370997.0 +ellps=sphere    \n",
       "3  +proj=laea +lat_0=38 +lon_0=-98 +units=m +a=6370997.0 +ellps=sphere    \n",
       "4  +proj=laea +lat_0=38 +lon_0=-98 +units=m +a=6370997.0 +ellps=sphere    \n",
       "\n",
       "   size_x  size_y  height_m   width_m  data_min  data_max  pct_missing  \n",
       "0     768     768  384000.0  384000.0 -0.003361  0.005600          0.0  \n",
       "1     768     768  384000.0  384000.0 -0.003361  0.005600          0.0  \n",
       "2     768     768  384000.0  384000.0 -0.002870  0.005548          0.0  \n",
       "3     768     768  384000.0  384000.0  0.029911  0.785600          0.0  \n",
       "4     768     768  384000.0  384000.0  0.028560  0.792610          0.0  "
      ]
     },
     "execution_count": 1,
     "metadata": {},
     "output_type": "execute_result"
    }
   ],
   "source": [
    "import datetime\n",
    "\n",
    "import pandas as pd\n",
    "\n",
    "import great_expectations as ge\n",
    "import great_expectations.jupyter_ux\n",
    "from great_expectations.core.batch import BatchRequest\n",
    "from great_expectations.checkpoint import SimpleCheckpoint\n",
    "from great_expectations.exceptions import DataContextError\n",
    "\n",
    "context = ge.data_context.DataContext()\n",
    "\n",
    "batch_request = {\n",
    "    \"datasource_name\": \"Test1\",\n",
    "    \"data_connector_name\": \"default_inferred_data_connector_name\",\n",
    "    \"data_asset_name\": \"CATALOG.csv\",\n",
    "    \"limit\": 1000,\n",
    "}\n",
    "\n",
    "expectation_suite_name = \"GTTest2\"\n",
    "\n",
    "validator = context.get_validator(\n",
    "    batch_request=BatchRequest(**batch_request),\n",
    "    expectation_suite_name=expectation_suite_name,\n",
    ")\n",
    "column_names = [f'\"{column_name}\"' for column_name in validator.columns()]\n",
    "print(f\"Columns: {', '.join(column_names)}.\")\n",
    "validator.head(n_rows=5, fetch_all=False)"
   ]
  },
  {
   "cell_type": "markdown",
   "id": "20d29e0c",
   "metadata": {},
   "source": [
    "# Select columns\n",
    "\n",
    "Select the columns on which you would like to set expectations and those which you would like to ignore.\n",
    "\n",
    "Great Expectations will choose which expectations might make sense for a column based on the **data type** and **cardinality** of the data in each selected column.\n",
    "\n",
    "Simply comment out columns that are important and should be included. You can select multiple lines and use a Jupyter\n",
    "keyboard shortcut to toggle each line: **Linux/Windows**:\n",
    "`Ctrl-/`, **macOS**: `Cmd-/`\n",
    "\n",
    "Other directives are shown (commented out) as examples of the depth of control possible (see documentation for details).\n"
   ]
  },
  {
   "cell_type": "code",
   "execution_count": 2,
   "id": "b65d7891",
   "metadata": {},
   "outputs": [],
   "source": [
    "exclude_column_names = [\n",
    "    \"id\",\n",
    "    \"file_name\",\n",
    "    \"file_index\",\n",
    "    \"img_type\",\n",
    "    \"time_utc\",\n",
    "    \"minute_offsets\",\n",
    "]"
   ]
  },
  {
   "cell_type": "markdown",
   "id": "69ce8c77",
   "metadata": {},
   "source": [
    "# Run the OnboardingDataAssistant\n",
    "\n",
    "The suites generated here are **not meant to be production suites** -- they are **a starting point to build upon**.\n",
    "\n",
    "**To get to a production-grade suite, you will definitely want to [edit this\n",
    "suite](https://docs.greatexpectations.io/docs/guides/expectations/create_expectations_overview#editing-a-saved-expectation-suite)\n",
    "after this initial step gets you started on the path towards what you want.**\n",
    "\n",
    "This is highly configurable depending on your goals.\n",
    "You can ignore columns, specify cardinality of categorical columns, configure semantic types for columns, even adjust thresholds and/or different estimator parameters, etc.\n",
    "You can find more information about OnboardingDataAssistant and other DataAssistant components (please see documentation for the complete set of DataAssistant controls) [how to choose and control the behavior of the DataAssistant tailored to your goals](https://docs.greatexpectations.io/docs/guides/expectations/data_assistants/how_to_create_an_expectation_suite_with_the_onboarding_data_assistant).\n",
    "\n",
    "Performance considerations:\n",
    "- Latency: We optimized for an explicit \"question/answer\" design, which means we issue **lots** of queries. Connection latency will impact performance.\n",
    "- Data Volume: Small samples of data will often give you a great starting point for understanding the dataset. Consider configuring a sampled asset and profiling a small number of batches.\n",
    "    "
   ]
  },
  {
   "cell_type": "code",
   "execution_count": 3,
   "id": "ab8907a2",
   "metadata": {},
   "outputs": [
    {
     "name": "stdout",
     "output_type": "stream",
     "text": [
      "\n"
     ]
    },
    {
     "name": "stderr",
     "output_type": "stream",
     "text": [
      "/Users/samk/opt/anaconda3/lib/python3.9/site-packages/great_expectations/execution_engine/pandas_execution_engine.py:325: DtypeWarning: Columns (5) have mixed types. Specify dtype option on import or set low_memory=False.\n",
      "  df = reader_fn(path, **reader_options)\n"
     ]
    },
    {
     "data": {
      "application/vnd.jupyter.widget-view+json": {
       "model_id": "a2442aa0dae549aca8ab228eb46842fc",
       "version_major": 2,
       "version_minor": 0
      },
      "text/plain": [
       "Generating Expectations:   0%|          | 0/8 [00:00<?, ?it/s]"
      ]
     },
     "metadata": {},
     "output_type": "display_data"
    },
    {
     "data": {
      "application/vnd.jupyter.widget-view+json": {
       "model_id": "",
       "version_major": 2,
       "version_minor": 0
      },
      "text/plain": [
       "Profiling Dataset:         0%|          | 0/1 [00:00<?, ?it/s]"
      ]
     },
     "metadata": {},
     "output_type": "display_data"
    },
    {
     "data": {
      "application/vnd.jupyter.widget-view+json": {
       "model_id": "8d0dcbf4f7e64105b26c37945f5a6eea",
       "version_major": 2,
       "version_minor": 0
      },
      "text/plain": [
       "Calculating Metrics:   0%|          | 0/1 [00:00<?, ?it/s]"
      ]
     },
     "metadata": {},
     "output_type": "display_data"
    },
    {
     "data": {
      "application/vnd.jupyter.widget-view+json": {
       "model_id": "3ad53aee07944a74bc802ffc799f4f2c",
       "version_major": 2,
       "version_minor": 0
      },
      "text/plain": [
       "Calculating Metrics:   0%|          | 0/2 [00:00<?, ?it/s]"
      ]
     },
     "metadata": {},
     "output_type": "display_data"
    },
    {
     "data": {
      "application/vnd.jupyter.widget-view+json": {
       "model_id": "31b21c6a7d1f400ebfc531d12c31877f",
       "version_major": 2,
       "version_minor": 0
      },
      "text/plain": [
       "Calculating Metrics:   0%|          | 0/2 [00:00<?, ?it/s]"
      ]
     },
     "metadata": {},
     "output_type": "display_data"
    },
    {
     "data": {
      "application/vnd.jupyter.widget-view+json": {
       "model_id": "022f429b5300414e9bfba1ab1f128149",
       "version_major": 2,
       "version_minor": 0
      },
      "text/plain": [
       "Calculating Metrics:   0%|          | 0/2 [00:00<?, ?it/s]"
      ]
     },
     "metadata": {},
     "output_type": "display_data"
    },
    {
     "data": {
      "application/vnd.jupyter.widget-view+json": {
       "model_id": "e7eb3e55748a45fe9476e5576fb0b34a",
       "version_major": 2,
       "version_minor": 0
      },
      "text/plain": [
       "Calculating Metrics:   0%|          | 0/1 [00:00<?, ?it/s]"
      ]
     },
     "metadata": {},
     "output_type": "display_data"
    },
    {
     "data": {
      "application/vnd.jupyter.widget-view+json": {
       "model_id": "ff35fbaa078745b1842c8f16ef19aac2",
       "version_major": 2,
       "version_minor": 0
      },
      "text/plain": [
       "Calculating Metrics:   0%|          | 0/1 [00:00<?, ?it/s]"
      ]
     },
     "metadata": {},
     "output_type": "display_data"
    },
    {
     "data": {
      "application/vnd.jupyter.widget-view+json": {
       "model_id": "acc95d82fbf44313b6ed0589741b361b",
       "version_major": 2,
       "version_minor": 0
      },
      "text/plain": [
       "Calculating Metrics:   0%|          | 0/29 [00:00<?, ?it/s]"
      ]
     },
     "metadata": {},
     "output_type": "display_data"
    },
    {
     "data": {
      "application/vnd.jupyter.widget-view+json": {
       "model_id": "",
       "version_major": 2,
       "version_minor": 0
      },
      "text/plain": [
       "Profiling Dataset:         0%|          | 0/0 [00:00<?, ?it/s]"
      ]
     },
     "metadata": {},
     "output_type": "display_data"
    },
    {
     "data": {
      "application/vnd.jupyter.widget-view+json": {
       "model_id": "0f90012d41ed4372ac80d092296ef080",
       "version_major": 2,
       "version_minor": 0
      },
      "text/plain": [
       "Calculating Metrics:   0%|          | 0/2 [00:00<?, ?it/s]"
      ]
     },
     "metadata": {},
     "output_type": "display_data"
    },
    {
     "data": {
      "application/vnd.jupyter.widget-view+json": {
       "model_id": "31486b1b5fc64a2185c5c7501c935451",
       "version_major": 2,
       "version_minor": 0
      },
      "text/plain": [
       "Calculating Metrics:   0%|          | 0/1 [00:00<?, ?it/s]"
      ]
     },
     "metadata": {},
     "output_type": "display_data"
    },
    {
     "data": {
      "application/vnd.jupyter.widget-view+json": {
       "model_id": "75c73506d30346acae1b1813ef66da87",
       "version_major": 2,
       "version_minor": 0
      },
      "text/plain": [
       "Calculating Metrics:   0%|          | 0/1 [00:00<?, ?it/s]"
      ]
     },
     "metadata": {},
     "output_type": "display_data"
    },
    {
     "data": {
      "application/vnd.jupyter.widget-view+json": {
       "model_id": "16937ad1d8b6467284dd41860a511944",
       "version_major": 2,
       "version_minor": 0
      },
      "text/plain": [
       "Calculating Metrics:   0%|          | 0/29 [00:00<?, ?it/s]"
      ]
     },
     "metadata": {},
     "output_type": "display_data"
    },
    {
     "data": {
      "application/vnd.jupyter.widget-view+json": {
       "model_id": "",
       "version_major": 2,
       "version_minor": 0
      },
      "text/plain": [
       "Profiling Dataset:         0%|          | 0/0 [00:00<?, ?it/s]"
      ]
     },
     "metadata": {},
     "output_type": "display_data"
    },
    {
     "data": {
      "application/vnd.jupyter.widget-view+json": {
       "model_id": "5432be1713e948e58780187121aeb35f",
       "version_major": 2,
       "version_minor": 0
      },
      "text/plain": [
       "Calculating Metrics:   0%|          | 0/2 [00:00<?, ?it/s]"
      ]
     },
     "metadata": {},
     "output_type": "display_data"
    },
    {
     "data": {
      "application/vnd.jupyter.widget-view+json": {
       "model_id": "c499ed36d7484c4e9cc2ac5cfee05008",
       "version_major": 2,
       "version_minor": 0
      },
      "text/plain": [
       "Calculating Metrics:   0%|          | 0/1 [00:00<?, ?it/s]"
      ]
     },
     "metadata": {},
     "output_type": "display_data"
    },
    {
     "data": {
      "application/vnd.jupyter.widget-view+json": {
       "model_id": "def2a4bb66504559855e967774d9be91",
       "version_major": 2,
       "version_minor": 0
      },
      "text/plain": [
       "Calculating Metrics:   0%|          | 0/1 [00:00<?, ?it/s]"
      ]
     },
     "metadata": {},
     "output_type": "display_data"
    },
    {
     "data": {
      "application/vnd.jupyter.widget-view+json": {
       "model_id": "0465d849852544e7955205bdb039d04a",
       "version_major": 2,
       "version_minor": 0
      },
      "text/plain": [
       "Calculating Metrics:   0%|          | 0/29 [00:00<?, ?it/s]"
      ]
     },
     "metadata": {},
     "output_type": "display_data"
    },
    {
     "data": {
      "application/vnd.jupyter.widget-view+json": {
       "model_id": "",
       "version_major": 2,
       "version_minor": 0
      },
      "text/plain": [
       "Profiling Dataset:         0%|          | 0/10 [00:00<?, ?it/s]"
      ]
     },
     "metadata": {},
     "output_type": "display_data"
    },
    {
     "data": {
      "application/vnd.jupyter.widget-view+json": {
       "model_id": "e69788f44cd14ca7a5d1ffdc07277c7c",
       "version_major": 2,
       "version_minor": 0
      },
      "text/plain": [
       "Calculating Metrics:   0%|          | 0/5 [00:00<?, ?it/s]"
      ]
     },
     "metadata": {},
     "output_type": "display_data"
    },
    {
     "data": {
      "application/vnd.jupyter.widget-view+json": {
       "model_id": "dd18cfd4164e4ce79e979ebb710a2e21",
       "version_major": 2,
       "version_minor": 0
      },
      "text/plain": [
       "Calculating Metrics:   0%|          | 0/1 [00:00<?, ?it/s]"
      ]
     },
     "metadata": {},
     "output_type": "display_data"
    },
    {
     "data": {
      "application/vnd.jupyter.widget-view+json": {
       "model_id": "874b10f7a22b40cb98d33ab64a9d4804",
       "version_major": 2,
       "version_minor": 0
      },
      "text/plain": [
       "Calculating Metrics:   0%|          | 0/5 [00:00<?, ?it/s]"
      ]
     },
     "metadata": {},
     "output_type": "display_data"
    },
    {
     "data": {
      "application/vnd.jupyter.widget-view+json": {
       "model_id": "937d757a9ea24c86a5e470d3240fc17f",
       "version_major": 2,
       "version_minor": 0
      },
      "text/plain": [
       "Calculating Metrics:   0%|          | 0/5 [00:00<?, ?it/s]"
      ]
     },
     "metadata": {},
     "output_type": "display_data"
    },
    {
     "data": {
      "application/vnd.jupyter.widget-view+json": {
       "model_id": "793cdeea2ee14ef0beaa52a1dc2d03c8",
       "version_major": 2,
       "version_minor": 0
      },
      "text/plain": [
       "Calculating Metrics:   0%|          | 0/5 [00:00<?, ?it/s]"
      ]
     },
     "metadata": {},
     "output_type": "display_data"
    },
    {
     "data": {
      "application/vnd.jupyter.widget-view+json": {
       "model_id": "7650fd3775744574a079dd77e5360fb6",
       "version_major": 2,
       "version_minor": 0
      },
      "text/plain": [
       "Calculating Metrics:   0%|          | 0/1 [00:00<?, ?it/s]"
      ]
     },
     "metadata": {},
     "output_type": "display_data"
    },
    {
     "data": {
      "application/vnd.jupyter.widget-view+json": {
       "model_id": "23d834c2e4334c0788f0e6207146d047",
       "version_major": 2,
       "version_minor": 0
      },
      "text/plain": [
       "Calculating Metrics:   0%|          | 0/5 [00:00<?, ?it/s]"
      ]
     },
     "metadata": {},
     "output_type": "display_data"
    },
    {
     "data": {
      "application/vnd.jupyter.widget-view+json": {
       "model_id": "1136e262e5094a978758164f44e76c64",
       "version_major": 2,
       "version_minor": 0
      },
      "text/plain": [
       "Calculating Metrics:   0%|          | 0/5 [00:00<?, ?it/s]"
      ]
     },
     "metadata": {},
     "output_type": "display_data"
    },
    {
     "data": {
      "application/vnd.jupyter.widget-view+json": {
       "model_id": "9cf203ffd5544a4d95fa5558ace2cc1d",
       "version_major": 2,
       "version_minor": 0
      },
      "text/plain": [
       "Calculating Metrics:   0%|          | 0/5 [00:00<?, ?it/s]"
      ]
     },
     "metadata": {},
     "output_type": "display_data"
    },
    {
     "data": {
      "application/vnd.jupyter.widget-view+json": {
       "model_id": "f9a55e8e1f674e86953773a23c48c87d",
       "version_major": 2,
       "version_minor": 0
      },
      "text/plain": [
       "Calculating Metrics:   0%|          | 0/1 [00:00<?, ?it/s]"
      ]
     },
     "metadata": {},
     "output_type": "display_data"
    },
    {
     "data": {
      "application/vnd.jupyter.widget-view+json": {
       "model_id": "7aaee2e25395450f960c333debb44d8f",
       "version_major": 2,
       "version_minor": 0
      },
      "text/plain": [
       "Calculating Metrics:   0%|          | 0/5 [00:00<?, ?it/s]"
      ]
     },
     "metadata": {},
     "output_type": "display_data"
    },
    {
     "data": {
      "application/vnd.jupyter.widget-view+json": {
       "model_id": "5ccdede3be014b8797287dce71d88602",
       "version_major": 2,
       "version_minor": 0
      },
      "text/plain": [
       "Calculating Metrics:   0%|          | 0/5 [00:00<?, ?it/s]"
      ]
     },
     "metadata": {},
     "output_type": "display_data"
    },
    {
     "data": {
      "application/vnd.jupyter.widget-view+json": {
       "model_id": "631aa9aa63e44f74af1d1b9e010f9339",
       "version_major": 2,
       "version_minor": 0
      },
      "text/plain": [
       "Calculating Metrics:   0%|          | 0/5 [00:00<?, ?it/s]"
      ]
     },
     "metadata": {},
     "output_type": "display_data"
    },
    {
     "data": {
      "application/vnd.jupyter.widget-view+json": {
       "model_id": "113f02c634cc45a7a7964e2db385f5aa",
       "version_major": 2,
       "version_minor": 0
      },
      "text/plain": [
       "Calculating Metrics:   0%|          | 0/1 [00:00<?, ?it/s]"
      ]
     },
     "metadata": {},
     "output_type": "display_data"
    },
    {
     "data": {
      "application/vnd.jupyter.widget-view+json": {
       "model_id": "a7830a48437b4642816c44fdf681587f",
       "version_major": 2,
       "version_minor": 0
      },
      "text/plain": [
       "Calculating Metrics:   0%|          | 0/5 [00:00<?, ?it/s]"
      ]
     },
     "metadata": {},
     "output_type": "display_data"
    },
    {
     "data": {
      "application/vnd.jupyter.widget-view+json": {
       "model_id": "607671f1b4b146079f9d2a4213f1d64d",
       "version_major": 2,
       "version_minor": 0
      },
      "text/plain": [
       "Calculating Metrics:   0%|          | 0/5 [00:00<?, ?it/s]"
      ]
     },
     "metadata": {},
     "output_type": "display_data"
    },
    {
     "data": {
      "application/vnd.jupyter.widget-view+json": {
       "model_id": "bdc85a644d3c4ee1a5bb335473c00c35",
       "version_major": 2,
       "version_minor": 0
      },
      "text/plain": [
       "Calculating Metrics:   0%|          | 0/5 [00:00<?, ?it/s]"
      ]
     },
     "metadata": {},
     "output_type": "display_data"
    },
    {
     "data": {
      "application/vnd.jupyter.widget-view+json": {
       "model_id": "6a6f1c1b87264b69bae7650a97b11bd6",
       "version_major": 2,
       "version_minor": 0
      },
      "text/plain": [
       "Calculating Metrics:   0%|          | 0/1 [00:00<?, ?it/s]"
      ]
     },
     "metadata": {},
     "output_type": "display_data"
    },
    {
     "data": {
      "application/vnd.jupyter.widget-view+json": {
       "model_id": "1f392028f8da49d7a35f3fdd36dd14c6",
       "version_major": 2,
       "version_minor": 0
      },
      "text/plain": [
       "Calculating Metrics:   0%|          | 0/5 [00:00<?, ?it/s]"
      ]
     },
     "metadata": {},
     "output_type": "display_data"
    },
    {
     "data": {
      "application/vnd.jupyter.widget-view+json": {
       "model_id": "df7d0d51dc9744e7859bd784080d89cf",
       "version_major": 2,
       "version_minor": 0
      },
      "text/plain": [
       "Calculating Metrics:   0%|          | 0/5 [00:00<?, ?it/s]"
      ]
     },
     "metadata": {},
     "output_type": "display_data"
    },
    {
     "data": {
      "application/vnd.jupyter.widget-view+json": {
       "model_id": "6c75fed6d5dd4f33b5d1610a30cf9bc6",
       "version_major": 2,
       "version_minor": 0
      },
      "text/plain": [
       "Calculating Metrics:   0%|          | 0/5 [00:00<?, ?it/s]"
      ]
     },
     "metadata": {},
     "output_type": "display_data"
    },
    {
     "data": {
      "application/vnd.jupyter.widget-view+json": {
       "model_id": "6463fd9d0f6f44dc939cc26b59646d30",
       "version_major": 2,
       "version_minor": 0
      },
      "text/plain": [
       "Calculating Metrics:   0%|          | 0/1 [00:00<?, ?it/s]"
      ]
     },
     "metadata": {},
     "output_type": "display_data"
    },
    {
     "data": {
      "application/vnd.jupyter.widget-view+json": {
       "model_id": "1a30c6b8875c4a4a9f232247d3fb91a7",
       "version_major": 2,
       "version_minor": 0
      },
      "text/plain": [
       "Calculating Metrics:   0%|          | 0/5 [00:00<?, ?it/s]"
      ]
     },
     "metadata": {},
     "output_type": "display_data"
    },
    {
     "data": {
      "application/vnd.jupyter.widget-view+json": {
       "model_id": "ff44dafc9cb44c03be307f01746b4f4f",
       "version_major": 2,
       "version_minor": 0
      },
      "text/plain": [
       "Calculating Metrics:   0%|          | 0/5 [00:00<?, ?it/s]"
      ]
     },
     "metadata": {},
     "output_type": "display_data"
    },
    {
     "data": {
      "application/vnd.jupyter.widget-view+json": {
       "model_id": "9d9c043a395b46b8956bc921b396139e",
       "version_major": 2,
       "version_minor": 0
      },
      "text/plain": [
       "Calculating Metrics:   0%|          | 0/5 [00:00<?, ?it/s]"
      ]
     },
     "metadata": {},
     "output_type": "display_data"
    },
    {
     "data": {
      "application/vnd.jupyter.widget-view+json": {
       "model_id": "683d4f637dc64acfa3309225fc3fc67c",
       "version_major": 2,
       "version_minor": 0
      },
      "text/plain": [
       "Calculating Metrics:   0%|          | 0/1 [00:00<?, ?it/s]"
      ]
     },
     "metadata": {},
     "output_type": "display_data"
    },
    {
     "data": {
      "application/vnd.jupyter.widget-view+json": {
       "model_id": "e8e73ee26d924b7a9a8f515947436621",
       "version_major": 2,
       "version_minor": 0
      },
      "text/plain": [
       "Calculating Metrics:   0%|          | 0/5 [00:00<?, ?it/s]"
      ]
     },
     "metadata": {},
     "output_type": "display_data"
    },
    {
     "data": {
      "application/vnd.jupyter.widget-view+json": {
       "model_id": "a9f2806a8e084b4d8229dd73b46088af",
       "version_major": 2,
       "version_minor": 0
      },
      "text/plain": [
       "Calculating Metrics:   0%|          | 0/5 [00:00<?, ?it/s]"
      ]
     },
     "metadata": {},
     "output_type": "display_data"
    },
    {
     "data": {
      "application/vnd.jupyter.widget-view+json": {
       "model_id": "754d8d7cc2f04cd6bc6efae88f7b86c6",
       "version_major": 2,
       "version_minor": 0
      },
      "text/plain": [
       "Calculating Metrics:   0%|          | 0/5 [00:00<?, ?it/s]"
      ]
     },
     "metadata": {},
     "output_type": "display_data"
    },
    {
     "data": {
      "application/vnd.jupyter.widget-view+json": {
       "model_id": "8e4550710d094025b4db66af9cdaef77",
       "version_major": 2,
       "version_minor": 0
      },
      "text/plain": [
       "Calculating Metrics:   0%|          | 0/1 [00:00<?, ?it/s]"
      ]
     },
     "metadata": {},
     "output_type": "display_data"
    },
    {
     "data": {
      "application/vnd.jupyter.widget-view+json": {
       "model_id": "09140a9e90cf4c378011326a78ea9172",
       "version_major": 2,
       "version_minor": 0
      },
      "text/plain": [
       "Calculating Metrics:   0%|          | 0/5 [00:00<?, ?it/s]"
      ]
     },
     "metadata": {},
     "output_type": "display_data"
    },
    {
     "data": {
      "application/vnd.jupyter.widget-view+json": {
       "model_id": "7e56c31df9094d878a7f369442d4aa0a",
       "version_major": 2,
       "version_minor": 0
      },
      "text/plain": [
       "Calculating Metrics:   0%|          | 0/5 [00:00<?, ?it/s]"
      ]
     },
     "metadata": {},
     "output_type": "display_data"
    },
    {
     "data": {
      "application/vnd.jupyter.widget-view+json": {
       "model_id": "7746048027f24c2baf8e9d3957221b46",
       "version_major": 2,
       "version_minor": 0
      },
      "text/plain": [
       "Calculating Metrics:   0%|          | 0/5 [00:00<?, ?it/s]"
      ]
     },
     "metadata": {},
     "output_type": "display_data"
    },
    {
     "data": {
      "application/vnd.jupyter.widget-view+json": {
       "model_id": "0fd8cfa2a91c435e98629d788f6a2b05",
       "version_major": 2,
       "version_minor": 0
      },
      "text/plain": [
       "Calculating Metrics:   0%|          | 0/1 [00:00<?, ?it/s]"
      ]
     },
     "metadata": {},
     "output_type": "display_data"
    },
    {
     "data": {
      "application/vnd.jupyter.widget-view+json": {
       "model_id": "783d7c5f1a2f42528a13debce78887f9",
       "version_major": 2,
       "version_minor": 0
      },
      "text/plain": [
       "Calculating Metrics:   0%|          | 0/5 [00:00<?, ?it/s]"
      ]
     },
     "metadata": {},
     "output_type": "display_data"
    },
    {
     "data": {
      "application/vnd.jupyter.widget-view+json": {
       "model_id": "2af1a51030f54f389892cbe0121a98f4",
       "version_major": 2,
       "version_minor": 0
      },
      "text/plain": [
       "Calculating Metrics:   0%|          | 0/5 [00:00<?, ?it/s]"
      ]
     },
     "metadata": {},
     "output_type": "display_data"
    },
    {
     "data": {
      "application/vnd.jupyter.widget-view+json": {
       "model_id": "78bf1610286f4fc5b2844c862fb59219",
       "version_major": 2,
       "version_minor": 0
      },
      "text/plain": [
       "Calculating Metrics:   0%|          | 0/5 [00:00<?, ?it/s]"
      ]
     },
     "metadata": {},
     "output_type": "display_data"
    },
    {
     "data": {
      "application/vnd.jupyter.widget-view+json": {
       "model_id": "6ce751cfe35341d2af12ef8e7a5f38de",
       "version_major": 2,
       "version_minor": 0
      },
      "text/plain": [
       "Calculating Metrics:   0%|          | 0/1 [00:00<?, ?it/s]"
      ]
     },
     "metadata": {},
     "output_type": "display_data"
    },
    {
     "data": {
      "application/vnd.jupyter.widget-view+json": {
       "model_id": "64f3f5f81c45416697b25cac4150e99d",
       "version_major": 2,
       "version_minor": 0
      },
      "text/plain": [
       "Calculating Metrics:   0%|          | 0/5 [00:00<?, ?it/s]"
      ]
     },
     "metadata": {},
     "output_type": "display_data"
    },
    {
     "data": {
      "application/vnd.jupyter.widget-view+json": {
       "model_id": "0d44e76345a34c1b8ed65278237324fe",
       "version_major": 2,
       "version_minor": 0
      },
      "text/plain": [
       "Calculating Metrics:   0%|          | 0/5 [00:00<?, ?it/s]"
      ]
     },
     "metadata": {},
     "output_type": "display_data"
    },
    {
     "data": {
      "application/vnd.jupyter.widget-view+json": {
       "model_id": "0bb40b9d66e448a1b13e3ba4bdb9cc2f",
       "version_major": 2,
       "version_minor": 0
      },
      "text/plain": [
       "Calculating Metrics:   0%|          | 0/2 [00:00<?, ?it/s]"
      ]
     },
     "metadata": {},
     "output_type": "display_data"
    },
    {
     "data": {
      "application/vnd.jupyter.widget-view+json": {
       "model_id": "42807b8f8c674d7c9d87f3fd42ba78f6",
       "version_major": 2,
       "version_minor": 0
      },
      "text/plain": [
       "Calculating Metrics:   0%|          | 0/1 [00:00<?, ?it/s]"
      ]
     },
     "metadata": {},
     "output_type": "display_data"
    },
    {
     "data": {
      "application/vnd.jupyter.widget-view+json": {
       "model_id": "",
       "version_major": 2,
       "version_minor": 0
      },
      "text/plain": [
       "Profiling Dataset:         0%|          | 0/11 [00:00<?, ?it/s]"
      ]
     },
     "metadata": {},
     "output_type": "display_data"
    },
    {
     "data": {
      "application/vnd.jupyter.widget-view+json": {
       "model_id": "4b967bb6205844eb8c7097c71c76ccfe",
       "version_major": 2,
       "version_minor": 0
      },
      "text/plain": [
       "Calculating Metrics:   0%|          | 0/6 [00:00<?, ?it/s]"
      ]
     },
     "metadata": {},
     "output_type": "display_data"
    },
    {
     "data": {
      "application/vnd.jupyter.widget-view+json": {
       "model_id": "75347388e3ed4f85a0607dfb11330133",
       "version_major": 2,
       "version_minor": 0
      },
      "text/plain": [
       "Calculating Metrics:   0%|          | 0/6 [00:00<?, ?it/s]"
      ]
     },
     "metadata": {},
     "output_type": "display_data"
    },
    {
     "data": {
      "application/vnd.jupyter.widget-view+json": {
       "model_id": "a01e78c4e5384c07ba5f12b71d783f1c",
       "version_major": 2,
       "version_minor": 0
      },
      "text/plain": [
       "Calculating Metrics:   0%|          | 0/4 [00:00<?, ?it/s]"
      ]
     },
     "metadata": {},
     "output_type": "display_data"
    },
    {
     "data": {
      "application/vnd.jupyter.widget-view+json": {
       "model_id": "fa84db2ed9be4ae9bfc6f76564664c39",
       "version_major": 2,
       "version_minor": 0
      },
      "text/plain": [
       "Calculating Metrics:   0%|          | 0/4 [00:00<?, ?it/s]"
      ]
     },
     "metadata": {},
     "output_type": "display_data"
    },
    {
     "data": {
      "application/vnd.jupyter.widget-view+json": {
       "model_id": "b7e0b646f5f1431b830b4cda59b53535",
       "version_major": 2,
       "version_minor": 0
      },
      "text/plain": [
       "Calculating Metrics:   0%|          | 0/4 [00:00<?, ?it/s]"
      ]
     },
     "metadata": {},
     "output_type": "display_data"
    },
    {
     "data": {
      "application/vnd.jupyter.widget-view+json": {
       "model_id": "b7c42f3a41a3481cb8ed70305ad24daf",
       "version_major": 2,
       "version_minor": 0
      },
      "text/plain": [
       "Calculating Metrics:   0%|          | 0/4 [00:00<?, ?it/s]"
      ]
     },
     "metadata": {},
     "output_type": "display_data"
    },
    {
     "data": {
      "application/vnd.jupyter.widget-view+json": {
       "model_id": "775c60ff036f40828c0e24373c1d8c73",
       "version_major": 2,
       "version_minor": 0
      },
      "text/plain": [
       "Calculating Metrics:   0%|          | 0/4 [00:00<?, ?it/s]"
      ]
     },
     "metadata": {},
     "output_type": "display_data"
    },
    {
     "data": {
      "application/vnd.jupyter.widget-view+json": {
       "model_id": "6a1535e773a14e1ea27c1b402713c4dd",
       "version_major": 2,
       "version_minor": 0
      },
      "text/plain": [
       "Calculating Metrics:   0%|          | 0/4 [00:00<?, ?it/s]"
      ]
     },
     "metadata": {},
     "output_type": "display_data"
    },
    {
     "data": {
      "application/vnd.jupyter.widget-view+json": {
       "model_id": "9bbc11f731934dea8140b54aac2e9957",
       "version_major": 2,
       "version_minor": 0
      },
      "text/plain": [
       "Calculating Metrics:   0%|          | 0/4 [00:00<?, ?it/s]"
      ]
     },
     "metadata": {},
     "output_type": "display_data"
    },
    {
     "data": {
      "application/vnd.jupyter.widget-view+json": {
       "model_id": "280089f063db4c56a06e81f8fae9285c",
       "version_major": 2,
       "version_minor": 0
      },
      "text/plain": [
       "Calculating Metrics:   0%|          | 0/6 [00:00<?, ?it/s]"
      ]
     },
     "metadata": {},
     "output_type": "display_data"
    },
    {
     "data": {
      "application/vnd.jupyter.widget-view+json": {
       "model_id": "8d86e4e8470540d5b6bf749fe5d1b4fc",
       "version_major": 2,
       "version_minor": 0
      },
      "text/plain": [
       "Calculating Metrics:   0%|          | 0/6 [00:00<?, ?it/s]"
      ]
     },
     "metadata": {},
     "output_type": "display_data"
    },
    {
     "data": {
      "application/vnd.jupyter.widget-view+json": {
       "model_id": "e0909418ade341d9876532139cb273f1",
       "version_major": 2,
       "version_minor": 0
      },
      "text/plain": [
       "Calculating Metrics:   0%|          | 0/4 [00:00<?, ?it/s]"
      ]
     },
     "metadata": {},
     "output_type": "display_data"
    },
    {
     "data": {
      "application/vnd.jupyter.widget-view+json": {
       "model_id": "ee2b37055ebf43019a555b57dc22245c",
       "version_major": 2,
       "version_minor": 0
      },
      "text/plain": [
       "Calculating Metrics:   0%|          | 0/4 [00:00<?, ?it/s]"
      ]
     },
     "metadata": {},
     "output_type": "display_data"
    },
    {
     "data": {
      "application/vnd.jupyter.widget-view+json": {
       "model_id": "8ac54f5c66cb4dff9621711226dc275d",
       "version_major": 2,
       "version_minor": 0
      },
      "text/plain": [
       "Calculating Metrics:   0%|          | 0/4 [00:00<?, ?it/s]"
      ]
     },
     "metadata": {},
     "output_type": "display_data"
    },
    {
     "data": {
      "application/vnd.jupyter.widget-view+json": {
       "model_id": "abd096fa534d433d93aac1258e1ce506",
       "version_major": 2,
       "version_minor": 0
      },
      "text/plain": [
       "Calculating Metrics:   0%|          | 0/4 [00:00<?, ?it/s]"
      ]
     },
     "metadata": {},
     "output_type": "display_data"
    },
    {
     "data": {
      "application/vnd.jupyter.widget-view+json": {
       "model_id": "b53ce17f2ee44186bfeb573b0ac418ac",
       "version_major": 2,
       "version_minor": 0
      },
      "text/plain": [
       "Calculating Metrics:   0%|          | 0/4 [00:00<?, ?it/s]"
      ]
     },
     "metadata": {},
     "output_type": "display_data"
    },
    {
     "data": {
      "application/vnd.jupyter.widget-view+json": {
       "model_id": "3c12a376299e4695b025547e0cdd205d",
       "version_major": 2,
       "version_minor": 0
      },
      "text/plain": [
       "Calculating Metrics:   0%|          | 0/4 [00:00<?, ?it/s]"
      ]
     },
     "metadata": {},
     "output_type": "display_data"
    },
    {
     "data": {
      "application/vnd.jupyter.widget-view+json": {
       "model_id": "65e75af24298444ca8f912c8fcd459bb",
       "version_major": 2,
       "version_minor": 0
      },
      "text/plain": [
       "Calculating Metrics:   0%|          | 0/4 [00:00<?, ?it/s]"
      ]
     },
     "metadata": {},
     "output_type": "display_data"
    },
    {
     "data": {
      "application/vnd.jupyter.widget-view+json": {
       "model_id": "2c10cc637d394fe7a26e750822184c65",
       "version_major": 2,
       "version_minor": 0
      },
      "text/plain": [
       "Calculating Metrics:   0%|          | 0/6 [00:00<?, ?it/s]"
      ]
     },
     "metadata": {},
     "output_type": "display_data"
    },
    {
     "data": {
      "application/vnd.jupyter.widget-view+json": {
       "model_id": "b5ae69978cae4e8b868781bb87c025d3",
       "version_major": 2,
       "version_minor": 0
      },
      "text/plain": [
       "Calculating Metrics:   0%|          | 0/6 [00:00<?, ?it/s]"
      ]
     },
     "metadata": {},
     "output_type": "display_data"
    },
    {
     "data": {
      "application/vnd.jupyter.widget-view+json": {
       "model_id": "0c3a6b31d82b45ccadeb3b08a60204cc",
       "version_major": 2,
       "version_minor": 0
      },
      "text/plain": [
       "Calculating Metrics:   0%|          | 0/4 [00:00<?, ?it/s]"
      ]
     },
     "metadata": {},
     "output_type": "display_data"
    },
    {
     "data": {
      "application/vnd.jupyter.widget-view+json": {
       "model_id": "91eaa98e325f4f79afdc423565c9c396",
       "version_major": 2,
       "version_minor": 0
      },
      "text/plain": [
       "Calculating Metrics:   0%|          | 0/4 [00:00<?, ?it/s]"
      ]
     },
     "metadata": {},
     "output_type": "display_data"
    },
    {
     "data": {
      "application/vnd.jupyter.widget-view+json": {
       "model_id": "7c002ef7726445eba1498ba135619fed",
       "version_major": 2,
       "version_minor": 0
      },
      "text/plain": [
       "Calculating Metrics:   0%|          | 0/4 [00:00<?, ?it/s]"
      ]
     },
     "metadata": {},
     "output_type": "display_data"
    },
    {
     "data": {
      "application/vnd.jupyter.widget-view+json": {
       "model_id": "86e896f110ae435b817f5568f8f7639c",
       "version_major": 2,
       "version_minor": 0
      },
      "text/plain": [
       "Calculating Metrics:   0%|          | 0/4 [00:00<?, ?it/s]"
      ]
     },
     "metadata": {},
     "output_type": "display_data"
    },
    {
     "data": {
      "application/vnd.jupyter.widget-view+json": {
       "model_id": "c79ec53371e74c38b97c5957a91c3327",
       "version_major": 2,
       "version_minor": 0
      },
      "text/plain": [
       "Calculating Metrics:   0%|          | 0/4 [00:00<?, ?it/s]"
      ]
     },
     "metadata": {},
     "output_type": "display_data"
    },
    {
     "data": {
      "application/vnd.jupyter.widget-view+json": {
       "model_id": "2a46ab7cbbcb41f9be589ed4db941d32",
       "version_major": 2,
       "version_minor": 0
      },
      "text/plain": [
       "Calculating Metrics:   0%|          | 0/4 [00:00<?, ?it/s]"
      ]
     },
     "metadata": {},
     "output_type": "display_data"
    },
    {
     "data": {
      "application/vnd.jupyter.widget-view+json": {
       "model_id": "99bb9e35d5e741059f02898174fbe9b5",
       "version_major": 2,
       "version_minor": 0
      },
      "text/plain": [
       "Calculating Metrics:   0%|          | 0/4 [00:00<?, ?it/s]"
      ]
     },
     "metadata": {},
     "output_type": "display_data"
    },
    {
     "data": {
      "application/vnd.jupyter.widget-view+json": {
       "model_id": "2325a6d6f028405995cbd6bd37392e1d",
       "version_major": 2,
       "version_minor": 0
      },
      "text/plain": [
       "Calculating Metrics:   0%|          | 0/6 [00:00<?, ?it/s]"
      ]
     },
     "metadata": {},
     "output_type": "display_data"
    },
    {
     "data": {
      "application/vnd.jupyter.widget-view+json": {
       "model_id": "7a5018c9924040a3965a76985053fa7f",
       "version_major": 2,
       "version_minor": 0
      },
      "text/plain": [
       "Calculating Metrics:   0%|          | 0/6 [00:00<?, ?it/s]"
      ]
     },
     "metadata": {},
     "output_type": "display_data"
    },
    {
     "data": {
      "application/vnd.jupyter.widget-view+json": {
       "model_id": "2ded10b5c361440a8c4ab36ba98c8170",
       "version_major": 2,
       "version_minor": 0
      },
      "text/plain": [
       "Calculating Metrics:   0%|          | 0/4 [00:00<?, ?it/s]"
      ]
     },
     "metadata": {},
     "output_type": "display_data"
    },
    {
     "data": {
      "application/vnd.jupyter.widget-view+json": {
       "model_id": "1e5ff295db8c4bfb9e0c7288d4cc50f3",
       "version_major": 2,
       "version_minor": 0
      },
      "text/plain": [
       "Calculating Metrics:   0%|          | 0/4 [00:00<?, ?it/s]"
      ]
     },
     "metadata": {},
     "output_type": "display_data"
    },
    {
     "data": {
      "application/vnd.jupyter.widget-view+json": {
       "model_id": "a226a6d95eec4345a07b7506824ee81b",
       "version_major": 2,
       "version_minor": 0
      },
      "text/plain": [
       "Calculating Metrics:   0%|          | 0/4 [00:00<?, ?it/s]"
      ]
     },
     "metadata": {},
     "output_type": "display_data"
    },
    {
     "data": {
      "application/vnd.jupyter.widget-view+json": {
       "model_id": "69de055bf1d74b5ebc1fc0c7b97a1cf3",
       "version_major": 2,
       "version_minor": 0
      },
      "text/plain": [
       "Calculating Metrics:   0%|          | 0/4 [00:00<?, ?it/s]"
      ]
     },
     "metadata": {},
     "output_type": "display_data"
    },
    {
     "data": {
      "application/vnd.jupyter.widget-view+json": {
       "model_id": "e90677d18dd5474ba4811a99d525023c",
       "version_major": 2,
       "version_minor": 0
      },
      "text/plain": [
       "Calculating Metrics:   0%|          | 0/4 [00:00<?, ?it/s]"
      ]
     },
     "metadata": {},
     "output_type": "display_data"
    },
    {
     "data": {
      "application/vnd.jupyter.widget-view+json": {
       "model_id": "06a1d378616d4512a2a9752fef236860",
       "version_major": 2,
       "version_minor": 0
      },
      "text/plain": [
       "Calculating Metrics:   0%|          | 0/4 [00:00<?, ?it/s]"
      ]
     },
     "metadata": {},
     "output_type": "display_data"
    },
    {
     "data": {
      "application/vnd.jupyter.widget-view+json": {
       "model_id": "5c309705759f4926a7014361c6de1cb9",
       "version_major": 2,
       "version_minor": 0
      },
      "text/plain": [
       "Calculating Metrics:   0%|          | 0/4 [00:00<?, ?it/s]"
      ]
     },
     "metadata": {},
     "output_type": "display_data"
    },
    {
     "data": {
      "application/vnd.jupyter.widget-view+json": {
       "model_id": "4bbed356413c4505a48ab2045c5510fe",
       "version_major": 2,
       "version_minor": 0
      },
      "text/plain": [
       "Calculating Metrics:   0%|          | 0/6 [00:00<?, ?it/s]"
      ]
     },
     "metadata": {},
     "output_type": "display_data"
    },
    {
     "data": {
      "application/vnd.jupyter.widget-view+json": {
       "model_id": "4ce88a8ccfd546149d095173a928caaf",
       "version_major": 2,
       "version_minor": 0
      },
      "text/plain": [
       "Calculating Metrics:   0%|          | 0/6 [00:00<?, ?it/s]"
      ]
     },
     "metadata": {},
     "output_type": "display_data"
    },
    {
     "data": {
      "application/vnd.jupyter.widget-view+json": {
       "model_id": "f35776b8c2ff4c56ad987a3017cfe8a2",
       "version_major": 2,
       "version_minor": 0
      },
      "text/plain": [
       "Calculating Metrics:   0%|          | 0/4 [00:00<?, ?it/s]"
      ]
     },
     "metadata": {},
     "output_type": "display_data"
    },
    {
     "data": {
      "application/vnd.jupyter.widget-view+json": {
       "model_id": "29851f5f258a4a00b69f2dafd1274af3",
       "version_major": 2,
       "version_minor": 0
      },
      "text/plain": [
       "Calculating Metrics:   0%|          | 0/4 [00:00<?, ?it/s]"
      ]
     },
     "metadata": {},
     "output_type": "display_data"
    },
    {
     "data": {
      "application/vnd.jupyter.widget-view+json": {
       "model_id": "97dfadecfc9045d9a17fa99674ca713b",
       "version_major": 2,
       "version_minor": 0
      },
      "text/plain": [
       "Calculating Metrics:   0%|          | 0/4 [00:00<?, ?it/s]"
      ]
     },
     "metadata": {},
     "output_type": "display_data"
    },
    {
     "data": {
      "application/vnd.jupyter.widget-view+json": {
       "model_id": "2c3861bc60b04fc8b3f6e8a92ab29cbf",
       "version_major": 2,
       "version_minor": 0
      },
      "text/plain": [
       "Calculating Metrics:   0%|          | 0/4 [00:00<?, ?it/s]"
      ]
     },
     "metadata": {},
     "output_type": "display_data"
    },
    {
     "data": {
      "application/vnd.jupyter.widget-view+json": {
       "model_id": "1b1458ad7df843a98d7432c67b28e54f",
       "version_major": 2,
       "version_minor": 0
      },
      "text/plain": [
       "Calculating Metrics:   0%|          | 0/4 [00:00<?, ?it/s]"
      ]
     },
     "metadata": {},
     "output_type": "display_data"
    },
    {
     "data": {
      "application/vnd.jupyter.widget-view+json": {
       "model_id": "6564172766c74f299a8f223b6aa00129",
       "version_major": 2,
       "version_minor": 0
      },
      "text/plain": [
       "Calculating Metrics:   0%|          | 0/4 [00:00<?, ?it/s]"
      ]
     },
     "metadata": {},
     "output_type": "display_data"
    },
    {
     "data": {
      "application/vnd.jupyter.widget-view+json": {
       "model_id": "125f796915bb4821b3f94fac760ae3d6",
       "version_major": 2,
       "version_minor": 0
      },
      "text/plain": [
       "Calculating Metrics:   0%|          | 0/4 [00:00<?, ?it/s]"
      ]
     },
     "metadata": {},
     "output_type": "display_data"
    },
    {
     "data": {
      "application/vnd.jupyter.widget-view+json": {
       "model_id": "f718a5a879a54d5891d36635c4c17bf7",
       "version_major": 2,
       "version_minor": 0
      },
      "text/plain": [
       "Calculating Metrics:   0%|          | 0/6 [00:00<?, ?it/s]"
      ]
     },
     "metadata": {},
     "output_type": "display_data"
    },
    {
     "data": {
      "application/vnd.jupyter.widget-view+json": {
       "model_id": "c511a4d809a449a88da24922439239ae",
       "version_major": 2,
       "version_minor": 0
      },
      "text/plain": [
       "Calculating Metrics:   0%|          | 0/6 [00:00<?, ?it/s]"
      ]
     },
     "metadata": {},
     "output_type": "display_data"
    },
    {
     "data": {
      "application/vnd.jupyter.widget-view+json": {
       "model_id": "1d8b37979dc9498f877f614d667fd575",
       "version_major": 2,
       "version_minor": 0
      },
      "text/plain": [
       "Calculating Metrics:   0%|          | 0/4 [00:00<?, ?it/s]"
      ]
     },
     "metadata": {},
     "output_type": "display_data"
    },
    {
     "data": {
      "application/vnd.jupyter.widget-view+json": {
       "model_id": "ea065399a94742d69aad18ed8ff44ecd",
       "version_major": 2,
       "version_minor": 0
      },
      "text/plain": [
       "Calculating Metrics:   0%|          | 0/4 [00:00<?, ?it/s]"
      ]
     },
     "metadata": {},
     "output_type": "display_data"
    },
    {
     "data": {
      "application/vnd.jupyter.widget-view+json": {
       "model_id": "94422598c9ce4411ba0b56b2452c8ace",
       "version_major": 2,
       "version_minor": 0
      },
      "text/plain": [
       "Calculating Metrics:   0%|          | 0/4 [00:00<?, ?it/s]"
      ]
     },
     "metadata": {},
     "output_type": "display_data"
    },
    {
     "data": {
      "application/vnd.jupyter.widget-view+json": {
       "model_id": "ec645408437c449088a12f161a19ad61",
       "version_major": 2,
       "version_minor": 0
      },
      "text/plain": [
       "Calculating Metrics:   0%|          | 0/4 [00:00<?, ?it/s]"
      ]
     },
     "metadata": {},
     "output_type": "display_data"
    },
    {
     "data": {
      "application/vnd.jupyter.widget-view+json": {
       "model_id": "fe3e4e9b40684a569004842d75f6e0ac",
       "version_major": 2,
       "version_minor": 0
      },
      "text/plain": [
       "Calculating Metrics:   0%|          | 0/4 [00:00<?, ?it/s]"
      ]
     },
     "metadata": {},
     "output_type": "display_data"
    },
    {
     "data": {
      "application/vnd.jupyter.widget-view+json": {
       "model_id": "51e80c327d3f4473967595e33c403aa0",
       "version_major": 2,
       "version_minor": 0
      },
      "text/plain": [
       "Calculating Metrics:   0%|          | 0/4 [00:00<?, ?it/s]"
      ]
     },
     "metadata": {},
     "output_type": "display_data"
    },
    {
     "data": {
      "application/vnd.jupyter.widget-view+json": {
       "model_id": "0be5e14a431b402ab66496206b6c88e4",
       "version_major": 2,
       "version_minor": 0
      },
      "text/plain": [
       "Calculating Metrics:   0%|          | 0/4 [00:00<?, ?it/s]"
      ]
     },
     "metadata": {},
     "output_type": "display_data"
    },
    {
     "data": {
      "application/vnd.jupyter.widget-view+json": {
       "model_id": "2ad39e89487a4ce0a1ae6fd44f769948",
       "version_major": 2,
       "version_minor": 0
      },
      "text/plain": [
       "Calculating Metrics:   0%|          | 0/6 [00:00<?, ?it/s]"
      ]
     },
     "metadata": {},
     "output_type": "display_data"
    },
    {
     "data": {
      "application/vnd.jupyter.widget-view+json": {
       "model_id": "bb07ac7f1b784a1a824343e927d6b667",
       "version_major": 2,
       "version_minor": 0
      },
      "text/plain": [
       "Calculating Metrics:   0%|          | 0/6 [00:00<?, ?it/s]"
      ]
     },
     "metadata": {},
     "output_type": "display_data"
    },
    {
     "data": {
      "application/vnd.jupyter.widget-view+json": {
       "model_id": "39c9f991b51246ff90205135b7e8b61a",
       "version_major": 2,
       "version_minor": 0
      },
      "text/plain": [
       "Calculating Metrics:   0%|          | 0/4 [00:00<?, ?it/s]"
      ]
     },
     "metadata": {},
     "output_type": "display_data"
    },
    {
     "data": {
      "application/vnd.jupyter.widget-view+json": {
       "model_id": "508f0bd98f5442f0a267e73a53e08630",
       "version_major": 2,
       "version_minor": 0
      },
      "text/plain": [
       "Calculating Metrics:   0%|          | 0/4 [00:00<?, ?it/s]"
      ]
     },
     "metadata": {},
     "output_type": "display_data"
    },
    {
     "data": {
      "application/vnd.jupyter.widget-view+json": {
       "model_id": "6ec67cf14eb148bf8b184797b2120a02",
       "version_major": 2,
       "version_minor": 0
      },
      "text/plain": [
       "Calculating Metrics:   0%|          | 0/4 [00:00<?, ?it/s]"
      ]
     },
     "metadata": {},
     "output_type": "display_data"
    },
    {
     "data": {
      "application/vnd.jupyter.widget-view+json": {
       "model_id": "463e51c6b39f47c2ad02c1c37f0a1e28",
       "version_major": 2,
       "version_minor": 0
      },
      "text/plain": [
       "Calculating Metrics:   0%|          | 0/4 [00:00<?, ?it/s]"
      ]
     },
     "metadata": {},
     "output_type": "display_data"
    },
    {
     "data": {
      "application/vnd.jupyter.widget-view+json": {
       "model_id": "95fa18c749c1469f962199cb78bb8a50",
       "version_major": 2,
       "version_minor": 0
      },
      "text/plain": [
       "Calculating Metrics:   0%|          | 0/4 [00:00<?, ?it/s]"
      ]
     },
     "metadata": {},
     "output_type": "display_data"
    },
    {
     "data": {
      "application/vnd.jupyter.widget-view+json": {
       "model_id": "40b1cd6b229b4e8d9238dae70fb7cacc",
       "version_major": 2,
       "version_minor": 0
      },
      "text/plain": [
       "Calculating Metrics:   0%|          | 0/4 [00:00<?, ?it/s]"
      ]
     },
     "metadata": {},
     "output_type": "display_data"
    },
    {
     "data": {
      "application/vnd.jupyter.widget-view+json": {
       "model_id": "47b207a2b04e468facf2d23bcce5fac7",
       "version_major": 2,
       "version_minor": 0
      },
      "text/plain": [
       "Calculating Metrics:   0%|          | 0/4 [00:00<?, ?it/s]"
      ]
     },
     "metadata": {},
     "output_type": "display_data"
    },
    {
     "data": {
      "application/vnd.jupyter.widget-view+json": {
       "model_id": "8e19ba83288d42fd817da522de4a4236",
       "version_major": 2,
       "version_minor": 0
      },
      "text/plain": [
       "Calculating Metrics:   0%|          | 0/6 [00:00<?, ?it/s]"
      ]
     },
     "metadata": {},
     "output_type": "display_data"
    },
    {
     "data": {
      "application/vnd.jupyter.widget-view+json": {
       "model_id": "2d280057eeeb4b21903e60eb34c08a98",
       "version_major": 2,
       "version_minor": 0
      },
      "text/plain": [
       "Calculating Metrics:   0%|          | 0/6 [00:00<?, ?it/s]"
      ]
     },
     "metadata": {},
     "output_type": "display_data"
    },
    {
     "data": {
      "application/vnd.jupyter.widget-view+json": {
       "model_id": "b9bec9e026e94271ae030b2f45caf04d",
       "version_major": 2,
       "version_minor": 0
      },
      "text/plain": [
       "Calculating Metrics:   0%|          | 0/4 [00:00<?, ?it/s]"
      ]
     },
     "metadata": {},
     "output_type": "display_data"
    },
    {
     "data": {
      "application/vnd.jupyter.widget-view+json": {
       "model_id": "1ea3f9a9e5f54a07a9784ccba443f45a",
       "version_major": 2,
       "version_minor": 0
      },
      "text/plain": [
       "Calculating Metrics:   0%|          | 0/4 [00:00<?, ?it/s]"
      ]
     },
     "metadata": {},
     "output_type": "display_data"
    },
    {
     "data": {
      "application/vnd.jupyter.widget-view+json": {
       "model_id": "264f5de20bb04907bf0e8be511a630ae",
       "version_major": 2,
       "version_minor": 0
      },
      "text/plain": [
       "Calculating Metrics:   0%|          | 0/4 [00:00<?, ?it/s]"
      ]
     },
     "metadata": {},
     "output_type": "display_data"
    },
    {
     "data": {
      "application/vnd.jupyter.widget-view+json": {
       "model_id": "0dcea596b93c42ea9bdb826d10b283a0",
       "version_major": 2,
       "version_minor": 0
      },
      "text/plain": [
       "Calculating Metrics:   0%|          | 0/4 [00:00<?, ?it/s]"
      ]
     },
     "metadata": {},
     "output_type": "display_data"
    },
    {
     "data": {
      "application/vnd.jupyter.widget-view+json": {
       "model_id": "0b8c830f2ad0466bbedba0311bb17826",
       "version_major": 2,
       "version_minor": 0
      },
      "text/plain": [
       "Calculating Metrics:   0%|          | 0/4 [00:00<?, ?it/s]"
      ]
     },
     "metadata": {},
     "output_type": "display_data"
    },
    {
     "data": {
      "application/vnd.jupyter.widget-view+json": {
       "model_id": "ccde297d04364ef6a63b540a9e0ee0c3",
       "version_major": 2,
       "version_minor": 0
      },
      "text/plain": [
       "Calculating Metrics:   0%|          | 0/4 [00:00<?, ?it/s]"
      ]
     },
     "metadata": {},
     "output_type": "display_data"
    },
    {
     "data": {
      "application/vnd.jupyter.widget-view+json": {
       "model_id": "1619a1fdd88f407ba770987108274693",
       "version_major": 2,
       "version_minor": 0
      },
      "text/plain": [
       "Calculating Metrics:   0%|          | 0/4 [00:00<?, ?it/s]"
      ]
     },
     "metadata": {},
     "output_type": "display_data"
    },
    {
     "data": {
      "application/vnd.jupyter.widget-view+json": {
       "model_id": "b69f4d87ca9644459591889bf25d1f1a",
       "version_major": 2,
       "version_minor": 0
      },
      "text/plain": [
       "Calculating Metrics:   0%|          | 0/6 [00:00<?, ?it/s]"
      ]
     },
     "metadata": {},
     "output_type": "display_data"
    },
    {
     "data": {
      "application/vnd.jupyter.widget-view+json": {
       "model_id": "16e7af27623b496c881db95cf4f612e4",
       "version_major": 2,
       "version_minor": 0
      },
      "text/plain": [
       "Calculating Metrics:   0%|          | 0/6 [00:00<?, ?it/s]"
      ]
     },
     "metadata": {},
     "output_type": "display_data"
    },
    {
     "data": {
      "application/vnd.jupyter.widget-view+json": {
       "model_id": "3f57a105769d4f258bb957b2c46221d9",
       "version_major": 2,
       "version_minor": 0
      },
      "text/plain": [
       "Calculating Metrics:   0%|          | 0/4 [00:00<?, ?it/s]"
      ]
     },
     "metadata": {},
     "output_type": "display_data"
    },
    {
     "data": {
      "application/vnd.jupyter.widget-view+json": {
       "model_id": "39c161dcf9a14d9ca5a95e060909932b",
       "version_major": 2,
       "version_minor": 0
      },
      "text/plain": [
       "Calculating Metrics:   0%|          | 0/4 [00:00<?, ?it/s]"
      ]
     },
     "metadata": {},
     "output_type": "display_data"
    },
    {
     "data": {
      "application/vnd.jupyter.widget-view+json": {
       "model_id": "6f80db87ac444fa581d2eb56cdd1b68e",
       "version_major": 2,
       "version_minor": 0
      },
      "text/plain": [
       "Calculating Metrics:   0%|          | 0/4 [00:00<?, ?it/s]"
      ]
     },
     "metadata": {},
     "output_type": "display_data"
    },
    {
     "data": {
      "application/vnd.jupyter.widget-view+json": {
       "model_id": "5f16167f885b4cfe971da36eb0c869f3",
       "version_major": 2,
       "version_minor": 0
      },
      "text/plain": [
       "Calculating Metrics:   0%|          | 0/4 [00:00<?, ?it/s]"
      ]
     },
     "metadata": {},
     "output_type": "display_data"
    },
    {
     "data": {
      "application/vnd.jupyter.widget-view+json": {
       "model_id": "477a71eac09b40b497ac9ad4f88caa48",
       "version_major": 2,
       "version_minor": 0
      },
      "text/plain": [
       "Calculating Metrics:   0%|          | 0/4 [00:00<?, ?it/s]"
      ]
     },
     "metadata": {},
     "output_type": "display_data"
    },
    {
     "data": {
      "application/vnd.jupyter.widget-view+json": {
       "model_id": "9b2b7d26f3d74ea2a7853609404d3c01",
       "version_major": 2,
       "version_minor": 0
      },
      "text/plain": [
       "Calculating Metrics:   0%|          | 0/4 [00:00<?, ?it/s]"
      ]
     },
     "metadata": {},
     "output_type": "display_data"
    },
    {
     "data": {
      "application/vnd.jupyter.widget-view+json": {
       "model_id": "d77b4bf7b439440e8dae943fc4a043f5",
       "version_major": 2,
       "version_minor": 0
      },
      "text/plain": [
       "Calculating Metrics:   0%|          | 0/4 [00:00<?, ?it/s]"
      ]
     },
     "metadata": {},
     "output_type": "display_data"
    },
    {
     "data": {
      "application/vnd.jupyter.widget-view+json": {
       "model_id": "d26716d4f0934d06aefa37ca1b88cc6d",
       "version_major": 2,
       "version_minor": 0
      },
      "text/plain": [
       "Calculating Metrics:   0%|          | 0/6 [00:00<?, ?it/s]"
      ]
     },
     "metadata": {},
     "output_type": "display_data"
    },
    {
     "data": {
      "application/vnd.jupyter.widget-view+json": {
       "model_id": "ce3827b01bbd45fa8123f66f22c2afca",
       "version_major": 2,
       "version_minor": 0
      },
      "text/plain": [
       "Calculating Metrics:   0%|          | 0/6 [00:00<?, ?it/s]"
      ]
     },
     "metadata": {},
     "output_type": "display_data"
    },
    {
     "data": {
      "application/vnd.jupyter.widget-view+json": {
       "model_id": "77c271fe5b3e43be947e6022330cf01e",
       "version_major": 2,
       "version_minor": 0
      },
      "text/plain": [
       "Calculating Metrics:   0%|          | 0/4 [00:00<?, ?it/s]"
      ]
     },
     "metadata": {},
     "output_type": "display_data"
    },
    {
     "data": {
      "application/vnd.jupyter.widget-view+json": {
       "model_id": "b49027355f664531843e8281ffd99951",
       "version_major": 2,
       "version_minor": 0
      },
      "text/plain": [
       "Calculating Metrics:   0%|          | 0/4 [00:00<?, ?it/s]"
      ]
     },
     "metadata": {},
     "output_type": "display_data"
    },
    {
     "data": {
      "application/vnd.jupyter.widget-view+json": {
       "model_id": "879dc577d5e94eeba94d0edc294304e7",
       "version_major": 2,
       "version_minor": 0
      },
      "text/plain": [
       "Calculating Metrics:   0%|          | 0/4 [00:00<?, ?it/s]"
      ]
     },
     "metadata": {},
     "output_type": "display_data"
    },
    {
     "data": {
      "application/vnd.jupyter.widget-view+json": {
       "model_id": "0e5c06ef64fa424abdcb9a4e90b05a04",
       "version_major": 2,
       "version_minor": 0
      },
      "text/plain": [
       "Calculating Metrics:   0%|          | 0/4 [00:00<?, ?it/s]"
      ]
     },
     "metadata": {},
     "output_type": "display_data"
    },
    {
     "data": {
      "application/vnd.jupyter.widget-view+json": {
       "model_id": "8fc80a8652434948b62f0dba07888a7f",
       "version_major": 2,
       "version_minor": 0
      },
      "text/plain": [
       "Calculating Metrics:   0%|          | 0/4 [00:00<?, ?it/s]"
      ]
     },
     "metadata": {},
     "output_type": "display_data"
    },
    {
     "data": {
      "application/vnd.jupyter.widget-view+json": {
       "model_id": "01f5c2e46040474c950be4e97320e7c0",
       "version_major": 2,
       "version_minor": 0
      },
      "text/plain": [
       "Calculating Metrics:   0%|          | 0/4 [00:00<?, ?it/s]"
      ]
     },
     "metadata": {},
     "output_type": "display_data"
    },
    {
     "data": {
      "application/vnd.jupyter.widget-view+json": {
       "model_id": "c43bc6fdf60e4c2ba4923ac138dae9ef",
       "version_major": 2,
       "version_minor": 0
      },
      "text/plain": [
       "Calculating Metrics:   0%|          | 0/4 [00:00<?, ?it/s]"
      ]
     },
     "metadata": {},
     "output_type": "display_data"
    },
    {
     "data": {
      "application/vnd.jupyter.widget-view+json": {
       "model_id": "6ac7e46b020c46be966d313f594744e0",
       "version_major": 2,
       "version_minor": 0
      },
      "text/plain": [
       "Calculating Metrics:   0%|          | 0/6 [00:00<?, ?it/s]"
      ]
     },
     "metadata": {},
     "output_type": "display_data"
    },
    {
     "data": {
      "application/vnd.jupyter.widget-view+json": {
       "model_id": "53e42478b316405dac54156fa4207f7d",
       "version_major": 2,
       "version_minor": 0
      },
      "text/plain": [
       "Calculating Metrics:   0%|          | 0/6 [00:00<?, ?it/s]"
      ]
     },
     "metadata": {},
     "output_type": "display_data"
    },
    {
     "data": {
      "application/vnd.jupyter.widget-view+json": {
       "model_id": "545ee18c444b4d4fada55ae82fdde2bd",
       "version_major": 2,
       "version_minor": 0
      },
      "text/plain": [
       "Calculating Metrics:   0%|          | 0/4 [00:00<?, ?it/s]"
      ]
     },
     "metadata": {},
     "output_type": "display_data"
    },
    {
     "data": {
      "application/vnd.jupyter.widget-view+json": {
       "model_id": "dd7d9b3fa262481ca713a1c01a68ae36",
       "version_major": 2,
       "version_minor": 0
      },
      "text/plain": [
       "Calculating Metrics:   0%|          | 0/4 [00:00<?, ?it/s]"
      ]
     },
     "metadata": {},
     "output_type": "display_data"
    },
    {
     "data": {
      "application/vnd.jupyter.widget-view+json": {
       "model_id": "e5c67ada85f8449b9afc1f4cb084cf4a",
       "version_major": 2,
       "version_minor": 0
      },
      "text/plain": [
       "Calculating Metrics:   0%|          | 0/4 [00:00<?, ?it/s]"
      ]
     },
     "metadata": {},
     "output_type": "display_data"
    },
    {
     "data": {
      "application/vnd.jupyter.widget-view+json": {
       "model_id": "afbda2419cb743aa93d897f4b3f44b19",
       "version_major": 2,
       "version_minor": 0
      },
      "text/plain": [
       "Calculating Metrics:   0%|          | 0/4 [00:00<?, ?it/s]"
      ]
     },
     "metadata": {},
     "output_type": "display_data"
    },
    {
     "data": {
      "application/vnd.jupyter.widget-view+json": {
       "model_id": "ca69dda6aac84bb0a915e04f9cd43cf8",
       "version_major": 2,
       "version_minor": 0
      },
      "text/plain": [
       "Calculating Metrics:   0%|          | 0/4 [00:00<?, ?it/s]"
      ]
     },
     "metadata": {},
     "output_type": "display_data"
    },
    {
     "data": {
      "application/vnd.jupyter.widget-view+json": {
       "model_id": "ee80bdf5be71406c91bfca0d6334f87e",
       "version_major": 2,
       "version_minor": 0
      },
      "text/plain": [
       "Calculating Metrics:   0%|          | 0/4 [00:00<?, ?it/s]"
      ]
     },
     "metadata": {},
     "output_type": "display_data"
    },
    {
     "data": {
      "application/vnd.jupyter.widget-view+json": {
       "model_id": "e653b02a8d874c82bc03a0a605b0ea1f",
       "version_major": 2,
       "version_minor": 0
      },
      "text/plain": [
       "Calculating Metrics:   0%|          | 0/4 [00:00<?, ?it/s]"
      ]
     },
     "metadata": {},
     "output_type": "display_data"
    },
    {
     "data": {
      "application/vnd.jupyter.widget-view+json": {
       "model_id": "9282d835b1c64838a95c9493cc7a7154",
       "version_major": 2,
       "version_minor": 0
      },
      "text/plain": [
       "Calculating Metrics:   0%|          | 0/2 [00:00<?, ?it/s]"
      ]
     },
     "metadata": {},
     "output_type": "display_data"
    },
    {
     "data": {
      "application/vnd.jupyter.widget-view+json": {
       "model_id": "9015508d0af048f28a9187c947b731a6",
       "version_major": 2,
       "version_minor": 0
      },
      "text/plain": [
       "Calculating Metrics:   0%|          | 0/1 [00:00<?, ?it/s]"
      ]
     },
     "metadata": {},
     "output_type": "display_data"
    },
    {
     "data": {
      "application/vnd.jupyter.widget-view+json": {
       "model_id": "",
       "version_major": 2,
       "version_minor": 0
      },
      "text/plain": [
       "Profiling Dataset:         0%|          | 0/0 [00:00<?, ?it/s]"
      ]
     },
     "metadata": {},
     "output_type": "display_data"
    },
    {
     "data": {
      "application/vnd.jupyter.widget-view+json": {
       "model_id": "72c61fe10d064aa598723bb389a5bdcb",
       "version_major": 2,
       "version_minor": 0
      },
      "text/plain": [
       "Calculating Metrics:   0%|          | 0/2 [00:00<?, ?it/s]"
      ]
     },
     "metadata": {},
     "output_type": "display_data"
    },
    {
     "data": {
      "application/vnd.jupyter.widget-view+json": {
       "model_id": "9d4cb5aeaa4e48fe89b37d210d9944fb",
       "version_major": 2,
       "version_minor": 0
      },
      "text/plain": [
       "Calculating Metrics:   0%|          | 0/1 [00:00<?, ?it/s]"
      ]
     },
     "metadata": {},
     "output_type": "display_data"
    },
    {
     "data": {
      "application/vnd.jupyter.widget-view+json": {
       "model_id": "",
       "version_major": 2,
       "version_minor": 0
      },
      "text/plain": [
       "Profiling Dataset:         0%|          | 0/2 [00:00<?, ?it/s]"
      ]
     },
     "metadata": {},
     "output_type": "display_data"
    },
    {
     "data": {
      "application/vnd.jupyter.widget-view+json": {
       "model_id": "87f4bbbb983c4b469bd29b04ef492f71",
       "version_major": 2,
       "version_minor": 0
      },
      "text/plain": [
       "Calculating Metrics:   0%|          | 0/4 [00:00<?, ?it/s]"
      ]
     },
     "metadata": {},
     "output_type": "display_data"
    },
    {
     "data": {
      "application/vnd.jupyter.widget-view+json": {
       "model_id": "82696e8eb724440e986129015eac343e",
       "version_major": 2,
       "version_minor": 0
      },
      "text/plain": [
       "Calculating Metrics:   0%|          | 0/4 [00:00<?, ?it/s]"
      ]
     },
     "metadata": {},
     "output_type": "display_data"
    },
    {
     "data": {
      "application/vnd.jupyter.widget-view+json": {
       "model_id": "633991409fc747518200d7301b76e8e7",
       "version_major": 2,
       "version_minor": 0
      },
      "text/plain": [
       "Calculating Metrics:   0%|          | 0/6 [00:00<?, ?it/s]"
      ]
     },
     "metadata": {},
     "output_type": "display_data"
    },
    {
     "data": {
      "application/vnd.jupyter.widget-view+json": {
       "model_id": "3c77f5c0aa334186adb1695149bb1a25",
       "version_major": 2,
       "version_minor": 0
      },
      "text/plain": [
       "Calculating Metrics:   0%|          | 0/25 [00:00<?, ?it/s]"
      ]
     },
     "metadata": {},
     "output_type": "display_data"
    },
    {
     "data": {
      "application/vnd.jupyter.widget-view+json": {
       "model_id": "1d8b2586e640495cae0e82492e4c5457",
       "version_major": 2,
       "version_minor": 0
      },
      "text/plain": [
       "Calculating Metrics:   0%|          | 0/4 [00:00<?, ?it/s]"
      ]
     },
     "metadata": {},
     "output_type": "display_data"
    },
    {
     "data": {
      "application/vnd.jupyter.widget-view+json": {
       "model_id": "40e7c45b392e47ea9d721190a0d7682e",
       "version_major": 2,
       "version_minor": 0
      },
      "text/plain": [
       "Calculating Metrics:   0%|          | 0/4 [00:00<?, ?it/s]"
      ]
     },
     "metadata": {},
     "output_type": "display_data"
    },
    {
     "data": {
      "application/vnd.jupyter.widget-view+json": {
       "model_id": "544347a369f04cb0aaea24e047c212a1",
       "version_major": 2,
       "version_minor": 0
      },
      "text/plain": [
       "Calculating Metrics:   0%|          | 0/6 [00:00<?, ?it/s]"
      ]
     },
     "metadata": {},
     "output_type": "display_data"
    },
    {
     "data": {
      "application/vnd.jupyter.widget-view+json": {
       "model_id": "4ee5ff8f2c0a42079514d3c1214d57eb",
       "version_major": 2,
       "version_minor": 0
      },
      "text/plain": [
       "Calculating Metrics:   0%|          | 0/25 [00:00<?, ?it/s]"
      ]
     },
     "metadata": {},
     "output_type": "display_data"
    },
    {
     "data": {
      "application/vnd.jupyter.widget-view+json": {
       "model_id": "6852642903094434b599a93d5c7e2235",
       "version_major": 2,
       "version_minor": 0
      },
      "text/plain": [
       "Calculating Metrics:   0%|          | 0/2 [00:00<?, ?it/s]"
      ]
     },
     "metadata": {},
     "output_type": "display_data"
    },
    {
     "data": {
      "application/vnd.jupyter.widget-view+json": {
       "model_id": "b31c18bf91524c86835300b420457bca",
       "version_major": 2,
       "version_minor": 0
      },
      "text/plain": [
       "Calculating Metrics:   0%|          | 0/1 [00:00<?, ?it/s]"
      ]
     },
     "metadata": {},
     "output_type": "display_data"
    },
    {
     "data": {
      "application/vnd.jupyter.widget-view+json": {
       "model_id": "35d40f3f3cc84b8299c9a1da748eeb32",
       "version_major": 2,
       "version_minor": 0
      },
      "text/plain": [
       "Calculating Metrics:   0%|          | 0/16 [00:00<?, ?it/s]"
      ]
     },
     "metadata": {},
     "output_type": "display_data"
    },
    {
     "data": {
      "application/vnd.jupyter.widget-view+json": {
       "model_id": "",
       "version_major": 2,
       "version_minor": 0
      },
      "text/plain": [
       "Profiling Dataset:         0%|          | 0/6 [00:00<?, ?it/s]"
      ]
     },
     "metadata": {},
     "output_type": "display_data"
    },
    {
     "data": {
      "application/vnd.jupyter.widget-view+json": {
       "model_id": "0f947c82a8984adfb70c7edbd3a1ccb0",
       "version_major": 2,
       "version_minor": 0
      },
      "text/plain": [
       "Calculating Metrics:   0%|          | 0/4 [00:00<?, ?it/s]"
      ]
     },
     "metadata": {},
     "output_type": "display_data"
    },
    {
     "data": {
      "application/vnd.jupyter.widget-view+json": {
       "model_id": "7d6c2082e04f4030bf3ab9db56076888",
       "version_major": 2,
       "version_minor": 0
      },
      "text/plain": [
       "Calculating Metrics:   0%|          | 0/4 [00:00<?, ?it/s]"
      ]
     },
     "metadata": {},
     "output_type": "display_data"
    },
    {
     "data": {
      "application/vnd.jupyter.widget-view+json": {
       "model_id": "c4ce0135110247fb9a009137f5fe35b5",
       "version_major": 2,
       "version_minor": 0
      },
      "text/plain": [
       "Calculating Metrics:   0%|          | 0/4 [00:00<?, ?it/s]"
      ]
     },
     "metadata": {},
     "output_type": "display_data"
    },
    {
     "data": {
      "application/vnd.jupyter.widget-view+json": {
       "model_id": "794dbda08fec48ff978a8ebce8f0d945",
       "version_major": 2,
       "version_minor": 0
      },
      "text/plain": [
       "Calculating Metrics:   0%|          | 0/7 [00:00<?, ?it/s]"
      ]
     },
     "metadata": {},
     "output_type": "display_data"
    },
    {
     "data": {
      "application/vnd.jupyter.widget-view+json": {
       "model_id": "29f0da780c9a4c11921bf59b2b52ba36",
       "version_major": 2,
       "version_minor": 0
      },
      "text/plain": [
       "Calculating Metrics:   0%|          | 0/4 [00:00<?, ?it/s]"
      ]
     },
     "metadata": {},
     "output_type": "display_data"
    },
    {
     "data": {
      "application/vnd.jupyter.widget-view+json": {
       "model_id": "1ed60f77d43a464693ce7380003ef793",
       "version_major": 2,
       "version_minor": 0
      },
      "text/plain": [
       "Calculating Metrics:   0%|          | 0/4 [00:00<?, ?it/s]"
      ]
     },
     "metadata": {},
     "output_type": "display_data"
    },
    {
     "data": {
      "application/vnd.jupyter.widget-view+json": {
       "model_id": "b5a2f206e012452cb32f1fc247876711",
       "version_major": 2,
       "version_minor": 0
      },
      "text/plain": [
       "Calculating Metrics:   0%|          | 0/4 [00:00<?, ?it/s]"
      ]
     },
     "metadata": {},
     "output_type": "display_data"
    },
    {
     "data": {
      "application/vnd.jupyter.widget-view+json": {
       "model_id": "55f269bc37d44f19a1f66656d815f898",
       "version_major": 2,
       "version_minor": 0
      },
      "text/plain": [
       "Calculating Metrics:   0%|          | 0/7 [00:00<?, ?it/s]"
      ]
     },
     "metadata": {},
     "output_type": "display_data"
    },
    {
     "data": {
      "application/vnd.jupyter.widget-view+json": {
       "model_id": "e235d6f9d56649dca674bd851f38a477",
       "version_major": 2,
       "version_minor": 0
      },
      "text/plain": [
       "Calculating Metrics:   0%|          | 0/4 [00:00<?, ?it/s]"
      ]
     },
     "metadata": {},
     "output_type": "display_data"
    },
    {
     "data": {
      "application/vnd.jupyter.widget-view+json": {
       "model_id": "245e7778f83349908be8f74c1cf058d5",
       "version_major": 2,
       "version_minor": 0
      },
      "text/plain": [
       "Calculating Metrics:   0%|          | 0/4 [00:00<?, ?it/s]"
      ]
     },
     "metadata": {},
     "output_type": "display_data"
    },
    {
     "data": {
      "application/vnd.jupyter.widget-view+json": {
       "model_id": "6ecdc21870084112abfe7d20a1c1c194",
       "version_major": 2,
       "version_minor": 0
      },
      "text/plain": [
       "Calculating Metrics:   0%|          | 0/4 [00:00<?, ?it/s]"
      ]
     },
     "metadata": {},
     "output_type": "display_data"
    },
    {
     "data": {
      "application/vnd.jupyter.widget-view+json": {
       "model_id": "670374d4c0fb4471a6a134a4bc683956",
       "version_major": 2,
       "version_minor": 0
      },
      "text/plain": [
       "Calculating Metrics:   0%|          | 0/7 [00:00<?, ?it/s]"
      ]
     },
     "metadata": {},
     "output_type": "display_data"
    },
    {
     "data": {
      "application/vnd.jupyter.widget-view+json": {
       "model_id": "6546312606f344ed9085d50dd382b57b",
       "version_major": 2,
       "version_minor": 0
      },
      "text/plain": [
       "Calculating Metrics:   0%|          | 0/4 [00:00<?, ?it/s]"
      ]
     },
     "metadata": {},
     "output_type": "display_data"
    },
    {
     "data": {
      "application/vnd.jupyter.widget-view+json": {
       "model_id": "dc35ce63a29a487f9286808026045479",
       "version_major": 2,
       "version_minor": 0
      },
      "text/plain": [
       "Calculating Metrics:   0%|          | 0/4 [00:00<?, ?it/s]"
      ]
     },
     "metadata": {},
     "output_type": "display_data"
    },
    {
     "data": {
      "application/vnd.jupyter.widget-view+json": {
       "model_id": "72c81748e1034567b7ecdc9049257141",
       "version_major": 2,
       "version_minor": 0
      },
      "text/plain": [
       "Calculating Metrics:   0%|          | 0/4 [00:00<?, ?it/s]"
      ]
     },
     "metadata": {},
     "output_type": "display_data"
    },
    {
     "data": {
      "application/vnd.jupyter.widget-view+json": {
       "model_id": "ec8488622888408d90b17515b54859b5",
       "version_major": 2,
       "version_minor": 0
      },
      "text/plain": [
       "Calculating Metrics:   0%|          | 0/7 [00:00<?, ?it/s]"
      ]
     },
     "metadata": {},
     "output_type": "display_data"
    },
    {
     "data": {
      "application/vnd.jupyter.widget-view+json": {
       "model_id": "2ed6e295c5994c71aafcc433837eb8c4",
       "version_major": 2,
       "version_minor": 0
      },
      "text/plain": [
       "Calculating Metrics:   0%|          | 0/4 [00:00<?, ?it/s]"
      ]
     },
     "metadata": {},
     "output_type": "display_data"
    },
    {
     "data": {
      "application/vnd.jupyter.widget-view+json": {
       "model_id": "cdd8eda4142144beb49c0528e276caf4",
       "version_major": 2,
       "version_minor": 0
      },
      "text/plain": [
       "Calculating Metrics:   0%|          | 0/4 [00:00<?, ?it/s]"
      ]
     },
     "metadata": {},
     "output_type": "display_data"
    },
    {
     "data": {
      "application/vnd.jupyter.widget-view+json": {
       "model_id": "5102cd031dae48a2be293be53e6fce62",
       "version_major": 2,
       "version_minor": 0
      },
      "text/plain": [
       "Calculating Metrics:   0%|          | 0/4 [00:00<?, ?it/s]"
      ]
     },
     "metadata": {},
     "output_type": "display_data"
    },
    {
     "data": {
      "application/vnd.jupyter.widget-view+json": {
       "model_id": "36959b2b2e0d4985a91e9e291b0d3cda",
       "version_major": 2,
       "version_minor": 0
      },
      "text/plain": [
       "Calculating Metrics:   0%|          | 0/7 [00:00<?, ?it/s]"
      ]
     },
     "metadata": {},
     "output_type": "display_data"
    },
    {
     "data": {
      "application/vnd.jupyter.widget-view+json": {
       "model_id": "e5fd149c881148af81e40ee918136856",
       "version_major": 2,
       "version_minor": 0
      },
      "text/plain": [
       "Calculating Metrics:   0%|          | 0/4 [00:00<?, ?it/s]"
      ]
     },
     "metadata": {},
     "output_type": "display_data"
    },
    {
     "data": {
      "application/vnd.jupyter.widget-view+json": {
       "model_id": "732decf03d404dc8963a7ab0612949e2",
       "version_major": 2,
       "version_minor": 0
      },
      "text/plain": [
       "Calculating Metrics:   0%|          | 0/4 [00:00<?, ?it/s]"
      ]
     },
     "metadata": {},
     "output_type": "display_data"
    },
    {
     "data": {
      "application/vnd.jupyter.widget-view+json": {
       "model_id": "86a44d8cce11421f8b2b818b270fd778",
       "version_major": 2,
       "version_minor": 0
      },
      "text/plain": [
       "Calculating Metrics:   0%|          | 0/4 [00:00<?, ?it/s]"
      ]
     },
     "metadata": {},
     "output_type": "display_data"
    },
    {
     "data": {
      "application/vnd.jupyter.widget-view+json": {
       "model_id": "704da7fae9714c839ec79e7fe5e43eeb",
       "version_major": 2,
       "version_minor": 0
      },
      "text/plain": [
       "Calculating Metrics:   0%|          | 0/7 [00:00<?, ?it/s]"
      ]
     },
     "metadata": {},
     "output_type": "display_data"
    }
   ],
   "source": [
    "result = context.assistants.onboarding.run(\n",
    "    batch_request=batch_request, exclude_column_names=exclude_column_names,\n",
    ")\n",
    "validator.expectation_suite = result.get_expectation_suite(\n",
    "    expectation_suite_name=expectation_suite_name\n",
    ")"
   ]
  },
  {
   "cell_type": "markdown",
   "id": "8f866bf3",
   "metadata": {},
   "source": [
    "# Save & review your new Expectation Suite\n",
    "\n",
    "Let's save the draft expectation suite as a JSON file in the\n",
    "`great_expectations/expectations` directory of your project and rebuild the Data\n",
    " Docs site to make it easy to review your new suite."
   ]
  },
  {
   "cell_type": "code",
   "execution_count": 4,
   "id": "3d42aa89",
   "metadata": {},
   "outputs": [
    {
     "name": "stdout",
     "output_type": "stream",
     "text": [
      "2022-11-12T15:30:30-0500 - INFO - \t111 expectation(s) included in expectation_suite.\n",
      "{\n",
      "  \"expectations\": [\n",
      "    {\n",
      "      \"kwargs\": {\n",
      "        \"min_value\": 76004,\n",
      "        \"max_value\": 76004\n",
      "      },\n",
      "      \"meta\": {\n",
      "        \"profiler_details\": {\n",
      "          \"metric_configuration\": {\n",
      "            \"metric_name\": \"table.row_count\",\n",
      "            \"domain_kwargs\": {},\n",
      "            \"metric_value_kwargs\": null,\n",
      "            \"metric_dependencies\": null\n",
      "          },\n",
      "          \"num_batches\": 1\n",
      "        }\n",
      "      },\n",
      "      \"expectation_type\": \"expect_table_row_count_to_be_between\"\n",
      "    },\n",
      "    {\n",
      "      \"kwargs\": {\n",
      "        \"column_set\": [\n",
      "          \"minute_offsets\",\n",
      "          \"img_type\",\n",
      "          \"llcrnrlon\",\n",
      "          \"urcrnrlat\",\n",
      "          \"width_m\",\n",
      "          \"episode_id\",\n",
      "          \"proj\",\n",
      "          \"data_min\",\n",
      "          \"file_name\",\n",
      "          \"event_type\",\n",
      "          \"data_max\",\n",
      "          \"llcrnrlat\",\n",
      "          \"file_index\",\n",
      "          \"size_x\",\n",
      "          \"pct_missing\",\n",
      "          \"size_y\",\n",
      "          \"urcrnrlon\",\n",
      "          \"height_m\",\n",
      "          \"event_id\",\n",
      "          \"id\",\n",
      "          \"time_utc\"\n",
      "        ],\n",
      "        \"exact_match\": null\n",
      "      },\n",
      "      \"meta\": {\n",
      "        \"profiler_details\": {\n",
      "          \"success_ratio\": 1.0\n",
      "        }\n",
      "      },\n",
      "      \"expectation_type\": \"expect_table_columns_to_match_set\"\n",
      "    },\n",
      "    {\n",
      "      \"kwargs\": {\n",
      "        \"column\": \"llcrnrlat\"\n",
      "      },\n",
      "      \"meta\": {\n",
      "        \"profiler_details\": {\n",
      "          \"metric_configuration\": {\n",
      "            \"metric_name\": \"column_values.nonnull.unexpected_count\",\n",
      "            \"domain_kwargs\": {\n",
      "              \"column\": \"llcrnrlat\"\n",
      "            },\n",
      "            \"metric_value_kwargs\": null,\n",
      "            \"metric_dependencies\": null\n",
      "          },\n",
      "          \"num_batches\": 1\n",
      "        }\n",
      "      },\n",
      "      \"expectation_type\": \"expect_column_values_to_not_be_null\"\n",
      "    },\n",
      "    {\n",
      "      \"kwargs\": {\n",
      "        \"column\": \"llcrnrlon\"\n",
      "      },\n",
      "      \"meta\": {\n",
      "        \"profiler_details\": {\n",
      "          \"metric_configuration\": {\n",
      "            \"metric_name\": \"column_values.nonnull.unexpected_count\",\n",
      "            \"domain_kwargs\": {\n",
      "              \"column\": \"llcrnrlon\"\n",
      "            },\n",
      "            \"metric_value_kwargs\": null,\n",
      "            \"metric_dependencies\": null\n",
      "          },\n",
      "          \"num_batches\": 1\n",
      "        }\n",
      "      },\n",
      "      \"expectation_type\": \"expect_column_values_to_not_be_null\"\n",
      "    },\n",
      "    {\n",
      "      \"kwargs\": {\n",
      "        \"column\": \"urcrnrlat\"\n",
      "      },\n",
      "      \"meta\": {\n",
      "        \"profiler_details\": {\n",
      "          \"metric_configuration\": {\n",
      "            \"metric_name\": \"column_values.nonnull.unexpected_count\",\n",
      "            \"domain_kwargs\": {\n",
      "              \"column\": \"urcrnrlat\"\n",
      "            },\n",
      "            \"metric_value_kwargs\": null,\n",
      "            \"metric_dependencies\": null\n",
      "          },\n",
      "          \"num_batches\": 1\n",
      "        }\n",
      "      },\n",
      "      \"expectation_type\": \"expect_column_values_to_not_be_null\"\n",
      "    },\n",
      "    {\n",
      "      \"kwargs\": {\n",
      "        \"column\": \"urcrnrlon\"\n",
      "      },\n",
      "      \"meta\": {\n",
      "        \"profiler_details\": {\n",
      "          \"metric_configuration\": {\n",
      "            \"metric_name\": \"column_values.nonnull.unexpected_count\",\n",
      "            \"domain_kwargs\": {\n",
      "              \"column\": \"urcrnrlon\"\n",
      "            },\n",
      "            \"metric_value_kwargs\": null,\n",
      "            \"metric_dependencies\": null\n",
      "          },\n",
      "          \"num_batches\": 1\n",
      "        }\n",
      "      },\n",
      "      \"expectation_type\": \"expect_column_values_to_not_be_null\"\n",
      "    },\n",
      "    {\n",
      "      \"kwargs\": {\n",
      "        \"column\": \"proj\"\n",
      "      },\n",
      "      \"meta\": {\n",
      "        \"profiler_details\": {\n",
      "          \"metric_configuration\": {\n",
      "            \"metric_name\": \"column_values.nonnull.unexpected_count\",\n",
      "            \"domain_kwargs\": {\n",
      "              \"column\": \"proj\"\n",
      "            },\n",
      "            \"metric_value_kwargs\": null,\n",
      "            \"metric_dependencies\": null\n",
      "          },\n",
      "          \"num_batches\": 1\n",
      "        }\n",
      "      },\n",
      "      \"expectation_type\": \"expect_column_values_to_not_be_null\"\n",
      "    },\n",
      "    {\n",
      "      \"kwargs\": {\n",
      "        \"column\": \"size_x\"\n",
      "      },\n",
      "      \"meta\": {\n",
      "        \"profiler_details\": {\n",
      "          \"metric_configuration\": {\n",
      "            \"metric_name\": \"column_values.nonnull.unexpected_count\",\n",
      "            \"domain_kwargs\": {\n",
      "              \"column\": \"size_x\"\n",
      "            },\n",
      "            \"metric_value_kwargs\": null,\n",
      "            \"metric_dependencies\": null\n",
      "          },\n",
      "          \"num_batches\": 1\n",
      "        }\n",
      "      },\n",
      "      \"expectation_type\": \"expect_column_values_to_not_be_null\"\n",
      "    },\n",
      "    {\n",
      "      \"kwargs\": {\n",
      "        \"column\": \"size_y\"\n",
      "      },\n",
      "      \"meta\": {\n",
      "        \"profiler_details\": {\n",
      "          \"metric_configuration\": {\n",
      "            \"metric_name\": \"column_values.nonnull.unexpected_count\",\n",
      "            \"domain_kwargs\": {\n",
      "              \"column\": \"size_y\"\n",
      "            },\n",
      "            \"metric_value_kwargs\": null,\n",
      "            \"metric_dependencies\": null\n",
      "          },\n",
      "          \"num_batches\": 1\n",
      "        }\n",
      "      },\n",
      "      \"expectation_type\": \"expect_column_values_to_not_be_null\"\n",
      "    },\n",
      "    {\n",
      "      \"kwargs\": {\n",
      "        \"column\": \"height_m\"\n",
      "      },\n",
      "      \"meta\": {\n",
      "        \"profiler_details\": {\n",
      "          \"metric_configuration\": {\n",
      "            \"metric_name\": \"column_values.nonnull.unexpected_count\",\n",
      "            \"domain_kwargs\": {\n",
      "              \"column\": \"height_m\"\n",
      "            },\n",
      "            \"metric_value_kwargs\": null,\n",
      "            \"metric_dependencies\": null\n",
      "          },\n",
      "          \"num_batches\": 1\n",
      "        }\n",
      "      },\n",
      "      \"expectation_type\": \"expect_column_values_to_not_be_null\"\n",
      "    },\n",
      "    {\n",
      "      \"kwargs\": {\n",
      "        \"column\": \"width_m\"\n",
      "      },\n",
      "      \"meta\": {\n",
      "        \"profiler_details\": {\n",
      "          \"metric_configuration\": {\n",
      "            \"metric_name\": \"column_values.nonnull.unexpected_count\",\n",
      "            \"domain_kwargs\": {\n",
      "              \"column\": \"width_m\"\n",
      "            },\n",
      "            \"metric_value_kwargs\": null,\n",
      "            \"metric_dependencies\": null\n",
      "          },\n",
      "          \"num_batches\": 1\n",
      "        }\n",
      "      },\n",
      "      \"expectation_type\": \"expect_column_values_to_not_be_null\"\n",
      "    },\n",
      "    {\n",
      "      \"kwargs\": {\n",
      "        \"column\": \"pct_missing\"\n",
      "      },\n",
      "      \"meta\": {\n",
      "        \"profiler_details\": {\n",
      "          \"metric_configuration\": {\n",
      "            \"metric_name\": \"column_values.nonnull.unexpected_count\",\n",
      "            \"domain_kwargs\": {\n",
      "              \"column\": \"pct_missing\"\n",
      "            },\n",
      "            \"metric_value_kwargs\": null,\n",
      "            \"metric_dependencies\": null\n",
      "          },\n",
      "          \"num_batches\": 1\n",
      "        }\n",
      "      },\n",
      "      \"expectation_type\": \"expect_column_values_to_not_be_null\"\n",
      "    },\n",
      "    {\n",
      "      \"kwargs\": {\n",
      "        \"min_value\": 22.037719406438192,\n",
      "        \"strict_max\": false,\n",
      "        \"strict_min\": false,\n",
      "        \"column\": \"llcrnrlat\",\n",
      "        \"max_value\": 22.037719406438192\n",
      "      },\n",
      "      \"meta\": {\n",
      "        \"profiler_details\": {\n",
      "          \"metric_configuration\": {\n",
      "            \"metric_name\": \"column.min\",\n",
      "            \"domain_kwargs\": {\n",
      "              \"column\": \"llcrnrlat\"\n",
      "            },\n",
      "            \"metric_value_kwargs\": null,\n",
      "            \"metric_dependencies\": null\n",
      "          },\n",
      "          \"num_batches\": 1\n",
      "        }\n",
      "      },\n",
      "      \"expectation_type\": \"expect_column_min_to_be_between\"\n",
      "    },\n",
      "    {\n",
      "      \"kwargs\": {\n",
      "        \"min_value\": 47.6451952545839,\n",
      "        \"strict_max\": false,\n",
      "        \"strict_min\": false,\n",
      "        \"column\": \"llcrnrlat\",\n",
      "        \"max_value\": 47.6451952545839\n",
      "      },\n",
      "      \"meta\": {\n",
      "        \"profiler_details\": {\n",
      "          \"metric_configuration\": {\n",
      "            \"metric_name\": \"column.max\",\n",
      "            \"domain_kwargs\": {\n",
      "              \"column\": \"llcrnrlat\"\n",
      "            },\n",
      "            \"metric_value_kwargs\": null,\n",
      "            \"metric_dependencies\": null\n",
      "          },\n",
      "          \"num_batches\": 1\n",
      "        }\n",
      "      },\n",
      "      \"expectation_type\": \"expect_column_max_to_be_between\"\n",
      "    },\n",
      "    {\n",
      "      \"kwargs\": {\n",
      "        \"min_value\": 22.037719406438192,\n",
      "        \"strict_max\": false,\n",
      "        \"strict_min\": false,\n",
      "        \"column\": \"llcrnrlat\",\n",
      "        \"max_value\": 47.6451952545839,\n",
      "        \"mostly\": 1.0\n",
      "      },\n",
      "      \"meta\": {\n",
      "        \"profiler_details\": {\n",
      "          \"column_min_values_range_estimator\": {\n",
      "            \"metric_configuration\": {\n",
      "              \"metric_name\": \"column.min\",\n",
      "              \"domain_kwargs\": {\n",
      "                \"column\": \"llcrnrlat\"\n",
      "              },\n",
      "              \"metric_value_kwargs\": null,\n",
      "              \"metric_dependencies\": null\n",
      "            },\n",
      "            \"num_batches\": 1\n",
      "          },\n",
      "          \"column_max_values_range_estimator\": {\n",
      "            \"metric_configuration\": {\n",
      "              \"metric_name\": \"column.max\",\n",
      "              \"domain_kwargs\": {\n",
      "                \"column\": \"llcrnrlat\"\n",
      "              },\n",
      "              \"metric_value_kwargs\": null,\n",
      "              \"metric_dependencies\": null\n",
      "            },\n",
      "            \"num_batches\": 1\n",
      "          }\n",
      "        }\n",
      "      },\n",
      "      \"expectation_type\": \"expect_column_values_to_be_between\"\n",
      "    },\n",
      "    {\n",
      "      \"kwargs\": {\n",
      "        \"allow_relative_error\": false,\n",
      "        \"quantile_ranges\": {\n",
      "          \"quantiles\": [\n",
      "            0.25,\n",
      "            0.5,\n",
      "            0.75\n",
      "          ],\n",
      "          \"value_ranges\": [\n",
      "            [\n",
      "              31.504089053000357,\n",
      "              31.504089053000357\n",
      "            ],\n",
      "            [\n",
      "              35.90351723295371,\n",
      "              35.90351723295371\n",
      "            ],\n",
      "            [\n",
      "              40.25077938682679,\n",
      "              40.25077938682679\n",
      "            ]\n",
      "          ]\n",
      "        },\n",
      "        \"column\": \"llcrnrlat\"\n",
      "      },\n",
      "      \"meta\": {\n",
      "        \"profiler_details\": {\n",
      "          \"metric_configuration\": {\n",
      "            \"metric_name\": \"column.quantile_values\",\n",
      "            \"domain_kwargs\": {\n",
      "              \"column\": \"llcrnrlat\"\n",
      "            },\n",
      "            \"metric_value_kwargs\": {\n",
      "              \"quantiles\": [\n",
      "                0.25,\n",
      "                0.5,\n",
      "                0.75\n",
      "              ],\n",
      "              \"allow_relative_error\": false\n",
      "            },\n",
      "            \"metric_dependencies\": null\n",
      "          },\n",
      "          \"num_batches\": 1\n",
      "        }\n",
      "      },\n",
      "      \"expectation_type\": \"expect_column_quantile_values_to_be_between\"\n",
      "    },\n",
      "    {\n",
      "      \"kwargs\": {\n",
      "        \"min_value\": 35.90351723295371,\n",
      "        \"strict_max\": false,\n",
      "        \"strict_min\": false,\n",
      "        \"column\": \"llcrnrlat\",\n",
      "        \"max_value\": 35.90351723295371\n",
      "      },\n",
      "      \"meta\": {\n",
      "        \"profiler_details\": {\n",
      "          \"metric_configuration\": {\n",
      "            \"metric_name\": \"column.median\",\n",
      "            \"domain_kwargs\": {\n",
      "              \"column\": \"llcrnrlat\"\n",
      "            },\n",
      "            \"metric_value_kwargs\": null,\n",
      "            \"metric_dependencies\": null\n",
      "          },\n",
      "          \"num_batches\": 1\n",
      "        }\n",
      "      },\n",
      "      \"expectation_type\": \"expect_column_median_to_be_between\"\n",
      "    },\n",
      "    {\n",
      "      \"kwargs\": {\n",
      "        \"min_value\": 35.88721299948126,\n",
      "        \"strict_max\": false,\n",
      "        \"strict_min\": false,\n",
      "        \"column\": \"llcrnrlat\",\n",
      "        \"max_value\": 35.88721299948126\n",
      "      },\n",
      "      \"meta\": {\n",
      "        \"profiler_details\": {\n",
      "          \"metric_configuration\": {\n",
      "            \"metric_name\": \"column.mean\",\n",
      "            \"domain_kwargs\": {\n",
      "              \"column\": \"llcrnrlat\"\n",
      "            },\n",
      "            \"metric_value_kwargs\": null,\n",
      "            \"metric_dependencies\": null\n",
      "          },\n",
      "          \"num_batches\": 1\n",
      "        }\n",
      "      },\n",
      "      \"expectation_type\": \"expect_column_mean_to_be_between\"\n",
      "    },\n",
      "    {\n",
      "      \"kwargs\": {\n",
      "        \"min_value\": 5.594122687133443,\n",
      "        \"strict_max\": false,\n",
      "        \"strict_min\": false,\n",
      "        \"column\": \"llcrnrlat\",\n",
      "        \"max_value\": 5.594122687133443\n",
      "      },\n",
      "      \"meta\": {\n",
      "        \"profiler_details\": {\n",
      "          \"metric_configuration\": {\n",
      "            \"metric_name\": \"column.standard_deviation\",\n",
      "            \"domain_kwargs\": {\n",
      "              \"column\": \"llcrnrlat\"\n",
      "            },\n",
      "            \"metric_value_kwargs\": null,\n",
      "            \"metric_dependencies\": null\n",
      "          },\n",
      "          \"num_batches\": 1\n",
      "        }\n",
      "      },\n",
      "      \"expectation_type\": \"expect_column_stdev_to_be_between\"\n",
      "    },\n",
      "    {\n",
      "      \"kwargs\": {\n",
      "        \"min_value\": -127.23602309043991,\n",
      "        \"strict_max\": false,\n",
      "        \"strict_min\": false,\n",
      "        \"column\": \"llcrnrlon\",\n",
      "        \"max_value\": -127.23602309043991\n",
      "      },\n",
      "      \"meta\": {\n",
      "        \"profiler_details\": {\n",
      "          \"metric_configuration\": {\n",
      "            \"metric_name\": \"column.min\",\n",
      "            \"domain_kwargs\": {\n",
      "              \"column\": \"llcrnrlon\"\n",
      "            },\n",
      "            \"metric_value_kwargs\": null,\n",
      "            \"metric_dependencies\": null\n",
      "          },\n",
      "          \"num_batches\": 1\n",
      "        }\n",
      "      },\n",
      "      \"expectation_type\": \"expect_column_min_to_be_between\"\n",
      "    },\n",
      "    {\n",
      "      \"kwargs\": {\n",
      "        \"min_value\": -69.59615266178442,\n",
      "        \"strict_max\": false,\n",
      "        \"strict_min\": false,\n",
      "        \"column\": \"llcrnrlon\",\n",
      "        \"max_value\": -69.59615266178442\n",
      "      },\n",
      "      \"meta\": {\n",
      "        \"profiler_details\": {\n",
      "          \"metric_configuration\": {\n",
      "            \"metric_name\": \"column.max\",\n",
      "            \"domain_kwargs\": {\n",
      "              \"column\": \"llcrnrlon\"\n",
      "            },\n",
      "            \"metric_value_kwargs\": null,\n",
      "            \"metric_dependencies\": null\n",
      "          },\n",
      "          \"num_batches\": 1\n",
      "        }\n",
      "      },\n",
      "      \"expectation_type\": \"expect_column_max_to_be_between\"\n",
      "    },\n",
      "    {\n",
      "      \"kwargs\": {\n",
      "        \"min_value\": -127.23602309043991,\n",
      "        \"strict_max\": false,\n",
      "        \"strict_min\": false,\n",
      "        \"column\": \"llcrnrlon\",\n",
      "        \"max_value\": -69.59615266178442,\n",
      "        \"mostly\": 1.0\n",
      "      },\n",
      "      \"meta\": {\n",
      "        \"profiler_details\": {\n",
      "          \"column_min_values_range_estimator\": {\n",
      "            \"metric_configuration\": {\n",
      "              \"metric_name\": \"column.min\",\n",
      "              \"domain_kwargs\": {\n",
      "                \"column\": \"llcrnrlon\"\n",
      "              },\n",
      "              \"metric_value_kwargs\": null,\n",
      "              \"metric_dependencies\": null\n",
      "            },\n",
      "            \"num_batches\": 1\n",
      "          },\n",
      "          \"column_max_values_range_estimator\": {\n",
      "            \"metric_configuration\": {\n",
      "              \"metric_name\": \"column.max\",\n",
      "              \"domain_kwargs\": {\n",
      "                \"column\": \"llcrnrlon\"\n",
      "              },\n",
      "              \"metric_value_kwargs\": null,\n",
      "              \"metric_dependencies\": null\n",
      "            },\n",
      "            \"num_batches\": 1\n",
      "          }\n",
      "        }\n",
      "      },\n",
      "      \"expectation_type\": \"expect_column_values_to_be_between\"\n",
      "    },\n",
      "    {\n",
      "      \"kwargs\": {\n",
      "        \"allow_relative_error\": false,\n",
      "        \"quantile_ranges\": {\n",
      "          \"quantiles\": [\n",
      "            0.25,\n",
      "            0.5,\n",
      "            0.75\n",
      "          ],\n",
      "          \"value_ranges\": [\n",
      "            [\n",
      "              -101.95866854645936,\n",
      "              -101.95866854645936\n",
      "            ],\n",
      "            [\n",
      "              -93.61010329974404,\n",
      "              -93.61010329974404\n",
      "            ],\n",
      "            [\n",
      "              -85.50213715244381,\n",
      "              -85.50213715244381\n",
      "            ]\n",
      "          ]\n",
      "        },\n",
      "        \"column\": \"llcrnrlon\"\n",
      "      },\n",
      "      \"meta\": {\n",
      "        \"profiler_details\": {\n",
      "          \"metric_configuration\": {\n",
      "            \"metric_name\": \"column.quantile_values\",\n",
      "            \"domain_kwargs\": {\n",
      "              \"column\": \"llcrnrlon\"\n",
      "            },\n",
      "            \"metric_value_kwargs\": {\n",
      "              \"quantiles\": [\n",
      "                0.25,\n",
      "                0.5,\n",
      "                0.75\n",
      "              ],\n",
      "              \"allow_relative_error\": false\n",
      "            },\n",
      "            \"metric_dependencies\": null\n",
      "          },\n",
      "          \"num_batches\": 1\n",
      "        }\n",
      "      },\n",
      "      \"expectation_type\": \"expect_column_quantile_values_to_be_between\"\n",
      "    },\n",
      "    {\n",
      "      \"kwargs\": {\n",
      "        \"min_value\": -93.61010329974404,\n",
      "        \"strict_max\": false,\n",
      "        \"strict_min\": false,\n",
      "        \"column\": \"llcrnrlon\",\n",
      "        \"max_value\": -93.61010329974404\n",
      "      },\n",
      "      \"meta\": {\n",
      "        \"profiler_details\": {\n",
      "          \"metric_configuration\": {\n",
      "            \"metric_name\": \"column.median\",\n",
      "            \"domain_kwargs\": {\n",
      "              \"column\": \"llcrnrlon\"\n",
      "            },\n",
      "            \"metric_value_kwargs\": null,\n",
      "            \"metric_dependencies\": null\n",
      "          },\n",
      "          \"num_batches\": 1\n",
      "        }\n",
      "      },\n",
      "      \"expectation_type\": \"expect_column_median_to_be_between\"\n",
      "    },\n",
      "    {\n",
      "      \"kwargs\": {\n",
      "        \"min_value\": -95.0955555304342,\n",
      "        \"strict_max\": false,\n",
      "        \"strict_min\": false,\n",
      "        \"column\": \"llcrnrlon\",\n",
      "        \"max_value\": -95.0955555304342\n",
      "      },\n",
      "      \"meta\": {\n",
      "        \"profiler_details\": {\n",
      "          \"metric_configuration\": {\n",
      "            \"metric_name\": \"column.mean\",\n",
      "            \"domain_kwargs\": {\n",
      "              \"column\": \"llcrnrlon\"\n",
      "            },\n",
      "            \"metric_value_kwargs\": null,\n",
      "            \"metric_dependencies\": null\n",
      "          },\n",
      "          \"num_batches\": 1\n",
      "        }\n",
      "      },\n",
      "      \"expectation_type\": \"expect_column_mean_to_be_between\"\n",
      "    },\n",
      "    {\n",
      "      \"kwargs\": {\n",
      "        \"min_value\": 12.521708865404293,\n",
      "        \"strict_max\": false,\n",
      "        \"strict_min\": false,\n",
      "        \"column\": \"llcrnrlon\",\n",
      "        \"max_value\": 12.521708865404293\n",
      "      },\n",
      "      \"meta\": {\n",
      "        \"profiler_details\": {\n",
      "          \"metric_configuration\": {\n",
      "            \"metric_name\": \"column.standard_deviation\",\n",
      "            \"domain_kwargs\": {\n",
      "              \"column\": \"llcrnrlon\"\n",
      "            },\n",
      "            \"metric_value_kwargs\": null,\n",
      "            \"metric_dependencies\": null\n",
      "          },\n",
      "          \"num_batches\": 1\n",
      "        }\n",
      "      },\n",
      "      \"expectation_type\": \"expect_column_stdev_to_be_between\"\n",
      "    },\n",
      "    {\n",
      "      \"kwargs\": {\n",
      "        \"min_value\": 24.88471165440152,\n",
      "        \"strict_max\": false,\n",
      "        \"strict_min\": false,\n",
      "        \"column\": \"urcrnrlat\",\n",
      "        \"max_value\": 24.88471165440152\n",
      "      },\n",
      "      \"meta\": {\n",
      "        \"profiler_details\": {\n",
      "          \"metric_configuration\": {\n",
      "            \"metric_name\": \"column.min\",\n",
      "            \"domain_kwargs\": {\n",
      "              \"column\": \"urcrnrlat\"\n",
      "            },\n",
      "            \"metric_value_kwargs\": null,\n",
      "            \"metric_dependencies\": null\n",
      "          },\n",
      "          \"num_batches\": 1\n",
      "        }\n",
      "      },\n",
      "      \"expectation_type\": \"expect_column_min_to_be_between\"\n",
      "    },\n",
      "    {\n",
      "      \"kwargs\": {\n",
      "        \"min_value\": 51.89677240465032,\n",
      "        \"strict_max\": false,\n",
      "        \"strict_min\": false,\n",
      "        \"column\": \"urcrnrlat\",\n",
      "        \"max_value\": 51.89677240465032\n",
      "      },\n",
      "      \"meta\": {\n",
      "        \"profiler_details\": {\n",
      "          \"metric_configuration\": {\n",
      "            \"metric_name\": \"column.max\",\n",
      "            \"domain_kwargs\": {\n",
      "              \"column\": \"urcrnrlat\"\n",
      "            },\n",
      "            \"metric_value_kwargs\": null,\n",
      "            \"metric_dependencies\": null\n",
      "          },\n",
      "          \"num_batches\": 1\n",
      "        }\n",
      "      },\n",
      "      \"expectation_type\": \"expect_column_max_to_be_between\"\n",
      "    },\n",
      "    {\n",
      "      \"kwargs\": {\n",
      "        \"min_value\": 24.88471165440152,\n",
      "        \"strict_max\": false,\n",
      "        \"strict_min\": false,\n",
      "        \"column\": \"urcrnrlat\",\n",
      "        \"max_value\": 51.89677240465032,\n",
      "        \"mostly\": 1.0\n",
      "      },\n",
      "      \"meta\": {\n",
      "        \"profiler_details\": {\n",
      "          \"column_min_values_range_estimator\": {\n",
      "            \"metric_configuration\": {\n",
      "              \"metric_name\": \"column.min\",\n",
      "              \"domain_kwargs\": {\n",
      "                \"column\": \"urcrnrlat\"\n",
      "              },\n",
      "              \"metric_value_kwargs\": null,\n",
      "              \"metric_dependencies\": null\n",
      "            },\n",
      "            \"num_batches\": 1\n",
      "          },\n",
      "          \"column_max_values_range_estimator\": {\n",
      "            \"metric_configuration\": {\n",
      "              \"metric_name\": \"column.max\",\n",
      "              \"domain_kwargs\": {\n",
      "                \"column\": \"urcrnrlat\"\n",
      "              },\n",
      "              \"metric_value_kwargs\": null,\n",
      "              \"metric_dependencies\": null\n",
      "            },\n",
      "            \"num_batches\": 1\n",
      "          }\n",
      "        }\n",
      "      },\n",
      "      \"expectation_type\": \"expect_column_values_to_be_between\"\n",
      "    },\n",
      "    {\n",
      "      \"kwargs\": {\n",
      "        \"allow_relative_error\": false,\n",
      "        \"quantile_ranges\": {\n",
      "          \"quantiles\": [\n",
      "            0.25,\n",
      "            0.5,\n",
      "            0.75\n",
      "          ],\n",
      "          \"value_ranges\": [\n",
      "            [\n",
      "              34.78448218289119,\n",
      "              34.78448218289119\n",
      "            ],\n",
      "            [\n",
      "              39.16108782439054,\n",
      "              39.16108782439054\n",
      "            ],\n",
      "            [\n",
      "              43.301251558311776,\n",
      "              43.301251558311776\n",
      "            ]\n",
      "          ]\n",
      "        },\n",
      "        \"column\": \"urcrnrlat\"\n",
      "      },\n",
      "      \"meta\": {\n",
      "        \"profiler_details\": {\n",
      "          \"metric_configuration\": {\n",
      "            \"metric_name\": \"column.quantile_values\",\n",
      "            \"domain_kwargs\": {\n",
      "              \"column\": \"urcrnrlat\"\n",
      "            },\n",
      "            \"metric_value_kwargs\": {\n",
      "              \"quantiles\": [\n",
      "                0.25,\n",
      "                0.5,\n",
      "                0.75\n",
      "              ],\n",
      "              \"allow_relative_error\": false\n",
      "            },\n",
      "            \"metric_dependencies\": null\n",
      "          },\n",
      "          \"num_batches\": 1\n",
      "        }\n",
      "      },\n",
      "      \"expectation_type\": \"expect_column_quantile_values_to_be_between\"\n",
      "    },\n",
      "    {\n",
      "      \"kwargs\": {\n",
      "        \"min_value\": 39.16108782439054,\n",
      "        \"strict_max\": false,\n",
      "        \"strict_min\": false,\n",
      "        \"column\": \"urcrnrlat\",\n",
      "        \"max_value\": 39.16108782439054\n",
      "      },\n",
      "      \"meta\": {\n",
      "        \"profiler_details\": {\n",
      "          \"metric_configuration\": {\n",
      "            \"metric_name\": \"column.median\",\n",
      "            \"domain_kwargs\": {\n",
      "              \"column\": \"urcrnrlat\"\n",
      "            },\n",
      "            \"metric_value_kwargs\": null,\n",
      "            \"metric_dependencies\": null\n",
      "          },\n",
      "          \"num_batches\": 1\n",
      "        }\n",
      "      },\n",
      "      \"expectation_type\": \"expect_column_median_to_be_between\"\n",
      "    },\n",
      "    {\n",
      "      \"kwargs\": {\n",
      "        \"min_value\": 39.10037506511727,\n",
      "        \"strict_max\": false,\n",
      "        \"strict_min\": false,\n",
      "        \"column\": \"urcrnrlat\",\n",
      "        \"max_value\": 39.10037506511727\n",
      "      },\n",
      "      \"meta\": {\n",
      "        \"profiler_details\": {\n",
      "          \"metric_configuration\": {\n",
      "            \"metric_name\": \"column.mean\",\n",
      "            \"domain_kwargs\": {\n",
      "              \"column\": \"urcrnrlat\"\n",
      "            },\n",
      "            \"metric_value_kwargs\": null,\n",
      "            \"metric_dependencies\": null\n",
      "          },\n",
      "          \"num_batches\": 1\n",
      "        }\n",
      "      },\n",
      "      \"expectation_type\": \"expect_column_mean_to_be_between\"\n",
      "    },\n",
      "    {\n",
      "      \"kwargs\": {\n",
      "        \"min_value\": 5.636998305059682,\n",
      "        \"strict_max\": false,\n",
      "        \"strict_min\": false,\n",
      "        \"column\": \"urcrnrlat\",\n",
      "        \"max_value\": 5.636998305059682\n",
      "      },\n",
      "      \"meta\": {\n",
      "        \"profiler_details\": {\n",
      "          \"metric_configuration\": {\n",
      "            \"metric_name\": \"column.standard_deviation\",\n",
      "            \"domain_kwargs\": {\n",
      "              \"column\": \"urcrnrlat\"\n",
      "            },\n",
      "            \"metric_value_kwargs\": null,\n",
      "            \"metric_dependencies\": null\n",
      "          },\n",
      "          \"num_batches\": 1\n",
      "        }\n",
      "      },\n",
      "      \"expectation_type\": \"expect_column_stdev_to_be_between\"\n",
      "    },\n",
      "    {\n",
      "      \"kwargs\": {\n",
      "        \"min_value\": -124.09200893291904,\n",
      "        \"strict_max\": false,\n",
      "        \"strict_min\": false,\n",
      "        \"column\": \"urcrnrlon\",\n",
      "        \"max_value\": -124.09200893291904\n",
      "      },\n",
      "      \"meta\": {\n",
      "        \"profiler_details\": {\n",
      "          \"metric_configuration\": {\n",
      "            \"metric_name\": \"column.min\",\n",
      "            \"domain_kwargs\": {\n",
      "              \"column\": \"urcrnrlon\"\n",
      "            },\n",
      "            \"metric_value_kwargs\": null,\n",
      "            \"metric_dependencies\": null\n",
      "          },\n",
      "          \"num_batches\": 1\n",
      "        }\n",
      "      },\n",
      "      \"expectation_type\": \"expect_column_min_to_be_between\"\n",
      "    },\n",
      "    {\n",
      "      \"kwargs\": {\n",
      "        \"min_value\": -62.923893868831385,\n",
      "        \"strict_max\": false,\n",
      "        \"strict_min\": false,\n",
      "        \"column\": \"urcrnrlon\",\n",
      "        \"max_value\": -62.923893868831385\n",
      "      },\n",
      "      \"meta\": {\n",
      "        \"profiler_details\": {\n",
      "          \"metric_configuration\": {\n",
      "            \"metric_name\": \"column.max\",\n",
      "            \"domain_kwargs\": {\n",
      "              \"column\": \"urcrnrlon\"\n",
      "            },\n",
      "            \"metric_value_kwargs\": null,\n",
      "            \"metric_dependencies\": null\n",
      "          },\n",
      "          \"num_batches\": 1\n",
      "        }\n",
      "      },\n",
      "      \"expectation_type\": \"expect_column_max_to_be_between\"\n",
      "    },\n",
      "    {\n",
      "      \"kwargs\": {\n",
      "        \"min_value\": -124.09200893291904,\n",
      "        \"strict_max\": false,\n",
      "        \"strict_min\": false,\n",
      "        \"column\": \"urcrnrlon\",\n",
      "        \"max_value\": -62.923893868831385,\n",
      "        \"mostly\": 1.0\n",
      "      },\n",
      "      \"meta\": {\n",
      "        \"profiler_details\": {\n",
      "          \"column_min_values_range_estimator\": {\n",
      "            \"metric_configuration\": {\n",
      "              \"metric_name\": \"column.min\",\n",
      "              \"domain_kwargs\": {\n",
      "                \"column\": \"urcrnrlon\"\n",
      "              },\n",
      "              \"metric_value_kwargs\": null,\n",
      "              \"metric_dependencies\": null\n",
      "            },\n",
      "            \"num_batches\": 1\n",
      "          },\n",
      "          \"column_max_values_range_estimator\": {\n",
      "            \"metric_configuration\": {\n",
      "              \"metric_name\": \"column.max\",\n",
      "              \"domain_kwargs\": {\n",
      "                \"column\": \"urcrnrlon\"\n",
      "              },\n",
      "              \"metric_value_kwargs\": null,\n",
      "              \"metric_dependencies\": null\n",
      "            },\n",
      "            \"num_batches\": 1\n",
      "          }\n",
      "        }\n",
      "      },\n",
      "      \"expectation_type\": \"expect_column_values_to_be_between\"\n",
      "    },\n",
      "    {\n",
      "      \"kwargs\": {\n",
      "        \"allow_relative_error\": false,\n",
      "        \"quantile_ranges\": {\n",
      "          \"quantiles\": [\n",
      "            0.25,\n",
      "            0.5,\n",
      "            0.75\n",
      "          ],\n",
      "          \"value_ranges\": [\n",
      "            [\n",
      "              -97.6054098345261,\n",
      "              -97.6054098345261\n",
      "            ],\n",
      "            [\n",
      "              -88.82070045499479,\n",
      "              -88.82070045499479\n",
      "            ],\n",
      "            [\n",
      "              -80.64909018058297,\n",
      "              -80.64909018058297\n",
      "            ]\n",
      "          ]\n",
      "        },\n",
      "        \"column\": \"urcrnrlon\"\n",
      "      },\n",
      "      \"meta\": {\n",
      "        \"profiler_details\": {\n",
      "          \"metric_configuration\": {\n",
      "            \"metric_name\": \"column.quantile_values\",\n",
      "            \"domain_kwargs\": {\n",
      "              \"column\": \"urcrnrlon\"\n",
      "            },\n",
      "            \"metric_value_kwargs\": {\n",
      "              \"quantiles\": [\n",
      "                0.25,\n",
      "                0.5,\n",
      "                0.75\n",
      "              ],\n",
      "              \"allow_relative_error\": false\n",
      "            },\n",
      "            \"metric_dependencies\": null\n",
      "          },\n",
      "          \"num_batches\": 1\n",
      "        }\n",
      "      },\n",
      "      \"expectation_type\": \"expect_column_quantile_values_to_be_between\"\n",
      "    },\n",
      "    {\n",
      "      \"kwargs\": {\n",
      "        \"min_value\": -88.82070045499482,\n",
      "        \"strict_max\": false,\n",
      "        \"strict_min\": false,\n",
      "        \"column\": \"urcrnrlon\",\n",
      "        \"max_value\": -88.82070045499482\n",
      "      },\n",
      "      \"meta\": {\n",
      "        \"profiler_details\": {\n",
      "          \"metric_configuration\": {\n",
      "            \"metric_name\": \"column.median\",\n",
      "            \"domain_kwargs\": {\n",
      "              \"column\": \"urcrnrlon\"\n",
      "            },\n",
      "            \"metric_value_kwargs\": null,\n",
      "            \"metric_dependencies\": null\n",
      "          },\n",
      "          \"num_batches\": 1\n",
      "        }\n",
      "      },\n",
      "      \"expectation_type\": \"expect_column_median_to_be_between\"\n",
      "    },\n",
      "    {\n",
      "      \"kwargs\": {\n",
      "        \"min_value\": -90.50152810067227,\n",
      "        \"strict_max\": false,\n",
      "        \"strict_min\": false,\n",
      "        \"column\": \"urcrnrlon\",\n",
      "        \"max_value\": -90.50152810067227\n",
      "      },\n",
      "      \"meta\": {\n",
      "        \"profiler_details\": {\n",
      "          \"metric_configuration\": {\n",
      "            \"metric_name\": \"column.mean\",\n",
      "            \"domain_kwargs\": {\n",
      "              \"column\": \"urcrnrlon\"\n",
      "            },\n",
      "            \"metric_value_kwargs\": null,\n",
      "            \"metric_dependencies\": null\n",
      "          },\n",
      "          \"num_batches\": 1\n",
      "        }\n",
      "      },\n",
      "      \"expectation_type\": \"expect_column_mean_to_be_between\"\n",
      "    },\n",
      "    {\n",
      "      \"kwargs\": {\n",
      "        \"min_value\": 13.1033387860828,\n",
      "        \"strict_max\": false,\n",
      "        \"strict_min\": false,\n",
      "        \"column\": \"urcrnrlon\",\n",
      "        \"max_value\": 13.1033387860828\n",
      "      },\n",
      "      \"meta\": {\n",
      "        \"profiler_details\": {\n",
      "          \"metric_configuration\": {\n",
      "            \"metric_name\": \"column.standard_deviation\",\n",
      "            \"domain_kwargs\": {\n",
      "              \"column\": \"urcrnrlon\"\n",
      "            },\n",
      "            \"metric_value_kwargs\": null,\n",
      "            \"metric_dependencies\": null\n",
      "          },\n",
      "          \"num_batches\": 1\n",
      "        }\n",
      "      },\n",
      "      \"expectation_type\": \"expect_column_stdev_to_be_between\"\n",
      "    },\n",
      "    {\n",
      "      \"kwargs\": {\n",
      "        \"min_value\": 48,\n",
      "        \"strict_max\": false,\n",
      "        \"strict_min\": false,\n",
      "        \"column\": \"size_x\",\n",
      "        \"max_value\": 48\n",
      "      },\n",
      "      \"meta\": {\n",
      "        \"profiler_details\": {\n",
      "          \"metric_configuration\": {\n",
      "            \"metric_name\": \"column.min\",\n",
      "            \"domain_kwargs\": {\n",
      "              \"column\": \"size_x\"\n",
      "            },\n",
      "            \"metric_value_kwargs\": null,\n",
      "            \"metric_dependencies\": null\n",
      "          },\n",
      "          \"num_batches\": 1\n",
      "        }\n",
      "      },\n",
      "      \"expectation_type\": \"expect_column_min_to_be_between\"\n",
      "    },\n",
      "    {\n",
      "      \"kwargs\": {\n",
      "        \"min_value\": 768,\n",
      "        \"strict_max\": false,\n",
      "        \"strict_min\": false,\n",
      "        \"column\": \"size_x\",\n",
      "        \"max_value\": 768\n",
      "      },\n",
      "      \"meta\": {\n",
      "        \"profiler_details\": {\n",
      "          \"metric_configuration\": {\n",
      "            \"metric_name\": \"column.max\",\n",
      "            \"domain_kwargs\": {\n",
      "              \"column\": \"size_x\"\n",
      "            },\n",
      "            \"metric_value_kwargs\": null,\n",
      "            \"metric_dependencies\": null\n",
      "          },\n",
      "          \"num_batches\": 1\n",
      "        }\n",
      "      },\n",
      "      \"expectation_type\": \"expect_column_max_to_be_between\"\n",
      "    },\n",
      "    {\n",
      "      \"kwargs\": {\n",
      "        \"min_value\": 48,\n",
      "        \"strict_max\": false,\n",
      "        \"strict_min\": false,\n",
      "        \"column\": \"size_x\",\n",
      "        \"max_value\": 768,\n",
      "        \"mostly\": 1.0\n",
      "      },\n",
      "      \"meta\": {\n",
      "        \"profiler_details\": {\n",
      "          \"column_min_values_range_estimator\": {\n",
      "            \"metric_configuration\": {\n",
      "              \"metric_name\": \"column.min\",\n",
      "              \"domain_kwargs\": {\n",
      "                \"column\": \"size_x\"\n",
      "              },\n",
      "              \"metric_value_kwargs\": null,\n",
      "              \"metric_dependencies\": null\n",
      "            },\n",
      "            \"num_batches\": 1\n",
      "          },\n",
      "          \"column_max_values_range_estimator\": {\n",
      "            \"metric_configuration\": {\n",
      "              \"metric_name\": \"column.max\",\n",
      "              \"domain_kwargs\": {\n",
      "                \"column\": \"size_x\"\n",
      "              },\n",
      "              \"metric_value_kwargs\": null,\n",
      "              \"metric_dependencies\": null\n",
      "            },\n",
      "            \"num_batches\": 1\n",
      "          }\n",
      "        }\n",
      "      },\n",
      "      \"expectation_type\": \"expect_column_values_to_be_between\"\n",
      "    },\n",
      "    {\n",
      "      \"kwargs\": {\n",
      "        \"allow_relative_error\": false,\n",
      "        \"quantile_ranges\": {\n",
      "          \"quantiles\": [\n",
      "            0.25,\n",
      "            0.5,\n",
      "            0.75\n",
      "          ],\n",
      "          \"value_ranges\": [\n",
      "            [\n",
      "              192,\n",
      "              192\n",
      "            ],\n",
      "            [\n",
      "              192,\n",
      "              192\n",
      "            ],\n",
      "            [\n",
      "              384,\n",
      "              384\n",
      "            ]\n",
      "          ]\n",
      "        },\n",
      "        \"column\": \"size_x\"\n",
      "      },\n",
      "      \"meta\": {\n",
      "        \"profiler_details\": {\n",
      "          \"metric_configuration\": {\n",
      "            \"metric_name\": \"column.quantile_values\",\n",
      "            \"domain_kwargs\": {\n",
      "              \"column\": \"size_x\"\n",
      "            },\n",
      "            \"metric_value_kwargs\": {\n",
      "              \"quantiles\": [\n",
      "                0.25,\n",
      "                0.5,\n",
      "                0.75\n",
      "              ],\n",
      "              \"allow_relative_error\": false\n",
      "            },\n",
      "            \"metric_dependencies\": null\n",
      "          },\n",
      "          \"num_batches\": 1\n",
      "        }\n",
      "      },\n",
      "      \"expectation_type\": \"expect_column_quantile_values_to_be_between\"\n",
      "    },\n",
      "    {\n",
      "      \"kwargs\": {\n",
      "        \"min_value\": 192.0,\n",
      "        \"strict_max\": false,\n",
      "        \"strict_min\": false,\n",
      "        \"column\": \"size_x\",\n",
      "        \"max_value\": 192.0\n",
      "      },\n",
      "      \"meta\": {\n",
      "        \"profiler_details\": {\n",
      "          \"metric_configuration\": {\n",
      "            \"metric_name\": \"column.median\",\n",
      "            \"domain_kwargs\": {\n",
      "              \"column\": \"size_x\"\n",
      "            },\n",
      "            \"metric_value_kwargs\": null,\n",
      "            \"metric_dependencies\": null\n",
      "          },\n",
      "          \"num_batches\": 1\n",
      "        }\n",
      "      },\n",
      "      \"expectation_type\": \"expect_column_median_to_be_between\"\n",
      "    },\n",
      "    {\n",
      "      \"kwargs\": {\n",
      "        \"min_value\": 316.45429187937475,\n",
      "        \"strict_max\": false,\n",
      "        \"strict_min\": false,\n",
      "        \"column\": \"size_x\",\n",
      "        \"max_value\": 316.45429187937475\n",
      "      },\n",
      "      \"meta\": {\n",
      "        \"profiler_details\": {\n",
      "          \"metric_configuration\": {\n",
      "            \"metric_name\": \"column.mean\",\n",
      "            \"domain_kwargs\": {\n",
      "              \"column\": \"size_x\"\n",
      "            },\n",
      "            \"metric_value_kwargs\": null,\n",
      "            \"metric_dependencies\": null\n",
      "          },\n",
      "          \"num_batches\": 1\n",
      "        }\n",
      "      },\n",
      "      \"expectation_type\": \"expect_column_mean_to_be_between\"\n",
      "    },\n",
      "    {\n",
      "      \"kwargs\": {\n",
      "        \"min_value\": 238.818326779341,\n",
      "        \"strict_max\": false,\n",
      "        \"strict_min\": false,\n",
      "        \"column\": \"size_x\",\n",
      "        \"max_value\": 238.818326779341\n",
      "      },\n",
      "      \"meta\": {\n",
      "        \"profiler_details\": {\n",
      "          \"metric_configuration\": {\n",
      "            \"metric_name\": \"column.standard_deviation\",\n",
      "            \"domain_kwargs\": {\n",
      "              \"column\": \"size_x\"\n",
      "            },\n",
      "            \"metric_value_kwargs\": null,\n",
      "            \"metric_dependencies\": null\n",
      "          },\n",
      "          \"num_batches\": 1\n",
      "        }\n",
      "      },\n",
      "      \"expectation_type\": \"expect_column_stdev_to_be_between\"\n",
      "    },\n",
      "    {\n",
      "      \"kwargs\": {\n",
      "        \"min_value\": 48,\n",
      "        \"strict_max\": false,\n",
      "        \"strict_min\": false,\n",
      "        \"column\": \"size_y\",\n",
      "        \"max_value\": 48\n",
      "      },\n",
      "      \"meta\": {\n",
      "        \"profiler_details\": {\n",
      "          \"metric_configuration\": {\n",
      "            \"metric_name\": \"column.min\",\n",
      "            \"domain_kwargs\": {\n",
      "              \"column\": \"size_y\"\n",
      "            },\n",
      "            \"metric_value_kwargs\": null,\n",
      "            \"metric_dependencies\": null\n",
      "          },\n",
      "          \"num_batches\": 1\n",
      "        }\n",
      "      },\n",
      "      \"expectation_type\": \"expect_column_min_to_be_between\"\n",
      "    },\n",
      "    {\n",
      "      \"kwargs\": {\n",
      "        \"min_value\": 768,\n",
      "        \"strict_max\": false,\n",
      "        \"strict_min\": false,\n",
      "        \"column\": \"size_y\",\n",
      "        \"max_value\": 768\n",
      "      },\n",
      "      \"meta\": {\n",
      "        \"profiler_details\": {\n",
      "          \"metric_configuration\": {\n",
      "            \"metric_name\": \"column.max\",\n",
      "            \"domain_kwargs\": {\n",
      "              \"column\": \"size_y\"\n",
      "            },\n",
      "            \"metric_value_kwargs\": null,\n",
      "            \"metric_dependencies\": null\n",
      "          },\n",
      "          \"num_batches\": 1\n",
      "        }\n",
      "      },\n",
      "      \"expectation_type\": \"expect_column_max_to_be_between\"\n",
      "    },\n",
      "    {\n",
      "      \"kwargs\": {\n",
      "        \"min_value\": 48,\n",
      "        \"strict_max\": false,\n",
      "        \"strict_min\": false,\n",
      "        \"column\": \"size_y\",\n",
      "        \"max_value\": 768,\n",
      "        \"mostly\": 1.0\n",
      "      },\n",
      "      \"meta\": {\n",
      "        \"profiler_details\": {\n",
      "          \"column_min_values_range_estimator\": {\n",
      "            \"metric_configuration\": {\n",
      "              \"metric_name\": \"column.min\",\n",
      "              \"domain_kwargs\": {\n",
      "                \"column\": \"size_y\"\n",
      "              },\n",
      "              \"metric_value_kwargs\": null,\n",
      "              \"metric_dependencies\": null\n",
      "            },\n",
      "            \"num_batches\": 1\n",
      "          },\n",
      "          \"column_max_values_range_estimator\": {\n",
      "            \"metric_configuration\": {\n",
      "              \"metric_name\": \"column.max\",\n",
      "              \"domain_kwargs\": {\n",
      "                \"column\": \"size_y\"\n",
      "              },\n",
      "              \"metric_value_kwargs\": null,\n",
      "              \"metric_dependencies\": null\n",
      "            },\n",
      "            \"num_batches\": 1\n",
      "          }\n",
      "        }\n",
      "      },\n",
      "      \"expectation_type\": \"expect_column_values_to_be_between\"\n",
      "    },\n",
      "    {\n",
      "      \"kwargs\": {\n",
      "        \"allow_relative_error\": false,\n",
      "        \"quantile_ranges\": {\n",
      "          \"quantiles\": [\n",
      "            0.25,\n",
      "            0.5,\n",
      "            0.75\n",
      "          ],\n",
      "          \"value_ranges\": [\n",
      "            [\n",
      "              192,\n",
      "              192\n",
      "            ],\n",
      "            [\n",
      "              192,\n",
      "              192\n",
      "            ],\n",
      "            [\n",
      "              384,\n",
      "              384\n",
      "            ]\n",
      "          ]\n",
      "        },\n",
      "        \"column\": \"size_y\"\n",
      "      },\n",
      "      \"meta\": {\n",
      "        \"profiler_details\": {\n",
      "          \"metric_configuration\": {\n",
      "            \"metric_name\": \"column.quantile_values\",\n",
      "            \"domain_kwargs\": {\n",
      "              \"column\": \"size_y\"\n",
      "            },\n",
      "            \"metric_value_kwargs\": {\n",
      "              \"quantiles\": [\n",
      "                0.25,\n",
      "                0.5,\n",
      "                0.75\n",
      "              ],\n",
      "              \"allow_relative_error\": false\n",
      "            },\n",
      "            \"metric_dependencies\": null\n",
      "          },\n",
      "          \"num_batches\": 1\n",
      "        }\n",
      "      },\n",
      "      \"expectation_type\": \"expect_column_quantile_values_to_be_between\"\n",
      "    },\n",
      "    {\n",
      "      \"kwargs\": {\n",
      "        \"min_value\": 192.0,\n",
      "        \"strict_max\": false,\n",
      "        \"strict_min\": false,\n",
      "        \"column\": \"size_y\",\n",
      "        \"max_value\": 192.0\n",
      "      },\n",
      "      \"meta\": {\n",
      "        \"profiler_details\": {\n",
      "          \"metric_configuration\": {\n",
      "            \"metric_name\": \"column.median\",\n",
      "            \"domain_kwargs\": {\n",
      "              \"column\": \"size_y\"\n",
      "            },\n",
      "            \"metric_value_kwargs\": null,\n",
      "            \"metric_dependencies\": null\n",
      "          },\n",
      "          \"num_batches\": 1\n",
      "        }\n",
      "      },\n",
      "      \"expectation_type\": \"expect_column_median_to_be_between\"\n",
      "    },\n",
      "    {\n",
      "      \"kwargs\": {\n",
      "        \"min_value\": 316.45429187937475,\n",
      "        \"strict_max\": false,\n",
      "        \"strict_min\": false,\n",
      "        \"column\": \"size_y\",\n",
      "        \"max_value\": 316.45429187937475\n",
      "      },\n",
      "      \"meta\": {\n",
      "        \"profiler_details\": {\n",
      "          \"metric_configuration\": {\n",
      "            \"metric_name\": \"column.mean\",\n",
      "            \"domain_kwargs\": {\n",
      "              \"column\": \"size_y\"\n",
      "            },\n",
      "            \"metric_value_kwargs\": null,\n",
      "            \"metric_dependencies\": null\n",
      "          },\n",
      "          \"num_batches\": 1\n",
      "        }\n",
      "      },\n",
      "      \"expectation_type\": \"expect_column_mean_to_be_between\"\n",
      "    },\n",
      "    {\n",
      "      \"kwargs\": {\n",
      "        \"min_value\": 238.818326779341,\n",
      "        \"strict_max\": false,\n",
      "        \"strict_min\": false,\n",
      "        \"column\": \"size_y\",\n",
      "        \"max_value\": 238.818326779341\n",
      "      },\n",
      "      \"meta\": {\n",
      "        \"profiler_details\": {\n",
      "          \"metric_configuration\": {\n",
      "            \"metric_name\": \"column.standard_deviation\",\n",
      "            \"domain_kwargs\": {\n",
      "              \"column\": \"size_y\"\n",
      "            },\n",
      "            \"metric_value_kwargs\": null,\n",
      "            \"metric_dependencies\": null\n",
      "          },\n",
      "          \"num_batches\": 1\n",
      "        }\n",
      "      },\n",
      "      \"expectation_type\": \"expect_column_stdev_to_be_between\"\n",
      "    },\n",
      "    {\n",
      "      \"kwargs\": {\n",
      "        \"min_value\": 384000.0,\n",
      "        \"strict_max\": false,\n",
      "        \"strict_min\": false,\n",
      "        \"column\": \"height_m\",\n",
      "        \"max_value\": 384000.0\n",
      "      },\n",
      "      \"meta\": {\n",
      "        \"profiler_details\": {\n",
      "          \"metric_configuration\": {\n",
      "            \"metric_name\": \"column.min\",\n",
      "            \"domain_kwargs\": {\n",
      "              \"column\": \"height_m\"\n",
      "            },\n",
      "            \"metric_value_kwargs\": null,\n",
      "            \"metric_dependencies\": null\n",
      "          },\n",
      "          \"num_batches\": 1\n",
      "        }\n",
      "      },\n",
      "      \"expectation_type\": \"expect_column_min_to_be_between\"\n",
      "    },\n",
      "    {\n",
      "      \"kwargs\": {\n",
      "        \"min_value\": 384000.0,\n",
      "        \"strict_max\": false,\n",
      "        \"strict_min\": false,\n",
      "        \"column\": \"height_m\",\n",
      "        \"max_value\": 384000.0\n",
      "      },\n",
      "      \"meta\": {\n",
      "        \"profiler_details\": {\n",
      "          \"metric_configuration\": {\n",
      "            \"metric_name\": \"column.max\",\n",
      "            \"domain_kwargs\": {\n",
      "              \"column\": \"height_m\"\n",
      "            },\n",
      "            \"metric_value_kwargs\": null,\n",
      "            \"metric_dependencies\": null\n",
      "          },\n",
      "          \"num_batches\": 1\n",
      "        }\n",
      "      },\n",
      "      \"expectation_type\": \"expect_column_max_to_be_between\"\n",
      "    },\n",
      "    {\n",
      "      \"kwargs\": {\n",
      "        \"min_value\": 384000.0,\n",
      "        \"strict_max\": false,\n",
      "        \"strict_min\": false,\n",
      "        \"column\": \"height_m\",\n",
      "        \"max_value\": 384000.0,\n",
      "        \"mostly\": 1.0\n",
      "      },\n",
      "      \"meta\": {\n",
      "        \"profiler_details\": {\n",
      "          \"column_min_values_range_estimator\": {\n",
      "            \"metric_configuration\": {\n",
      "              \"metric_name\": \"column.min\",\n",
      "              \"domain_kwargs\": {\n",
      "                \"column\": \"height_m\"\n",
      "              },\n",
      "              \"metric_value_kwargs\": null,\n",
      "              \"metric_dependencies\": null\n",
      "            },\n",
      "            \"num_batches\": 1\n",
      "          },\n",
      "          \"column_max_values_range_estimator\": {\n",
      "            \"metric_configuration\": {\n",
      "              \"metric_name\": \"column.max\",\n",
      "              \"domain_kwargs\": {\n",
      "                \"column\": \"height_m\"\n",
      "              },\n",
      "              \"metric_value_kwargs\": null,\n",
      "              \"metric_dependencies\": null\n",
      "            },\n",
      "            \"num_batches\": 1\n",
      "          }\n",
      "        }\n",
      "      },\n",
      "      \"expectation_type\": \"expect_column_values_to_be_between\"\n",
      "    },\n",
      "    {\n",
      "      \"kwargs\": {\n",
      "        \"allow_relative_error\": false,\n",
      "        \"quantile_ranges\": {\n",
      "          \"quantiles\": [\n",
      "            0.25,\n",
      "            0.5,\n",
      "            0.75\n",
      "          ],\n",
      "          \"value_ranges\": [\n",
      "            [\n",
      "              384000.0,\n",
      "              384000.0\n",
      "            ],\n",
      "            [\n",
      "              384000.0,\n",
      "              384000.0\n",
      "            ],\n",
      "            [\n",
      "              384000.0,\n",
      "              384000.0\n",
      "            ]\n",
      "          ]\n",
      "        },\n",
      "        \"column\": \"height_m\"\n",
      "      },\n",
      "      \"meta\": {\n",
      "        \"profiler_details\": {\n",
      "          \"metric_configuration\": {\n",
      "            \"metric_name\": \"column.quantile_values\",\n",
      "            \"domain_kwargs\": {\n",
      "              \"column\": \"height_m\"\n",
      "            },\n",
      "            \"metric_value_kwargs\": {\n",
      "              \"quantiles\": [\n",
      "                0.25,\n",
      "                0.5,\n",
      "                0.75\n",
      "              ],\n",
      "              \"allow_relative_error\": false\n",
      "            },\n",
      "            \"metric_dependencies\": null\n",
      "          },\n",
      "          \"num_batches\": 1\n",
      "        }\n",
      "      },\n",
      "      \"expectation_type\": \"expect_column_quantile_values_to_be_between\"\n",
      "    },\n",
      "    {\n",
      "      \"kwargs\": {\n",
      "        \"min_value\": 384000.0,\n",
      "        \"strict_max\": false,\n",
      "        \"strict_min\": false,\n",
      "        \"column\": \"height_m\",\n",
      "        \"max_value\": 384000.0\n",
      "      },\n",
      "      \"meta\": {\n",
      "        \"profiler_details\": {\n",
      "          \"metric_configuration\": {\n",
      "            \"metric_name\": \"column.median\",\n",
      "            \"domain_kwargs\": {\n",
      "              \"column\": \"height_m\"\n",
      "            },\n",
      "            \"metric_value_kwargs\": null,\n",
      "            \"metric_dependencies\": null\n",
      "          },\n",
      "          \"num_batches\": 1\n",
      "        }\n",
      "      },\n",
      "      \"expectation_type\": \"expect_column_median_to_be_between\"\n",
      "    },\n",
      "    {\n",
      "      \"kwargs\": {\n",
      "        \"min_value\": 384000.0,\n",
      "        \"strict_max\": false,\n",
      "        \"strict_min\": false,\n",
      "        \"column\": \"height_m\",\n",
      "        \"max_value\": 384000.0\n",
      "      },\n",
      "      \"meta\": {\n",
      "        \"profiler_details\": {\n",
      "          \"metric_configuration\": {\n",
      "            \"metric_name\": \"column.mean\",\n",
      "            \"domain_kwargs\": {\n",
      "              \"column\": \"height_m\"\n",
      "            },\n",
      "            \"metric_value_kwargs\": null,\n",
      "            \"metric_dependencies\": null\n",
      "          },\n",
      "          \"num_batches\": 1\n",
      "        }\n",
      "      },\n",
      "      \"expectation_type\": \"expect_column_mean_to_be_between\"\n",
      "    },\n",
      "    {\n",
      "      \"kwargs\": {\n",
      "        \"min_value\": 0.0,\n",
      "        \"strict_max\": false,\n",
      "        \"strict_min\": false,\n",
      "        \"column\": \"height_m\",\n",
      "        \"max_value\": 0.0\n",
      "      },\n",
      "      \"meta\": {\n",
      "        \"profiler_details\": {\n",
      "          \"metric_configuration\": {\n",
      "            \"metric_name\": \"column.standard_deviation\",\n",
      "            \"domain_kwargs\": {\n",
      "              \"column\": \"height_m\"\n",
      "            },\n",
      "            \"metric_value_kwargs\": null,\n",
      "            \"metric_dependencies\": null\n",
      "          },\n",
      "          \"num_batches\": 1\n",
      "        }\n",
      "      },\n",
      "      \"expectation_type\": \"expect_column_stdev_to_be_between\"\n",
      "    },\n",
      "    {\n",
      "      \"kwargs\": {\n",
      "        \"min_value\": 384000.0,\n",
      "        \"strict_max\": false,\n",
      "        \"strict_min\": false,\n",
      "        \"column\": \"width_m\",\n",
      "        \"max_value\": 384000.0\n",
      "      },\n",
      "      \"meta\": {\n",
      "        \"profiler_details\": {\n",
      "          \"metric_configuration\": {\n",
      "            \"metric_name\": \"column.min\",\n",
      "            \"domain_kwargs\": {\n",
      "              \"column\": \"width_m\"\n",
      "            },\n",
      "            \"metric_value_kwargs\": null,\n",
      "            \"metric_dependencies\": null\n",
      "          },\n",
      "          \"num_batches\": 1\n",
      "        }\n",
      "      },\n",
      "      \"expectation_type\": \"expect_column_min_to_be_between\"\n",
      "    },\n",
      "    {\n",
      "      \"kwargs\": {\n",
      "        \"min_value\": 384000.0,\n",
      "        \"strict_max\": false,\n",
      "        \"strict_min\": false,\n",
      "        \"column\": \"width_m\",\n",
      "        \"max_value\": 384000.0\n",
      "      },\n",
      "      \"meta\": {\n",
      "        \"profiler_details\": {\n",
      "          \"metric_configuration\": {\n",
      "            \"metric_name\": \"column.max\",\n",
      "            \"domain_kwargs\": {\n",
      "              \"column\": \"width_m\"\n",
      "            },\n",
      "            \"metric_value_kwargs\": null,\n",
      "            \"metric_dependencies\": null\n",
      "          },\n",
      "          \"num_batches\": 1\n",
      "        }\n",
      "      },\n",
      "      \"expectation_type\": \"expect_column_max_to_be_between\"\n",
      "    },\n",
      "    {\n",
      "      \"kwargs\": {\n",
      "        \"min_value\": 384000.0,\n",
      "        \"strict_max\": false,\n",
      "        \"strict_min\": false,\n",
      "        \"column\": \"width_m\",\n",
      "        \"max_value\": 384000.0,\n",
      "        \"mostly\": 1.0\n",
      "      },\n",
      "      \"meta\": {\n",
      "        \"profiler_details\": {\n",
      "          \"column_min_values_range_estimator\": {\n",
      "            \"metric_configuration\": {\n",
      "              \"metric_name\": \"column.min\",\n",
      "              \"domain_kwargs\": {\n",
      "                \"column\": \"width_m\"\n",
      "              },\n",
      "              \"metric_value_kwargs\": null,\n",
      "              \"metric_dependencies\": null\n",
      "            },\n",
      "            \"num_batches\": 1\n",
      "          },\n",
      "          \"column_max_values_range_estimator\": {\n",
      "            \"metric_configuration\": {\n",
      "              \"metric_name\": \"column.max\",\n",
      "              \"domain_kwargs\": {\n",
      "                \"column\": \"width_m\"\n",
      "              },\n",
      "              \"metric_value_kwargs\": null,\n",
      "              \"metric_dependencies\": null\n",
      "            },\n",
      "            \"num_batches\": 1\n",
      "          }\n",
      "        }\n",
      "      },\n",
      "      \"expectation_type\": \"expect_column_values_to_be_between\"\n",
      "    },\n",
      "    {\n",
      "      \"kwargs\": {\n",
      "        \"allow_relative_error\": false,\n",
      "        \"quantile_ranges\": {\n",
      "          \"quantiles\": [\n",
      "            0.25,\n",
      "            0.5,\n",
      "            0.75\n",
      "          ],\n",
      "          \"value_ranges\": [\n",
      "            [\n",
      "              384000.0,\n",
      "              384000.0\n",
      "            ],\n",
      "            [\n",
      "              384000.0,\n",
      "              384000.0\n",
      "            ],\n",
      "            [\n",
      "              384000.0,\n",
      "              384000.0\n",
      "            ]\n",
      "          ]\n",
      "        },\n",
      "        \"column\": \"width_m\"\n",
      "      },\n",
      "      \"meta\": {\n",
      "        \"profiler_details\": {\n",
      "          \"metric_configuration\": {\n",
      "            \"metric_name\": \"column.quantile_values\",\n",
      "            \"domain_kwargs\": {\n",
      "              \"column\": \"width_m\"\n",
      "            },\n",
      "            \"metric_value_kwargs\": {\n",
      "              \"quantiles\": [\n",
      "                0.25,\n",
      "                0.5,\n",
      "                0.75\n",
      "              ],\n",
      "              \"allow_relative_error\": false\n",
      "            },\n",
      "            \"metric_dependencies\": null\n",
      "          },\n",
      "          \"num_batches\": 1\n",
      "        }\n",
      "      },\n",
      "      \"expectation_type\": \"expect_column_quantile_values_to_be_between\"\n",
      "    },\n",
      "    {\n",
      "      \"kwargs\": {\n",
      "        \"min_value\": 384000.0,\n",
      "        \"strict_max\": false,\n",
      "        \"strict_min\": false,\n",
      "        \"column\": \"width_m\",\n",
      "        \"max_value\": 384000.0\n",
      "      },\n",
      "      \"meta\": {\n",
      "        \"profiler_details\": {\n",
      "          \"metric_configuration\": {\n",
      "            \"metric_name\": \"column.median\",\n",
      "            \"domain_kwargs\": {\n",
      "              \"column\": \"width_m\"\n",
      "            },\n",
      "            \"metric_value_kwargs\": null,\n",
      "            \"metric_dependencies\": null\n",
      "          },\n",
      "          \"num_batches\": 1\n",
      "        }\n",
      "      },\n",
      "      \"expectation_type\": \"expect_column_median_to_be_between\"\n",
      "    },\n",
      "    {\n",
      "      \"kwargs\": {\n",
      "        \"min_value\": 384000.0,\n",
      "        \"strict_max\": false,\n",
      "        \"strict_min\": false,\n",
      "        \"column\": \"width_m\",\n",
      "        \"max_value\": 384000.0\n",
      "      },\n",
      "      \"meta\": {\n",
      "        \"profiler_details\": {\n",
      "          \"metric_configuration\": {\n",
      "            \"metric_name\": \"column.mean\",\n",
      "            \"domain_kwargs\": {\n",
      "              \"column\": \"width_m\"\n",
      "            },\n",
      "            \"metric_value_kwargs\": null,\n",
      "            \"metric_dependencies\": null\n",
      "          },\n",
      "          \"num_batches\": 1\n",
      "        }\n",
      "      },\n",
      "      \"expectation_type\": \"expect_column_mean_to_be_between\"\n",
      "    },\n",
      "    {\n",
      "      \"kwargs\": {\n",
      "        \"min_value\": 0.0,\n",
      "        \"strict_max\": false,\n",
      "        \"strict_min\": false,\n",
      "        \"column\": \"width_m\",\n",
      "        \"max_value\": 0.0\n",
      "      },\n",
      "      \"meta\": {\n",
      "        \"profiler_details\": {\n",
      "          \"metric_configuration\": {\n",
      "            \"metric_name\": \"column.standard_deviation\",\n",
      "            \"domain_kwargs\": {\n",
      "              \"column\": \"width_m\"\n",
      "            },\n",
      "            \"metric_value_kwargs\": null,\n",
      "            \"metric_dependencies\": null\n",
      "          },\n",
      "          \"num_batches\": 1\n",
      "        }\n",
      "      },\n",
      "      \"expectation_type\": \"expect_column_stdev_to_be_between\"\n",
      "    },\n",
      "    {\n",
      "      \"kwargs\": {\n",
      "        \"min_value\": -31718.416015625,\n",
      "        \"strict_max\": false,\n",
      "        \"strict_min\": false,\n",
      "        \"column\": \"data_min\",\n",
      "        \"max_value\": -31718.416015625\n",
      "      },\n",
      "      \"meta\": {\n",
      "        \"profiler_details\": {\n",
      "          \"metric_configuration\": {\n",
      "            \"metric_name\": \"column.min\",\n",
      "            \"domain_kwargs\": {\n",
      "              \"column\": \"data_min\"\n",
      "            },\n",
      "            \"metric_value_kwargs\": null,\n",
      "            \"metric_dependencies\": null\n",
      "          },\n",
      "          \"num_batches\": 1\n",
      "        }\n",
      "      },\n",
      "      \"expectation_type\": \"expect_column_min_to_be_between\"\n",
      "    },\n",
      "    {\n",
      "      \"kwargs\": {\n",
      "        \"min_value\": 18.269269943237305,\n",
      "        \"strict_max\": false,\n",
      "        \"strict_min\": false,\n",
      "        \"column\": \"data_min\",\n",
      "        \"max_value\": 18.269269943237305\n",
      "      },\n",
      "      \"meta\": {\n",
      "        \"profiler_details\": {\n",
      "          \"metric_configuration\": {\n",
      "            \"metric_name\": \"column.max\",\n",
      "            \"domain_kwargs\": {\n",
      "              \"column\": \"data_min\"\n",
      "            },\n",
      "            \"metric_value_kwargs\": null,\n",
      "            \"metric_dependencies\": null\n",
      "          },\n",
      "          \"num_batches\": 1\n",
      "        }\n",
      "      },\n",
      "      \"expectation_type\": \"expect_column_max_to_be_between\"\n",
      "    },\n",
      "    {\n",
      "      \"kwargs\": {\n",
      "        \"min_value\": -31718.416015625,\n",
      "        \"strict_max\": false,\n",
      "        \"strict_min\": false,\n",
      "        \"column\": \"data_min\",\n",
      "        \"max_value\": 18.269269943237305,\n",
      "        \"mostly\": 1.0\n",
      "      },\n",
      "      \"meta\": {\n",
      "        \"profiler_details\": {\n",
      "          \"column_min_values_range_estimator\": {\n",
      "            \"metric_configuration\": {\n",
      "              \"metric_name\": \"column.min\",\n",
      "              \"domain_kwargs\": {\n",
      "                \"column\": \"data_min\"\n",
      "              },\n",
      "              \"metric_value_kwargs\": null,\n",
      "              \"metric_dependencies\": null\n",
      "            },\n",
      "            \"num_batches\": 1\n",
      "          },\n",
      "          \"column_max_values_range_estimator\": {\n",
      "            \"metric_configuration\": {\n",
      "              \"metric_name\": \"column.max\",\n",
      "              \"domain_kwargs\": {\n",
      "                \"column\": \"data_min\"\n",
      "              },\n",
      "              \"metric_value_kwargs\": null,\n",
      "              \"metric_dependencies\": null\n",
      "            },\n",
      "            \"num_batches\": 1\n",
      "          }\n",
      "        }\n",
      "      },\n",
      "      \"expectation_type\": \"expect_column_values_to_be_between\"\n",
      "    },\n",
      "    {\n",
      "      \"kwargs\": {\n",
      "        \"allow_relative_error\": false,\n",
      "        \"quantile_ranges\": {\n",
      "          \"quantiles\": [\n",
      "            0.25,\n",
      "            0.5,\n",
      "            0.75\n",
      "          ],\n",
      "          \"value_ranges\": [\n",
      "            [\n",
      "              -54.34331130981445,\n",
      "              -54.34331130981445\n",
      "            ],\n",
      "            [\n",
      "              0.0,\n",
      "              0.0\n",
      "            ],\n",
      "            [\n",
      "              0.0,\n",
      "              0.0\n",
      "            ]\n",
      "          ]\n",
      "        },\n",
      "        \"column\": \"data_min\"\n",
      "      },\n",
      "      \"meta\": {\n",
      "        \"profiler_details\": {\n",
      "          \"metric_configuration\": {\n",
      "            \"metric_name\": \"column.quantile_values\",\n",
      "            \"domain_kwargs\": {\n",
      "              \"column\": \"data_min\"\n",
      "            },\n",
      "            \"metric_value_kwargs\": {\n",
      "              \"quantiles\": [\n",
      "                0.25,\n",
      "                0.5,\n",
      "                0.75\n",
      "              ],\n",
      "              \"allow_relative_error\": false\n",
      "            },\n",
      "            \"metric_dependencies\": null\n",
      "          },\n",
      "          \"num_batches\": 1\n",
      "        }\n",
      "      },\n",
      "      \"expectation_type\": \"expect_column_quantile_values_to_be_between\"\n",
      "    },\n",
      "    {\n",
      "      \"kwargs\": {\n",
      "        \"min_value\": 0.0,\n",
      "        \"strict_max\": false,\n",
      "        \"strict_min\": false,\n",
      "        \"column\": \"data_min\",\n",
      "        \"max_value\": 0.0\n",
      "      },\n",
      "      \"meta\": {\n",
      "        \"profiler_details\": {\n",
      "          \"metric_configuration\": {\n",
      "            \"metric_name\": \"column.median\",\n",
      "            \"domain_kwargs\": {\n",
      "              \"column\": \"data_min\"\n",
      "            },\n",
      "            \"metric_value_kwargs\": null,\n",
      "            \"metric_dependencies\": null\n",
      "          },\n",
      "          \"num_batches\": 1\n",
      "        }\n",
      "      },\n",
      "      \"expectation_type\": \"expect_column_median_to_be_between\"\n",
      "    },\n",
      "    {\n",
      "      \"kwargs\": {\n",
      "        \"min_value\": -31.57511366016406,\n",
      "        \"strict_max\": false,\n",
      "        \"strict_min\": false,\n",
      "        \"column\": \"data_min\",\n",
      "        \"max_value\": -31.57511366016406\n",
      "      },\n",
      "      \"meta\": {\n",
      "        \"profiler_details\": {\n",
      "          \"metric_configuration\": {\n",
      "            \"metric_name\": \"column.mean\",\n",
      "            \"domain_kwargs\": {\n",
      "              \"column\": \"data_min\"\n",
      "            },\n",
      "            \"metric_value_kwargs\": null,\n",
      "            \"metric_dependencies\": null\n",
      "          },\n",
      "          \"num_batches\": 1\n",
      "        }\n",
      "      },\n",
      "      \"expectation_type\": \"expect_column_mean_to_be_between\"\n",
      "    },\n",
      "    {\n",
      "      \"kwargs\": {\n",
      "        \"min_value\": 474.0938475499443,\n",
      "        \"strict_max\": false,\n",
      "        \"strict_min\": false,\n",
      "        \"column\": \"data_min\",\n",
      "        \"max_value\": 474.0938475499443\n",
      "      },\n",
      "      \"meta\": {\n",
      "        \"profiler_details\": {\n",
      "          \"metric_configuration\": {\n",
      "            \"metric_name\": \"column.standard_deviation\",\n",
      "            \"domain_kwargs\": {\n",
      "              \"column\": \"data_min\"\n",
      "            },\n",
      "            \"metric_value_kwargs\": null,\n",
      "            \"metric_dependencies\": null\n",
      "          },\n",
      "          \"num_batches\": 1\n",
      "        }\n",
      "      },\n",
      "      \"expectation_type\": \"expect_column_stdev_to_be_between\"\n",
      "    },\n",
      "    {\n",
      "      \"kwargs\": {\n",
      "        \"min_value\": -48.28739547729492,\n",
      "        \"strict_max\": false,\n",
      "        \"strict_min\": false,\n",
      "        \"column\": \"data_max\",\n",
      "        \"max_value\": -48.28739547729492\n",
      "      },\n",
      "      \"meta\": {\n",
      "        \"profiler_details\": {\n",
      "          \"metric_configuration\": {\n",
      "            \"metric_name\": \"column.min\",\n",
      "            \"domain_kwargs\": {\n",
      "              \"column\": \"data_max\"\n",
      "            },\n",
      "            \"metric_value_kwargs\": null,\n",
      "            \"metric_dependencies\": null\n",
      "          },\n",
      "          \"num_batches\": 1\n",
      "        }\n",
      "      },\n",
      "      \"expectation_type\": \"expect_column_min_to_be_between\"\n",
      "    },\n",
      "    {\n",
      "      \"kwargs\": {\n",
      "        \"min_value\": 935036.0,\n",
      "        \"strict_max\": false,\n",
      "        \"strict_min\": false,\n",
      "        \"column\": \"data_max\",\n",
      "        \"max_value\": 935036.0\n",
      "      },\n",
      "      \"meta\": {\n",
      "        \"profiler_details\": {\n",
      "          \"metric_configuration\": {\n",
      "            \"metric_name\": \"column.max\",\n",
      "            \"domain_kwargs\": {\n",
      "              \"column\": \"data_max\"\n",
      "            },\n",
      "            \"metric_value_kwargs\": null,\n",
      "            \"metric_dependencies\": null\n",
      "          },\n",
      "          \"num_batches\": 1\n",
      "        }\n",
      "      },\n",
      "      \"expectation_type\": \"expect_column_max_to_be_between\"\n",
      "    },\n",
      "    {\n",
      "      \"kwargs\": {\n",
      "        \"min_value\": -48.28739547729492,\n",
      "        \"strict_max\": false,\n",
      "        \"strict_min\": false,\n",
      "        \"column\": \"data_max\",\n",
      "        \"max_value\": 935036.0,\n",
      "        \"mostly\": 1.0\n",
      "      },\n",
      "      \"meta\": {\n",
      "        \"profiler_details\": {\n",
      "          \"column_min_values_range_estimator\": {\n",
      "            \"metric_configuration\": {\n",
      "              \"metric_name\": \"column.min\",\n",
      "              \"domain_kwargs\": {\n",
      "                \"column\": \"data_max\"\n",
      "              },\n",
      "              \"metric_value_kwargs\": null,\n",
      "              \"metric_dependencies\": null\n",
      "            },\n",
      "            \"num_batches\": 1\n",
      "          },\n",
      "          \"column_max_values_range_estimator\": {\n",
      "            \"metric_configuration\": {\n",
      "              \"metric_name\": \"column.max\",\n",
      "              \"domain_kwargs\": {\n",
      "                \"column\": \"data_max\"\n",
      "              },\n",
      "              \"metric_value_kwargs\": null,\n",
      "              \"metric_dependencies\": null\n",
      "            },\n",
      "            \"num_batches\": 1\n",
      "          }\n",
      "        }\n",
      "      },\n",
      "      \"expectation_type\": \"expect_column_values_to_be_between\"\n",
      "    },\n",
      "    {\n",
      "      \"kwargs\": {\n",
      "        \"allow_relative_error\": false,\n",
      "        \"quantile_ranges\": {\n",
      "          \"quantiles\": [\n",
      "            0.25,\n",
      "            0.5,\n",
      "            0.75\n",
      "          ],\n",
      "          \"value_ranges\": [\n",
      "            [\n",
      "              0.1532760560512542,\n",
      "              0.1532760560512542\n",
      "            ],\n",
      "            [\n",
      "              25.870397567749023,\n",
      "              25.870397567749023\n",
      "            ],\n",
      "            [\n",
      "              254.0,\n",
      "              254.0\n",
      "            ]\n",
      "          ]\n",
      "        },\n",
      "        \"column\": \"data_max\"\n",
      "      },\n",
      "      \"meta\": {\n",
      "        \"profiler_details\": {\n",
      "          \"metric_configuration\": {\n",
      "            \"metric_name\": \"column.quantile_values\",\n",
      "            \"domain_kwargs\": {\n",
      "              \"column\": \"data_max\"\n",
      "            },\n",
      "            \"metric_value_kwargs\": {\n",
      "              \"quantiles\": [\n",
      "                0.25,\n",
      "                0.5,\n",
      "                0.75\n",
      "              ],\n",
      "              \"allow_relative_error\": false\n",
      "            },\n",
      "            \"metric_dependencies\": null\n",
      "          },\n",
      "          \"num_batches\": 1\n",
      "        }\n",
      "      },\n",
      "      \"expectation_type\": \"expect_column_quantile_values_to_be_between\"\n",
      "    },\n",
      "    {\n",
      "      \"kwargs\": {\n",
      "        \"min_value\": 25.870397567749023,\n",
      "        \"strict_max\": false,\n",
      "        \"strict_min\": false,\n",
      "        \"column\": \"data_max\",\n",
      "        \"max_value\": 25.870397567749023\n",
      "      },\n",
      "      \"meta\": {\n",
      "        \"profiler_details\": {\n",
      "          \"metric_configuration\": {\n",
      "            \"metric_name\": \"column.median\",\n",
      "            \"domain_kwargs\": {\n",
      "              \"column\": \"data_max\"\n",
      "            },\n",
      "            \"metric_value_kwargs\": null,\n",
      "            \"metric_dependencies\": null\n",
      "          },\n",
      "          \"num_batches\": 1\n",
      "        }\n",
      "      },\n",
      "      \"expectation_type\": \"expect_column_median_to_be_between\"\n",
      "    },\n",
      "    {\n",
      "      \"kwargs\": {\n",
      "        \"min_value\": 34620.575060338226,\n",
      "        \"strict_max\": false,\n",
      "        \"strict_min\": false,\n",
      "        \"column\": \"data_max\",\n",
      "        \"max_value\": 34620.575060338226\n",
      "      },\n",
      "      \"meta\": {\n",
      "        \"profiler_details\": {\n",
      "          \"metric_configuration\": {\n",
      "            \"metric_name\": \"column.mean\",\n",
      "            \"domain_kwargs\": {\n",
      "              \"column\": \"data_max\"\n",
      "            },\n",
      "            \"metric_value_kwargs\": null,\n",
      "            \"metric_dependencies\": null\n",
      "          },\n",
      "          \"num_batches\": 1\n",
      "        }\n",
      "      },\n",
      "      \"expectation_type\": \"expect_column_mean_to_be_between\"\n",
      "    },\n",
      "    {\n",
      "      \"kwargs\": {\n",
      "        \"min_value\": 93853.56373709312,\n",
      "        \"strict_max\": false,\n",
      "        \"strict_min\": false,\n",
      "        \"column\": \"data_max\",\n",
      "        \"max_value\": 93853.56373709312\n",
      "      },\n",
      "      \"meta\": {\n",
      "        \"profiler_details\": {\n",
      "          \"metric_configuration\": {\n",
      "            \"metric_name\": \"column.standard_deviation\",\n",
      "            \"domain_kwargs\": {\n",
      "              \"column\": \"data_max\"\n",
      "            },\n",
      "            \"metric_value_kwargs\": null,\n",
      "            \"metric_dependencies\": null\n",
      "          },\n",
      "          \"num_batches\": 1\n",
      "        }\n",
      "      },\n",
      "      \"expectation_type\": \"expect_column_stdev_to_be_between\"\n",
      "    },\n",
      "    {\n",
      "      \"kwargs\": {\n",
      "        \"min_value\": 0.0,\n",
      "        \"strict_max\": false,\n",
      "        \"strict_min\": false,\n",
      "        \"column\": \"pct_missing\",\n",
      "        \"max_value\": 0.0\n",
      "      },\n",
      "      \"meta\": {\n",
      "        \"profiler_details\": {\n",
      "          \"metric_configuration\": {\n",
      "            \"metric_name\": \"column.min\",\n",
      "            \"domain_kwargs\": {\n",
      "              \"column\": \"pct_missing\"\n",
      "            },\n",
      "            \"metric_value_kwargs\": null,\n",
      "            \"metric_dependencies\": null\n",
      "          },\n",
      "          \"num_batches\": 1\n",
      "        }\n",
      "      },\n",
      "      \"expectation_type\": \"expect_column_min_to_be_between\"\n",
      "    },\n",
      "    {\n",
      "      \"kwargs\": {\n",
      "        \"min_value\": 1.0,\n",
      "        \"strict_max\": false,\n",
      "        \"strict_min\": false,\n",
      "        \"column\": \"pct_missing\",\n",
      "        \"max_value\": 1.0\n",
      "      },\n",
      "      \"meta\": {\n",
      "        \"profiler_details\": {\n",
      "          \"metric_configuration\": {\n",
      "            \"metric_name\": \"column.max\",\n",
      "            \"domain_kwargs\": {\n",
      "              \"column\": \"pct_missing\"\n",
      "            },\n",
      "            \"metric_value_kwargs\": null,\n",
      "            \"metric_dependencies\": null\n",
      "          },\n",
      "          \"num_batches\": 1\n",
      "        }\n",
      "      },\n",
      "      \"expectation_type\": \"expect_column_max_to_be_between\"\n",
      "    },\n",
      "    {\n",
      "      \"kwargs\": {\n",
      "        \"min_value\": 0.0,\n",
      "        \"strict_max\": false,\n",
      "        \"strict_min\": false,\n",
      "        \"column\": \"pct_missing\",\n",
      "        \"max_value\": 1.0,\n",
      "        \"mostly\": 1.0\n",
      "      },\n",
      "      \"meta\": {\n",
      "        \"profiler_details\": {\n",
      "          \"column_min_values_range_estimator\": {\n",
      "            \"metric_configuration\": {\n",
      "              \"metric_name\": \"column.min\",\n",
      "              \"domain_kwargs\": {\n",
      "                \"column\": \"pct_missing\"\n",
      "              },\n",
      "              \"metric_value_kwargs\": null,\n",
      "              \"metric_dependencies\": null\n",
      "            },\n",
      "            \"num_batches\": 1\n",
      "          },\n",
      "          \"column_max_values_range_estimator\": {\n",
      "            \"metric_configuration\": {\n",
      "              \"metric_name\": \"column.max\",\n",
      "              \"domain_kwargs\": {\n",
      "                \"column\": \"pct_missing\"\n",
      "              },\n",
      "              \"metric_value_kwargs\": null,\n",
      "              \"metric_dependencies\": null\n",
      "            },\n",
      "            \"num_batches\": 1\n",
      "          }\n",
      "        }\n",
      "      },\n",
      "      \"expectation_type\": \"expect_column_values_to_be_between\"\n",
      "    },\n",
      "    {\n",
      "      \"kwargs\": {\n",
      "        \"allow_relative_error\": false,\n",
      "        \"quantile_ranges\": {\n",
      "          \"quantiles\": [\n",
      "            0.25,\n",
      "            0.5,\n",
      "            0.75\n",
      "          ],\n",
      "          \"value_ranges\": [\n",
      "            [\n",
      "              0.0,\n",
      "              0.0\n",
      "            ],\n",
      "            [\n",
      "              0.0,\n",
      "              0.0\n",
      "            ],\n",
      "            [\n",
      "              0.0,\n",
      "              0.0\n",
      "            ]\n",
      "          ]\n",
      "        },\n",
      "        \"column\": \"pct_missing\"\n",
      "      },\n",
      "      \"meta\": {\n",
      "        \"profiler_details\": {\n",
      "          \"metric_configuration\": {\n",
      "            \"metric_name\": \"column.quantile_values\",\n",
      "            \"domain_kwargs\": {\n",
      "              \"column\": \"pct_missing\"\n",
      "            },\n",
      "            \"metric_value_kwargs\": {\n",
      "              \"quantiles\": [\n",
      "                0.25,\n",
      "                0.5,\n",
      "                0.75\n",
      "              ],\n",
      "              \"allow_relative_error\": false\n",
      "            },\n",
      "            \"metric_dependencies\": null\n",
      "          },\n",
      "          \"num_batches\": 1\n",
      "        }\n",
      "      },\n",
      "      \"expectation_type\": \"expect_column_quantile_values_to_be_between\"\n",
      "    },\n",
      "    {\n",
      "      \"kwargs\": {\n",
      "        \"min_value\": 0.0,\n",
      "        \"strict_max\": false,\n",
      "        \"strict_min\": false,\n",
      "        \"column\": \"pct_missing\",\n",
      "        \"max_value\": 0.0\n",
      "      },\n",
      "      \"meta\": {\n",
      "        \"profiler_details\": {\n",
      "          \"metric_configuration\": {\n",
      "            \"metric_name\": \"column.median\",\n",
      "            \"domain_kwargs\": {\n",
      "              \"column\": \"pct_missing\"\n",
      "            },\n",
      "            \"metric_value_kwargs\": null,\n",
      "            \"metric_dependencies\": null\n",
      "          },\n",
      "          \"num_batches\": 1\n",
      "        }\n",
      "      },\n",
      "      \"expectation_type\": \"expect_column_median_to_be_between\"\n",
      "    },\n",
      "    {\n",
      "      \"kwargs\": {\n",
      "        \"min_value\": 0.0035521923797756753,\n",
      "        \"strict_max\": false,\n",
      "        \"strict_min\": false,\n",
      "        \"column\": \"pct_missing\",\n",
      "        \"max_value\": 0.0035521923797756753\n",
      "      },\n",
      "      \"meta\": {\n",
      "        \"profiler_details\": {\n",
      "          \"metric_configuration\": {\n",
      "            \"metric_name\": \"column.mean\",\n",
      "            \"domain_kwargs\": {\n",
      "              \"column\": \"pct_missing\"\n",
      "            },\n",
      "            \"metric_value_kwargs\": null,\n",
      "            \"metric_dependencies\": null\n",
      "          },\n",
      "          \"num_batches\": 1\n",
      "        }\n",
      "      },\n",
      "      \"expectation_type\": \"expect_column_mean_to_be_between\"\n",
      "    },\n",
      "    {\n",
      "      \"kwargs\": {\n",
      "        \"min_value\": 0.032144725044105205,\n",
      "        \"strict_max\": false,\n",
      "        \"strict_min\": false,\n",
      "        \"column\": \"pct_missing\",\n",
      "        \"max_value\": 0.032144725044105205\n",
      "      },\n",
      "      \"meta\": {\n",
      "        \"profiler_details\": {\n",
      "          \"metric_configuration\": {\n",
      "            \"metric_name\": \"column.standard_deviation\",\n",
      "            \"domain_kwargs\": {\n",
      "              \"column\": \"pct_missing\"\n",
      "            },\n",
      "            \"metric_value_kwargs\": null,\n",
      "            \"metric_dependencies\": null\n",
      "          },\n",
      "          \"num_batches\": 1\n",
      "        }\n",
      "      },\n",
      "      \"expectation_type\": \"expect_column_stdev_to_be_between\"\n",
      "    },\n",
      "    {\n",
      "      \"kwargs\": {\n",
      "        \"min_value\": 4,\n",
      "        \"strict_max\": false,\n",
      "        \"strict_min\": false,\n",
      "        \"column\": \"event_type\",\n",
      "        \"max_value\": 17,\n",
      "        \"mostly\": 1.0\n",
      "      },\n",
      "      \"meta\": {\n",
      "        \"profiler_details\": {\n",
      "          \"column_min_length_range_estimator\": {\n",
      "            \"metric_configuration\": {\n",
      "              \"metric_name\": \"column_values.length.min\",\n",
      "              \"domain_kwargs\": {\n",
      "                \"column\": \"event_type\"\n",
      "              },\n",
      "              \"metric_value_kwargs\": null,\n",
      "              \"metric_dependencies\": null\n",
      "            },\n",
      "            \"num_batches\": 1\n",
      "          },\n",
      "          \"column_max_length_range_estimator\": {\n",
      "            \"metric_configuration\": {\n",
      "              \"metric_name\": \"column_values.length.max\",\n",
      "              \"domain_kwargs\": {\n",
      "                \"column\": \"event_type\"\n",
      "              },\n",
      "              \"metric_value_kwargs\": null,\n",
      "              \"metric_dependencies\": null\n",
      "            },\n",
      "            \"num_batches\": 1\n",
      "          }\n",
      "        }\n",
      "      },\n",
      "      \"expectation_type\": \"expect_column_value_lengths_to_be_between\"\n",
      "    },\n",
      "    {\n",
      "      \"kwargs\": {\n",
      "        \"column\": \"event_type\",\n",
      "        \"mostly\": 1.0,\n",
      "        \"regex\": \"(?:[A-Fa-f0-9]){0,4}(?: ?:? ?(?:[A-Fa-f0-9]){0,4}){0,7}\"\n",
      "      },\n",
      "      \"meta\": {\n",
      "        \"profiler_details\": {\n",
      "          \"success_ratio\": 1.0,\n",
      "          \"evaluated_regexes\": {\n",
      "            \"(?:[A-Fa-f0-9]){0,4}(?: ?:? ?(?:[A-Fa-f0-9]){0,4}){0,7}\": 1.0,\n",
      "            \"[A-Za-z0-9\\\\.,;:!?()\\\\\\\"'%\\\\-]+\": 1.0,\n",
      "            \"(?:25[0-5]|2[0-4]\\\\d|[01]\\\\d{2}|\\\\d{1,2})(?:.(?:25[0-5]|2[0-4]\\\\d|[01]\\\\d{2}|\\\\d{1,2})){3}\": 0.0,\n",
      "            \"-?\\\\d+\": 0.0,\n",
      "            \"-?\\\\d+(?:\\\\.\\\\d*)?\": 0.0,\n",
      "            \"<\\\\/?(?:p|a|b|img)(?: \\\\/)?>\": 0.0,\n",
      "            \"\\\\b[0-9a-fA-F]{8}\\\\b-[0-9a-fA-F]{4}-[0-5][0-9a-fA-F]{3}-[089ab][0-9a-fA-F]{3}-\\\\b[0-9a-fA-F]{12}\\\\b \": 0.0,\n",
      "            \"\\\\d+\": 0.0,\n",
      "            \"\\\\s+$\": 0.0,\n",
      "            \"^\\\\s+\": 0.0,\n",
      "            \"https?:\\\\/\\\\/(?:www\\\\.)?[-a-zA-Z0-9@:%._\\\\+~#=]{2,255}\\\\.[a-z]{2,6}\\\\b(?:[-a-zA-Z0-9@:%_\\\\+.~#()?&//=]*)\": 0.0\n",
      "          }\n",
      "        }\n",
      "      },\n",
      "      \"expectation_type\": \"expect_column_values_to_match_regex\"\n",
      "    },\n",
      "    {\n",
      "      \"kwargs\": {\n",
      "        \"min_value\": 68,\n",
      "        \"strict_max\": false,\n",
      "        \"strict_min\": false,\n",
      "        \"column\": \"proj\",\n",
      "        \"max_value\": 68,\n",
      "        \"mostly\": 1.0\n",
      "      },\n",
      "      \"meta\": {\n",
      "        \"profiler_details\": {\n",
      "          \"column_min_length_range_estimator\": {\n",
      "            \"metric_configuration\": {\n",
      "              \"metric_name\": \"column_values.length.min\",\n",
      "              \"domain_kwargs\": {\n",
      "                \"column\": \"proj\"\n",
      "              },\n",
      "              \"metric_value_kwargs\": null,\n",
      "              \"metric_dependencies\": null\n",
      "            },\n",
      "            \"num_batches\": 1\n",
      "          },\n",
      "          \"column_max_length_range_estimator\": {\n",
      "            \"metric_configuration\": {\n",
      "              \"metric_name\": \"column_values.length.max\",\n",
      "              \"domain_kwargs\": {\n",
      "                \"column\": \"proj\"\n",
      "              },\n",
      "              \"metric_value_kwargs\": null,\n",
      "              \"metric_dependencies\": null\n",
      "            },\n",
      "            \"num_batches\": 1\n",
      "          }\n",
      "        }\n",
      "      },\n",
      "      \"expectation_type\": \"expect_column_value_lengths_to_be_between\"\n",
      "    },\n",
      "    {\n",
      "      \"kwargs\": {\n",
      "        \"column\": \"proj\",\n",
      "        \"mostly\": 1.0,\n",
      "        \"regex\": \"(?:25[0-5]|2[0-4]\\\\d|[01]\\\\d{2}|\\\\d{1,2})(?:.(?:25[0-5]|2[0-4]\\\\d|[01]\\\\d{2}|\\\\d{1,2})){3}\"\n",
      "      },\n",
      "      \"meta\": {\n",
      "        \"profiler_details\": {\n",
      "          \"success_ratio\": 1.0,\n",
      "          \"evaluated_regexes\": {\n",
      "            \"(?:25[0-5]|2[0-4]\\\\d|[01]\\\\d{2}|\\\\d{1,2})(?:.(?:25[0-5]|2[0-4]\\\\d|[01]\\\\d{2}|\\\\d{1,2})){3}\": 1.0,\n",
      "            \"(?:[A-Fa-f0-9]){0,4}(?: ?:? ?(?:[A-Fa-f0-9]){0,4}){0,7}\": 1.0,\n",
      "            \"-?\\\\d+\": 1.0,\n",
      "            \"-?\\\\d+(?:\\\\.\\\\d*)?\": 1.0,\n",
      "            \"[A-Za-z0-9\\\\.,;:!?()\\\\\\\"'%\\\\-]+\": 1.0,\n",
      "            \"\\\\d+\": 1.0,\n",
      "            \"\\\\s+$\": 1.0,\n",
      "            \"<\\\\/?(?:p|a|b|img)(?: \\\\/)?>\": 0.0,\n",
      "            \"\\\\b[0-9a-fA-F]{8}\\\\b-[0-9a-fA-F]{4}-[0-5][0-9a-fA-F]{3}-[089ab][0-9a-fA-F]{3}-\\\\b[0-9a-fA-F]{12}\\\\b \": 0.0,\n",
      "            \"^\\\\s+\": 0.0,\n",
      "            \"https?:\\\\/\\\\/(?:www\\\\.)?[-a-zA-Z0-9@:%._\\\\+~#=]{2,255}\\\\.[a-z]{2,6}\\\\b(?:[-a-zA-Z0-9@:%_\\\\+.~#()?&//=]*)\": 0.0\n",
      "          }\n",
      "        }\n",
      "      },\n",
      "      \"expectation_type\": \"expect_column_values_to_match_regex\"\n",
      "    },\n",
      "    {\n",
      "      \"kwargs\": {\n",
      "        \"value_set\": [\n",
      "          \"Lightning\",\n",
      "          \"Flash Flood\",\n",
      "          \"Hail\",\n",
      "          \"Funnel Cloud\",\n",
      "          \"Thunderstorm Wind\",\n",
      "          \"Heavy Rain\",\n",
      "          \"Tornado\",\n",
      "          \"Flood\"\n",
      "        ],\n",
      "        \"column\": \"event_type\",\n",
      "        \"mostly\": 1.0\n",
      "      },\n",
      "      \"meta\": {\n",
      "        \"profiler_details\": {\n",
      "          \"metric_configuration\": {\n",
      "            \"metric_name\": \"column.distinct_values\",\n",
      "            \"domain_kwargs\": {\n",
      "              \"column\": \"event_type\"\n",
      "            },\n",
      "            \"metric_value_kwargs\": null,\n",
      "            \"metric_dependencies\": null\n",
      "          },\n",
      "          \"num_batches\": 1,\n",
      "          \"parse_strings_as_datetimes\": false\n",
      "        }\n",
      "      },\n",
      "      \"expectation_type\": \"expect_column_values_to_be_in_set\"\n",
      "    },\n",
      "    {\n",
      "      \"kwargs\": {\n",
      "        \"min_value\": 8,\n",
      "        \"strict_max\": false,\n",
      "        \"strict_min\": false,\n",
      "        \"column\": \"event_type\",\n",
      "        \"max_value\": 8\n",
      "      },\n",
      "      \"meta\": {\n",
      "        \"profiler_details\": {\n",
      "          \"metric_configuration\": {\n",
      "            \"metric_name\": \"column.distinct_values.count\",\n",
      "            \"domain_kwargs\": {\n",
      "              \"column\": \"event_type\"\n",
      "            },\n",
      "            \"metric_value_kwargs\": null,\n",
      "            \"metric_dependencies\": null\n",
      "          },\n",
      "          \"num_batches\": 1\n",
      "        }\n",
      "      },\n",
      "      \"expectation_type\": \"expect_column_unique_value_count_to_be_between\"\n",
      "    },\n",
      "    {\n",
      "      \"kwargs\": {\n",
      "        \"min_value\": 0.0004806536890170632,\n",
      "        \"strict_max\": false,\n",
      "        \"strict_min\": false,\n",
      "        \"column\": \"event_type\",\n",
      "        \"max_value\": 0.0004806536890170632\n",
      "      },\n",
      "      \"meta\": {\n",
      "        \"profiler_details\": {\n",
      "          \"metric_configuration\": {\n",
      "            \"metric_name\": \"column.unique_proportion\",\n",
      "            \"domain_kwargs\": {\n",
      "              \"column\": \"event_type\"\n",
      "            },\n",
      "            \"metric_value_kwargs\": null,\n",
      "            \"metric_dependencies\": null\n",
      "          },\n",
      "          \"num_batches\": 1\n",
      "        }\n",
      "      },\n",
      "      \"expectation_type\": \"expect_column_proportion_of_unique_values_to_be_between\"\n",
      "    },\n",
      "    {\n",
      "      \"kwargs\": {\n",
      "        \"value_set\": [\n",
      "          \"+proj=laea +lat_0=38 +lon_0=-98 +units=m +a=6370997.0 +ellps=sphere \"\n",
      "        ],\n",
      "        \"column\": \"proj\",\n",
      "        \"mostly\": 1.0\n",
      "      },\n",
      "      \"meta\": {\n",
      "        \"profiler_details\": {\n",
      "          \"metric_configuration\": {\n",
      "            \"metric_name\": \"column.distinct_values\",\n",
      "            \"domain_kwargs\": {\n",
      "              \"column\": \"proj\"\n",
      "            },\n",
      "            \"metric_value_kwargs\": null,\n",
      "            \"metric_dependencies\": null\n",
      "          },\n",
      "          \"num_batches\": 1,\n",
      "          \"parse_strings_as_datetimes\": false\n",
      "        }\n",
      "      },\n",
      "      \"expectation_type\": \"expect_column_values_to_be_in_set\"\n",
      "    },\n",
      "    {\n",
      "      \"kwargs\": {\n",
      "        \"min_value\": 1,\n",
      "        \"strict_max\": false,\n",
      "        \"strict_min\": false,\n",
      "        \"column\": \"proj\",\n",
      "        \"max_value\": 1\n",
      "      },\n",
      "      \"meta\": {\n",
      "        \"profiler_details\": {\n",
      "          \"metric_configuration\": {\n",
      "            \"metric_name\": \"column.distinct_values.count\",\n",
      "            \"domain_kwargs\": {\n",
      "              \"column\": \"proj\"\n",
      "            },\n",
      "            \"metric_value_kwargs\": null,\n",
      "            \"metric_dependencies\": null\n",
      "          },\n",
      "          \"num_batches\": 1\n",
      "        }\n",
      "      },\n",
      "      \"expectation_type\": \"expect_column_unique_value_count_to_be_between\"\n",
      "    },\n",
      "    {\n",
      "      \"kwargs\": {\n",
      "        \"min_value\": 1.3157202252513026e-05,\n",
      "        \"strict_max\": false,\n",
      "        \"strict_min\": false,\n",
      "        \"column\": \"proj\",\n",
      "        \"max_value\": 1.3157202252513026e-05\n",
      "      },\n",
      "      \"meta\": {\n",
      "        \"profiler_details\": {\n",
      "          \"metric_configuration\": {\n",
      "            \"metric_name\": \"column.unique_proportion\",\n",
      "            \"domain_kwargs\": {\n",
      "              \"column\": \"proj\"\n",
      "            },\n",
      "            \"metric_value_kwargs\": null,\n",
      "            \"metric_dependencies\": null\n",
      "          },\n",
      "          \"num_batches\": 1\n",
      "        }\n",
      "      },\n",
      "      \"expectation_type\": \"expect_column_proportion_of_unique_values_to_be_between\"\n",
      "    },\n",
      "    {\n",
      "      \"kwargs\": {\n",
      "        \"value_set\": [\n",
      "          48,\n",
      "          768,\n",
      "          384,\n",
      "          192\n",
      "        ],\n",
      "        \"column\": \"size_x\",\n",
      "        \"mostly\": 1.0\n",
      "      },\n",
      "      \"meta\": {\n",
      "        \"profiler_details\": {\n",
      "          \"metric_configuration\": {\n",
      "            \"metric_name\": \"column.distinct_values\",\n",
      "            \"domain_kwargs\": {\n",
      "              \"column\": \"size_x\"\n",
      "            },\n",
      "            \"metric_value_kwargs\": null,\n",
      "            \"metric_dependencies\": null\n",
      "          },\n",
      "          \"num_batches\": 1,\n",
      "          \"parse_strings_as_datetimes\": false\n",
      "        }\n",
      "      },\n",
      "      \"expectation_type\": \"expect_column_values_to_be_in_set\"\n",
      "    },\n",
      "    {\n",
      "      \"kwargs\": {\n",
      "        \"min_value\": 4,\n",
      "        \"strict_max\": false,\n",
      "        \"strict_min\": false,\n",
      "        \"column\": \"size_x\",\n",
      "        \"max_value\": 4\n",
      "      },\n",
      "      \"meta\": {\n",
      "        \"profiler_details\": {\n",
      "          \"metric_configuration\": {\n",
      "            \"metric_name\": \"column.distinct_values.count\",\n",
      "            \"domain_kwargs\": {\n",
      "              \"column\": \"size_x\"\n",
      "            },\n",
      "            \"metric_value_kwargs\": null,\n",
      "            \"metric_dependencies\": null\n",
      "          },\n",
      "          \"num_batches\": 1\n",
      "        }\n",
      "      },\n",
      "      \"expectation_type\": \"expect_column_unique_value_count_to_be_between\"\n",
      "    },\n",
      "    {\n",
      "      \"kwargs\": {\n",
      "        \"min_value\": 5.2628809010052104e-05,\n",
      "        \"strict_max\": false,\n",
      "        \"strict_min\": false,\n",
      "        \"column\": \"size_x\",\n",
      "        \"max_value\": 5.2628809010052104e-05\n",
      "      },\n",
      "      \"meta\": {\n",
      "        \"profiler_details\": {\n",
      "          \"metric_configuration\": {\n",
      "            \"metric_name\": \"column.unique_proportion\",\n",
      "            \"domain_kwargs\": {\n",
      "              \"column\": \"size_x\"\n",
      "            },\n",
      "            \"metric_value_kwargs\": null,\n",
      "            \"metric_dependencies\": null\n",
      "          },\n",
      "          \"num_batches\": 1\n",
      "        }\n",
      "      },\n",
      "      \"expectation_type\": \"expect_column_proportion_of_unique_values_to_be_between\"\n",
      "    },\n",
      "    {\n",
      "      \"kwargs\": {\n",
      "        \"value_set\": [\n",
      "          48,\n",
      "          768,\n",
      "          384,\n",
      "          192\n",
      "        ],\n",
      "        \"column\": \"size_y\",\n",
      "        \"mostly\": 1.0\n",
      "      },\n",
      "      \"meta\": {\n",
      "        \"profiler_details\": {\n",
      "          \"metric_configuration\": {\n",
      "            \"metric_name\": \"column.distinct_values\",\n",
      "            \"domain_kwargs\": {\n",
      "              \"column\": \"size_y\"\n",
      "            },\n",
      "            \"metric_value_kwargs\": null,\n",
      "            \"metric_dependencies\": null\n",
      "          },\n",
      "          \"num_batches\": 1,\n",
      "          \"parse_strings_as_datetimes\": false\n",
      "        }\n",
      "      },\n",
      "      \"expectation_type\": \"expect_column_values_to_be_in_set\"\n",
      "    },\n",
      "    {\n",
      "      \"kwargs\": {\n",
      "        \"min_value\": 4,\n",
      "        \"strict_max\": false,\n",
      "        \"strict_min\": false,\n",
      "        \"column\": \"size_y\",\n",
      "        \"max_value\": 4\n",
      "      },\n",
      "      \"meta\": {\n",
      "        \"profiler_details\": {\n",
      "          \"metric_configuration\": {\n",
      "            \"metric_name\": \"column.distinct_values.count\",\n",
      "            \"domain_kwargs\": {\n",
      "              \"column\": \"size_y\"\n",
      "            },\n",
      "            \"metric_value_kwargs\": null,\n",
      "            \"metric_dependencies\": null\n",
      "          },\n",
      "          \"num_batches\": 1\n",
      "        }\n",
      "      },\n",
      "      \"expectation_type\": \"expect_column_unique_value_count_to_be_between\"\n",
      "    },\n",
      "    {\n",
      "      \"kwargs\": {\n",
      "        \"min_value\": 5.2628809010052104e-05,\n",
      "        \"strict_max\": false,\n",
      "        \"strict_min\": false,\n",
      "        \"column\": \"size_y\",\n",
      "        \"max_value\": 5.2628809010052104e-05\n",
      "      },\n",
      "      \"meta\": {\n",
      "        \"profiler_details\": {\n",
      "          \"metric_configuration\": {\n",
      "            \"metric_name\": \"column.unique_proportion\",\n",
      "            \"domain_kwargs\": {\n",
      "              \"column\": \"size_y\"\n",
      "            },\n",
      "            \"metric_value_kwargs\": null,\n",
      "            \"metric_dependencies\": null\n",
      "          },\n",
      "          \"num_batches\": 1\n",
      "        }\n",
      "      },\n",
      "      \"expectation_type\": \"expect_column_proportion_of_unique_values_to_be_between\"\n",
      "    },\n",
      "    {\n",
      "      \"kwargs\": {\n",
      "        \"value_set\": [\n",
      "          384000.0\n",
      "        ],\n",
      "        \"column\": \"height_m\",\n",
      "        \"mostly\": 1.0\n",
      "      },\n",
      "      \"meta\": {\n",
      "        \"profiler_details\": {\n",
      "          \"metric_configuration\": {\n",
      "            \"metric_name\": \"column.distinct_values\",\n",
      "            \"domain_kwargs\": {\n",
      "              \"column\": \"height_m\"\n",
      "            },\n",
      "            \"metric_value_kwargs\": null,\n",
      "            \"metric_dependencies\": null\n",
      "          },\n",
      "          \"num_batches\": 1,\n",
      "          \"parse_strings_as_datetimes\": false\n",
      "        }\n",
      "      },\n",
      "      \"expectation_type\": \"expect_column_values_to_be_in_set\"\n",
      "    },\n",
      "    {\n",
      "      \"kwargs\": {\n",
      "        \"min_value\": 1,\n",
      "        \"strict_max\": false,\n",
      "        \"strict_min\": false,\n",
      "        \"column\": \"height_m\",\n",
      "        \"max_value\": 1\n",
      "      },\n",
      "      \"meta\": {\n",
      "        \"profiler_details\": {\n",
      "          \"metric_configuration\": {\n",
      "            \"metric_name\": \"column.distinct_values.count\",\n",
      "            \"domain_kwargs\": {\n",
      "              \"column\": \"height_m\"\n",
      "            },\n",
      "            \"metric_value_kwargs\": null,\n",
      "            \"metric_dependencies\": null\n",
      "          },\n",
      "          \"num_batches\": 1\n",
      "        }\n",
      "      },\n",
      "      \"expectation_type\": \"expect_column_unique_value_count_to_be_between\"\n",
      "    },\n",
      "    {\n",
      "      \"kwargs\": {\n",
      "        \"min_value\": 1.3157202252513026e-05,\n",
      "        \"strict_max\": false,\n",
      "        \"strict_min\": false,\n",
      "        \"column\": \"height_m\",\n",
      "        \"max_value\": 1.3157202252513026e-05\n",
      "      },\n",
      "      \"meta\": {\n",
      "        \"profiler_details\": {\n",
      "          \"metric_configuration\": {\n",
      "            \"metric_name\": \"column.unique_proportion\",\n",
      "            \"domain_kwargs\": {\n",
      "              \"column\": \"height_m\"\n",
      "            },\n",
      "            \"metric_value_kwargs\": null,\n",
      "            \"metric_dependencies\": null\n",
      "          },\n",
      "          \"num_batches\": 1\n",
      "        }\n",
      "      },\n",
      "      \"expectation_type\": \"expect_column_proportion_of_unique_values_to_be_between\"\n",
      "    },\n",
      "    {\n",
      "      \"kwargs\": {\n",
      "        \"value_set\": [\n",
      "          384000.0\n",
      "        ],\n",
      "        \"column\": \"width_m\",\n",
      "        \"mostly\": 1.0\n",
      "      },\n",
      "      \"meta\": {\n",
      "        \"profiler_details\": {\n",
      "          \"metric_configuration\": {\n",
      "            \"metric_name\": \"column.distinct_values\",\n",
      "            \"domain_kwargs\": {\n",
      "              \"column\": \"width_m\"\n",
      "            },\n",
      "            \"metric_value_kwargs\": null,\n",
      "            \"metric_dependencies\": null\n",
      "          },\n",
      "          \"num_batches\": 1,\n",
      "          \"parse_strings_as_datetimes\": false\n",
      "        }\n",
      "      },\n",
      "      \"expectation_type\": \"expect_column_values_to_be_in_set\"\n",
      "    },\n",
      "    {\n",
      "      \"kwargs\": {\n",
      "        \"min_value\": 1,\n",
      "        \"strict_max\": false,\n",
      "        \"strict_min\": false,\n",
      "        \"column\": \"width_m\",\n",
      "        \"max_value\": 1\n",
      "      },\n",
      "      \"meta\": {\n",
      "        \"profiler_details\": {\n",
      "          \"metric_configuration\": {\n",
      "            \"metric_name\": \"column.distinct_values.count\",\n",
      "            \"domain_kwargs\": {\n",
      "              \"column\": \"width_m\"\n",
      "            },\n",
      "            \"metric_value_kwargs\": null,\n",
      "            \"metric_dependencies\": null\n",
      "          },\n",
      "          \"num_batches\": 1\n",
      "        }\n",
      "      },\n",
      "      \"expectation_type\": \"expect_column_unique_value_count_to_be_between\"\n",
      "    },\n",
      "    {\n",
      "      \"kwargs\": {\n",
      "        \"min_value\": 1.3157202252513026e-05,\n",
      "        \"strict_max\": false,\n",
      "        \"strict_min\": false,\n",
      "        \"column\": \"width_m\",\n",
      "        \"max_value\": 1.3157202252513026e-05\n",
      "      },\n",
      "      \"meta\": {\n",
      "        \"profiler_details\": {\n",
      "          \"metric_configuration\": {\n",
      "            \"metric_name\": \"column.unique_proportion\",\n",
      "            \"domain_kwargs\": {\n",
      "              \"column\": \"width_m\"\n",
      "            },\n",
      "            \"metric_value_kwargs\": null,\n",
      "            \"metric_dependencies\": null\n",
      "          },\n",
      "          \"num_batches\": 1\n",
      "        }\n",
      "      },\n",
      "      \"expectation_type\": \"expect_column_proportion_of_unique_values_to_be_between\"\n",
      "    }\n",
      "  ],\n",
      "  \"ge_cloud_id\": null,\n",
      "  \"expectation_suite_name\": \"GTTest2\",\n",
      "  \"meta\": {\n",
      "    \"great_expectations_version\": \"0.15.28\",\n",
      "    \"citations\": [\n",
      "      {\n",
      "        \"citation_date\": \"2022-11-12T20:30:22.444502Z\",\n",
      "        \"comment\": \"Created by effective Rule-Based Profiler of OnboardingDataAssistant with the configuration included.\\n\"\n",
      "      }\n",
      "    ]\n",
      "  },\n",
      "  \"data_asset_type\": null\n",
      "}\n",
      "2022-11-12T15:30:30-0500 - INFO - \t111 expectation(s) included in expectation_suite.\n",
      "2022-11-12T15:30:30-0500 - INFO - \t111 expectation(s) included in expectation_suite.\n"
     ]
    },
    {
     "name": "stderr",
     "output_type": "stream",
     "text": [
      "/Users/samk/opt/anaconda3/lib/python3.9/site-packages/great_expectations/execution_engine/pandas_execution_engine.py:325: DtypeWarning: Columns (5) have mixed types. Specify dtype option on import or set low_memory=False.\n",
      "  df = reader_fn(path, **reader_options)\n"
     ]
    },
    {
     "data": {
      "application/vnd.jupyter.widget-view+json": {
       "model_id": "f602e720e55c4fdfb56a0079dbf13bb9",
       "version_major": 2,
       "version_minor": 0
      },
      "text/plain": [
       "Calculating Metrics:   0%|          | 0/182 [00:00<?, ?it/s]"
      ]
     },
     "metadata": {},
     "output_type": "display_data"
    },
    {
     "name": "stderr",
     "output_type": "stream",
     "text": [
      "/Users/samk/opt/anaconda3/lib/python3.9/site-packages/jinja2/environment.py:1088: DeprecationWarning: 'soft_unicode' has been renamed to 'soft_str'. The old name will be removed in MarkupSafe 2.1.\n",
      "  return concat(self.root_render_func(self.new_context(vars)))\n"
     ]
    }
   ],
   "source": [
    "print(validator.get_expectation_suite(discard_failed_expectations=False))\n",
    "validator.save_expectation_suite(discard_failed_expectations=False)\n",
    "\n",
    "checkpoint_config = {\n",
    "    \"class_name\": \"SimpleCheckpoint\",\n",
    "    \"validations\": [\n",
    "        {\n",
    "            \"batch_request\": batch_request,\n",
    "            \"expectation_suite_name\": expectation_suite_name,\n",
    "        }\n",
    "    ],\n",
    "}\n",
    "checkpoint = SimpleCheckpoint(\n",
    "    f\"{validator.active_batch_definition.data_asset_name}_{expectation_suite_name}\",\n",
    "    context,\n",
    "    **checkpoint_config,\n",
    ")\n",
    "checkpoint_result = checkpoint.run()\n",
    "\n",
    "context.build_data_docs()\n",
    "\n",
    "validation_result_identifier = checkpoint_result.list_validation_result_identifiers()[0]\n",
    "context.open_data_docs(resource_identifier=validation_result_identifier)"
   ]
  },
  {
   "cell_type": "markdown",
   "id": "6a72bf87",
   "metadata": {},
   "source": [
    "## Next steps\n",
    "After you review this initial Expectation Suite in Data Docs you\n",
    "should edit this suite to make finer grained adjustments to the expectations.\n",
    "This can be done by running `great_expectations suite edit GTTest2`."
   ]
  }
 ],
 "metadata": {
  "kernelspec": {
   "display_name": "Python 3 (ipykernel)",
   "language": "python",
   "name": "python3"
  },
  "language_info": {
   "codemirror_mode": {
    "name": "ipython",
    "version": 3
   },
   "file_extension": ".py",
   "mimetype": "text/x-python",
   "name": "python",
   "nbconvert_exporter": "python",
   "pygments_lexer": "ipython3",
   "version": "3.9.12"
  }
 },
 "nbformat": 4,
 "nbformat_minor": 5
}
